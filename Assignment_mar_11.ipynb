{
 "cells": [
  {
   "cell_type": "markdown",
   "id": "78c0cf56-b39f-4183-ab16-50186b16c78b",
   "metadata": {},
   "source": [
    "# Assignment"
   ]
  },
  {
   "cell_type": "markdown",
   "id": "a6f79d43-bf09-497c-859c-62c22c957f69",
   "metadata": {},
   "source": [
    "### Ans1)"
   ]
  },
  {
   "cell_type": "markdown",
   "id": "f4134a9c-da7a-4042-a48e-2383c08186ba",
   "metadata": {},
   "source": [
    "A t-test and a z-test are both statistical tests used to determine whether a sample is significantly different from a population. However, there are some differences in the scenarios where they are applicable and in their assumptions.\n",
    "\n",
    "A t-test is used when the sample size is small (less than 30) or when the population standard deviation is unknown. It is also used when the population distribution is approximately normal. A t-test uses a t-distribution to determine the significance of the difference between the sample and the population means.\n",
    "\n",
    "An example scenario where a t-test would be appropriate is if a researcher wanted to determine whether there was a significant difference in the mean weight of apples from two different farms. The researcher could take a sample of apples from each farm and use a t-test to determine if the difference in the means was statistically significant.\n",
    "\n",
    "A z-test, on the other hand, is used when the sample size is large (greater than 30) or when the population standard deviation is known. It is also used when the population distribution is approximately normal. A z-test uses a standard normal distribution to determine the significance of the difference between the sample and the population means.\n",
    "\n",
    "An example scenario where a z-test would be appropriate is if a researcher wanted to determine whether there was a significant difference in the mean height of adult males in a certain country compared to a known population mean height of adult males. The researcher could take a large sample of adult males from the country and use a z-test to determine if the difference in the means was statistically significant."
   ]
  },
  {
   "cell_type": "markdown",
   "id": "ef174eb1-c827-4ff2-8dee-88f5c4a72606",
   "metadata": {},
   "source": [
    "### Ans2)"
   ]
  },
  {
   "cell_type": "markdown",
   "id": "cd6a293b-fb6e-4d27-bbb2-52a68a9ee1f9",
   "metadata": {},
   "source": [
    "In hypothesis testing, a one-tailed test (also known as a directional test) and a two-tailed test (also known as a non-directional test) are two different types of statistical tests used to determine whether a null hypothesis can be rejected or not.\n",
    "\n",
    "A one-tailed test is a statistical test in which the alternative hypothesis is stated in terms of a direction (e.g., \"the mean is greater than X\" or \"the mean is less than X\"). The one-tailed test is used when the research hypothesis suggests that the difference between the sample mean and the population mean is only in one direction. In other words, the test is looking for evidence of an effect in only one direction.\n",
    "\n",
    "A two-tailed test, on the other hand, is a statistical test in which the alternative hypothesis is stated in terms of the difference between the sample mean and the population mean (e.g., \"the mean is not equal to X\"). The two-tailed test is used when the research hypothesis suggests that the difference between the sample mean and the population mean could be in either direction."
   ]
  },
  {
   "cell_type": "markdown",
   "id": "4ab68908-f100-4e4f-9d6e-8a60076afda1",
   "metadata": {},
   "source": [
    "### Ans3)"
   ]
  },
  {
   "cell_type": "markdown",
   "id": "5f300c07-f55c-48bd-bfba-c96163c4ba40",
   "metadata": {},
   "source": [
    "In hypothesis testing, Type 1 and Type 2 errors are the two types of errors that can occur when making a decision about a hypothesis.\n",
    "\n",
    "Type 1 Error:\n",
    "A Type 1 error occurs when a null hypothesis is rejected even though it is true. In other words, it is a false positive result. This error can occur when the level of significance chosen for the test is too high, or when there is a small sample size or a large variability in the data.\n",
    "\n",
    "An example scenario of a Type 1 error is a drug trial in which a new drug is tested to see if it is effective in treating a particular condition. If the drug is ineffective, but the trial concludes that it is effective due to an error in the statistical analysis, this is a Type 1 error. The consequence of a Type 1 error could be that the drug is approved for use even though it is not effective, leading to negative health consequences for patients and wasted resources.\n",
    "\n",
    "Type 2 Error:\n",
    "A Type 2 error occurs when a null hypothesis is not rejected even though it is false. In other words, it is a false negative result. This error can occur when the level of significance chosen for the test is too low, or when there is a large sample size or a small variability in the data.\n",
    "\n",
    "An example scenario of a Type 2 error is in a criminal trial where a defendant is accused of a crime. If the defendant is innocent, but the trial concludes that they are guilty due to an error in the statistical analysis, this is a Type 2 error. The consequence of a Type 2 error could be that an innocent person is wrongly convicted and punished for a crime they did not commit."
   ]
  },
  {
   "cell_type": "markdown",
   "id": "1ce57071-95af-4dfa-8e79-26fa1f14589e",
   "metadata": {},
   "source": [
    "### Ans4)"
   ]
  },
  {
   "cell_type": "markdown",
   "id": "83545464-f2ad-4065-809f-f71a026397cc",
   "metadata": {},
   "source": [
    "Bayes's theorem is a mathematical formula used to update the probability of a hypothesis as new evidence becomes available. The theorem is named after Reverend Thomas Bayes, an 18th-century statistician and theologian.\n",
    "\n",
    "Bayes's theorem states that the probability of a hypothesis (H) given the data (D) is equal to the probability of the data given the hypothesis multiplied by the prior probability of the hypothesis, divided by the probability of the data:\n",
    "\n",
    "P(H | D) = P(D | H) x P(H) / P(D)\n",
    "\n",
    "where:\n",
    "\n",
    "P(H | D) is the probability of the hypothesis given the data\n",
    "\n",
    "P(D | H) is the probability of the data given the hypothesis\n",
    "\n",
    "P(H) is the prior probability of the hypothesis\n",
    "\n",
    "P(D) is the probability of the data\n",
    "\n",
    "To better understand Bayes's theorem, consider an example:\n",
    "\n",
    "Suppose a medical test is available to detect a certain disease that affects 1% of the population. The test is 95% accurate, meaning that it correctly identifies 95% of people who have the disease and 95% of people who do not have the disease. A person is chosen at random and takes the test, which comes back positive. What is the probability that the person has the disease?\n",
    "\n",
    "Using Bayes's theorem, we can calculate the probability of the person having the disease given the positive test result:\n",
    "\n",
    "P(Disease | Positive Test) = P(Positive Test | Disease) x P(Disease) / P(Positive Test)\n",
    "\n",
    "where:\n",
    "\n",
    "P(Disease | Positive Test) is the probability of the person having the disease given the positive test result\n",
    "\n",
    "P(Positive Test | Disease) is the probability of a positive test given that the person has the disease (which is the test's accuracy rate of 95%)\n",
    "\n",
    "P(Disease) is the prior probability of the person having the disease (which is 1%)\n",
    "\n",
    "P(Positive Test) is the probability of a positive test, which can be calculated as the sum of the probabilities of a true positive and a false positive:\n",
    "\n",
    "P(Positive Test) = P(Positive Test | Disease) x P(Disease) + P(Positive Test | No Disease) x P(No Disease)\n",
    "\n",
    "Substituting the values in the equation, we get:\n",
    "\n",
    "P(Disease | Positive Test) = 0.95 x 0.01 / (0.95 x 0.01 + 0.05 x 0.99)\n",
    "\n",
    "P(Disease | Positive Test) = 0.161\n",
    "\n",
    "Therefore, the probability of the person having the disease given the positive test result is 16.1%, which is relatively low despite the positive test result. This example illustrates how Bayes's theorem can be used to update our beliefs about the likelihood of a hypothesis as new evidence becomes available."
   ]
  },
  {
   "cell_type": "markdown",
   "id": "2fd7b37e-2fb9-41f8-9bc1-0a2d6b496939",
   "metadata": {},
   "source": [
    "### Ans5)"
   ]
  },
  {
   "cell_type": "markdown",
   "id": "741472d1-9742-483e-a4da-1ecb5b557d26",
   "metadata": {},
   "source": [
    "A confidence interval is a range of values that is likely to contain the true value of a population parameter with a certain level of confidence. It is a way of quantifying the uncertainty associated with an estimate.\n",
    "\n",
    "A confidence interval is calculated using a point estimate of the parameter, such as the mean or proportion, and the standard error of the estimate. The standard error reflects the variability in the data and the sample size.\n",
    "\n",
    "The formula for calculating a confidence interval for a population mean is:\n",
    "\n",
    "CI = X̄ ± z * (s / sqrt(n))\n",
    "\n",
    "Where:\n",
    "CI is the confidence interval\n",
    "\n",
    "X̄ is the sample mean\n",
    "\n",
    "z is the z-score associated with the desired level of confidence (e.g., 1.96 for a 95% confidence interval)\n",
    "\n",
    "s is the sample standard deviation\n",
    "\n",
    "n is the sample size\n",
    "\n",
    "For example, suppose you want to estimate the average height of all 20-year-old women in a certain country with a 95% confidence interval. You randomly sample 100 women and measure their heights. The sample mean height is 165 cm, and the sample standard deviation is 6 cm.\n",
    "\n",
    "To calculate the 95% confidence interval for the population mean height, you would use the formula above. The z-score for a 95% confidence level is 1.96, so:\n",
    "\n",
    "CI = 165 ± 1.96 * (6 / sqrt(100))\n",
    "CI = 165 ± 1.18\n",
    "CI = (163.82, 166.18)\n",
    "\n",
    "This means that we can be 95% confident that the true population mean height of 20-year-old women in the country lies between 163.82 cm and 166.18 cm.\n"
   ]
  },
  {
   "cell_type": "markdown",
   "id": "a1870b3b-233e-4d8e-8517-62ea42841918",
   "metadata": {},
   "source": [
    "### Ans6)"
   ]
  },
  {
   "cell_type": "markdown",
   "id": "c94ebc51-d6d0-4256-a3b7-105b2ef8dfe4",
   "metadata": {},
   "source": [
    "Suppose a medical test has a 95% accuracy rate for detecting a particular disease, which occurs in 1% of the population. You have just taken the test and received a positive result. What is the probability that you actually have the disease?\n",
    "\n",
    "Solution:\n",
    "Let A be the event of having the disease, and B be the event of testing positive for the disease.\n",
    "\n",
    "The prior probability of having the disease is P(A) = 0.01, and the prior probability of testing positive given that you have the disease is P(B|A) = 0.95.\n",
    "\n",
    "The probability of testing positive without having the disease is the false positive rate, which is 1 - the specificity of the test. Let's assume that the specificity of the test is 98%, so the probability of testing positive without having the disease is P(B|not A) = 0.02.\n",
    "\n",
    "To calculate the probability of having the disease given a positive test result, we need to use Bayes' theorem:\n",
    "\n",
    "P(A|B) = (P(B|A) * P(A)) / (P(B|A) * P(A) + P(B|not A) * P(not A))\n",
    "\n",
    "P(A|B) = (0.95 * 0.01) / (0.95 * 0.01 + 0.02 * 0.99)\n",
    "\n",
    "P(A|B) = 0.323\n",
    "\n",
    "Therefore, the probability that you actually have the disease given a positive test result is about 32.3%."
   ]
  },
  {
   "cell_type": "markdown",
   "id": "336411ee-fc50-4785-b4f2-d6e4be21c8be",
   "metadata": {},
   "source": [
    "### Ans7)"
   ]
  },
  {
   "cell_type": "markdown",
   "id": "c479e761-395b-48c5-a0e7-a4a21f06d3c8",
   "metadata": {},
   "source": [
    "To calculate the 95% confidence interval for a sample of data with a mean of 50 and a standard deviation of 5, we can use the formula:\n",
    "\n",
    "Confidence interval = sample mean ± (z-score) x (standard deviation / square root of sample size)\n",
    "\n",
    "The z-score for a 95% confidence level is 1.96.\n",
    "\n",
    "Plugging in the values, we get:\n",
    "\n",
    "Confidence interval = 50 ± (1.96) x (5 / sqrt(n))\n",
    "\n",
    "Assuming a sample size of n=30, we can calculate the interval as follows:\n",
    "\n",
    "Confidence interval = 50 ± (1.96) x (5 / sqrt(30))\n",
    "Confidence interval = 50 ± 1.82\n",
    "\n",
    "Therefore, the 95% confidence interval for this sample of data is (48.18, 51.82). This means that if we were to repeat the sampling process many times, 95% of the intervals we construct would contain the true population mean.\n",
    "\n",
    "Interpretation: We can be 95% confident that the true population mean lies within the interval (48.18, 51.82). This means that if we were to take many random samples from the population and calculate the confidence interval for each sample, approximately 95% of those intervals would contain the true population mean."
   ]
  },
  {
   "cell_type": "markdown",
   "id": "db6dc6ad-8fa9-4803-a296-dc2ed1d1daf6",
   "metadata": {},
   "source": [
    "### Ans8)"
   ]
  },
  {
   "cell_type": "markdown",
   "id": "c0a30e22-f9ec-458a-a685-6e3aeb20d1b7",
   "metadata": {},
   "source": [
    "The margin of error in a confidence interval is the range of values that we add and subtract from the point estimate of a population parameter to create a range of possible values in which the true population parameter is likely to lie. It is the measure of the accuracy of the sample estimate, and it is influenced by the sample size and the chosen confidence level.\n",
    "\n",
    "A larger sample size generally results in a smaller margin of error because as the sample size increases, the standard error decreases, and the sample mean becomes a better estimate of the true population mean. This reduces the range of possible values in which the true population parameter is likely to lie, resulting in a narrower confidence interval and a smaller margin of error."
   ]
  },
  {
   "cell_type": "markdown",
   "id": "302402d6-2351-44a6-aef6-46afc09f0667",
   "metadata": {},
   "source": [
    "For example, suppose we want to estimate the average weight of apples produced by a particular orchard with a 95% confidence interval and a margin of error of ± 0.1 pounds. If we sample only 10 apples, the margin of error would be relatively large, say ± 0.5 pounds, making it difficult to make precise inferences about the population parameter. However, if we sample 1000 apples, the margin of error would be smaller, say ± 0.05 pounds, providing a more accurate estimate of the true population parameter."
   ]
  },
  {
   "cell_type": "markdown",
   "id": "e3073a2f-06b3-4e90-8932-c5bbc1e23a98",
   "metadata": {},
   "source": [
    "### Ans9)"
   ]
  },
  {
   "cell_type": "markdown",
   "id": "d9f43196-6dbb-48c7-9472-ec9e13b34344",
   "metadata": {},
   "source": [
    "The formula for calculating the z-score is:\n",
    "\n",
    "z = (x - μ) / σ\n",
    "\n",
    "where x is the data point value, μ is the population mean, and σ is the population standard deviation.\n",
    "\n",
    "Plugging in the values, we get:\n",
    "\n",
    "z = (75 - 70) / 5\n",
    "\n",
    "z = 1\n",
    "\n",
    "Therefore, the z-score for a data point with a value of 75, a population mean of 70, and a population standard deviation of 5 is 1."
   ]
  },
  {
   "cell_type": "markdown",
   "id": "b8c1e4ff-743b-432f-a9d9-10b544c1e0ec",
   "metadata": {},
   "source": [
    "### Ans10)"
   ]
  },
  {
   "cell_type": "markdown",
   "id": "2664c966-34d4-497c-8846-abe57c199eee",
   "metadata": {},
   "source": [
    "Null hypothesis (H0): The mean weight loss in the population of users of the weight loss drug is not significantly different from zero (μ = 0).\n",
    "\n",
    "Alternative hypothesis (H1): The mean weight loss in the population of users of the weight loss drug is significantly different from zero (μ ≠ 0).\n",
    "\n",
    "We will use a t-test for this hypothesis test because we are dealing with a small sample size (n = 50) and we don't know the population standard deviation.\n",
    "\n",
    "The formula for calculating the t-score is:\n",
    "\n",
    "t = (x̄ - μ) / (s / sqrt(n))\n",
    "\n",
    "where x̄ is the sample mean, μ is the population mean (null hypothesis value), s is the sample standard deviation, and n is the sample size.\n",
    "\n",
    "t = (6 - 0) / (2.5 / sqrt(50))\n",
    "\n",
    "t = 18.97\n",
    "\n",
    "The degrees of freedom (df) for this t-test is 49 (n - 1).\n",
    "\n",
    "Looking up the critical t-value for a two-tailed t-test with 49 degrees of freedom and a 95% confidence level in a t-table, we find that the critical t-value is approximately ±2.009.\n",
    "\n",
    "Since our calculated t-score (18.97) is much larger than the critical t-value (2.009), we can reject the null hypothesis and conclude that the mean weight loss in the population of users of the weight loss drug is significantly different from zero at a 95% confidence level."
   ]
  },
  {
   "cell_type": "markdown",
   "id": "689a10ee-ad3f-465c-aed1-905c8900b263",
   "metadata": {},
   "source": [
    "### Ans11)"
   ]
  },
  {
   "cell_type": "markdown",
   "id": "de788b5b-21fd-4984-b912-003d5201be59",
   "metadata": {},
   "source": [
    "To calculate the 95% confidence interval for the true proportion of people who are satisfied with their job, we can use the following formula:\n",
    "\n",
    "CI = p ± z* sqrt((p*(1-p))/n)\n",
    "\n",
    "where:\n",
    "\n",
    "p is the sample proportion (65% or 0.65)\n",
    "\n",
    "z* is the critical z-value for a 95% confidence interval (1.96, obtained from a standard normal distribution table)\n",
    "\n",
    "n is the sample size (500)\n",
    "\n",
    "CI = 0.65 ± 1.96sqrt((0.65(1-0.65))/500)\n",
    "\n",
    "CI = 0.65 ± 0.041\n",
    "\n",
    "Therefore, the 95% confidence interval for the true proportion of people who are satisfied with their job is 0.609 to 0.691."
   ]
  },
  {
   "cell_type": "markdown",
   "id": "a91d369e-d758-4e1a-bcdc-df80df2f1c04",
   "metadata": {},
   "source": [
    "### Ans12)"
   ]
  },
  {
   "cell_type": "markdown",
   "id": "2c39605a-d0cb-4d2c-8aa7-5355df5fdc48",
   "metadata": {},
   "source": [
    "Null hypothesis (H0): The means of the two populations are not significantly different (μA - μB = 0).\n",
    "\n",
    "Alternative hypothesis (H1): The means of the two populations are significantly different (μA - μB ≠ 0)."
   ]
  },
  {
   "cell_type": "markdown",
   "id": "24f4ab2f-cdaf-4fc4-846e-71b1dff2bb80",
   "metadata": {},
   "source": [
    "We will use a two-sample t-test for independent samples because we have two samples with different means and standard deviations, and we don't know the population standard deviation.\n",
    "\n",
    "The formula for calculating the t-score for independent samples is:\n",
    "\n",
    "t = (x̄1 - x̄2 - D) / sqrt[(s1^2 / n1) + (s2^2 / n2)]\n",
    "\n",
    "t = (85 - 82 - 0) / sqrt[(6^2 / 1) + (5^2 / 1)]\n",
    "\n",
    "t = 3 / sqrt[36 + 25]\n",
    "\n",
    "t = 3 / 8.6\n",
    "\n",
    "t = 0.35\n",
    "\n",
    "The degrees of freedom (df) for this t-test is the sum of the sample sizes minus 2 (df = n1 + n2 - 2 = 2).\n",
    "\n",
    "Looking up the critical t-value for a two-tailed t-test with 2 degrees of freedom and a significance level of 0.01 in a t-table, we find that the critical t-value is approximately ±6.965.\n",
    "\n",
    "Since our calculated t-score (0.35) is much smaller than the critical t-value (6.965), we cannot reject the null hypothesis and conclude that there is no significant difference in student performance between the two teaching methods at a significance level of 0.01."
   ]
  },
  {
   "cell_type": "markdown",
   "id": "66174bdb-4d76-4c17-afe5-e3082226950b",
   "metadata": {},
   "source": [
    "### Ans13)"
   ]
  },
  {
   "cell_type": "markdown",
   "id": "32d651b1-910f-40a1-8a21-95a06396713a",
   "metadata": {},
   "source": [
    "To calculate the 90% confidence interval for the true population mean, we can use the following formula:\n",
    "\n",
    "CI = x̄ ± z* (s / sqrt(n))\n",
    "\n",
    "where:\n",
    "\n",
    "x̄ is the sample mean (65)\n",
    "\n",
    "s is the sample standard deviation (8)\n",
    "\n",
    "n is the sample size (50)\n",
    "\n",
    "z* is the critical z-value for a 90% confidence interval (1.645, obtained from a standard normal distribution table)\n",
    "\n",
    "Plugging in the values, we get:\n",
    "\n",
    "CI = 65 ± 1.645* (8 / sqrt(50))\n",
    "\n",
    "Simplifying the formula, we get:\n",
    "\n",
    "CI = 65 ± 2.309\n",
    "\n",
    "Therefore, the 90% confidence interval for the true population mean is 62.691 to 67.309."
   ]
  },
  {
   "cell_type": "markdown",
   "id": "b2f291e5-2429-4d30-91b0-53a5330528ff",
   "metadata": {},
   "source": [
    "### Ans14)"
   ]
  },
  {
   "cell_type": "markdown",
   "id": "3ee046b0-08e1-4ff1-864a-632c4f84c8de",
   "metadata": {},
   "source": [
    "Null hypothesis: Caffeine has no significant effect on reaction time. (μ = 0.25)\n",
    "\n",
    "Alternative hypothesis: Caffeine has a significant effect on reaction time. (μ ≠ 0.25)"
   ]
  },
  {
   "cell_type": "markdown",
   "id": "5f63b1e9-1107-494a-8709-1eb14a9b248d",
   "metadata": {},
   "source": [
    "Next, we can calculate the t-value using the formula:\n",
    "\n",
    "t = (x̄ - μ) / (s / √n)"
   ]
  },
  {
   "cell_type": "markdown",
   "id": "f9d0a702-4951-4757-862e-f8b606bb111e",
   "metadata": {},
   "source": [
    "t = (0.25 - 0.25) / (0.05 / √30) = 0 / 0.00914 = 0\n",
    "\n",
    "The t-value is 0.\n",
    "\n",
    "To find the critical t-value, we need to use the t-distribution table with degrees of freedom (df) equal to n - 1. In this case, df = 30 - 1 = 29.\n",
    "\n",
    "At a 90% confidence level and 29 degrees of freedom, the critical t-values are ±1.699.\n",
    "\n",
    "Since our calculated t-value (0) is less than the critical t-value (±1.699), we fail to reject the null hypothesis.\n",
    "\n",
    "Therefore, we can conclude that there is not enough evidence to suggest that caffeine has a significant effect on reaction time at a 90% confidence level."
   ]
  },
  {
   "cell_type": "code",
   "execution_count": null,
   "id": "e7c550f1-98b6-48c0-bcc0-af167823207d",
   "metadata": {},
   "outputs": [],
   "source": []
  }
 ],
 "metadata": {
  "kernelspec": {
   "display_name": "Python 3 (ipykernel)",
   "language": "python",
   "name": "python3"
  },
  "language_info": {
   "codemirror_mode": {
    "name": "ipython",
    "version": 3
   },
   "file_extension": ".py",
   "mimetype": "text/x-python",
   "name": "python",
   "nbconvert_exporter": "python",
   "pygments_lexer": "ipython3",
   "version": "3.10.8"
  }
 },
 "nbformat": 4,
 "nbformat_minor": 5
}
