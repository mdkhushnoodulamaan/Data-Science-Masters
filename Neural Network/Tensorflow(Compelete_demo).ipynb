{
  "nbformat": 4,
  "nbformat_minor": 0,
  "metadata": {
    "colab": {
      "provenance": []
    },
    "kernelspec": {
      "name": "python3",
      "display_name": "Python 3"
    },
    "language_info": {
      "name": "python"
    }
  },
  "cells": [
    {
      "cell_type": "code",
      "source": [
        "import tensorflow as tf\n",
        "print(\"Tenserflow version : {}\".format(tf.__version__))\n",
        "print(\"Eager execution is : {}\".format(tf.executing_eagerly()))\n",
        "print(\"Keras version: {}\".format(tf.keras.__version__))"
      ],
      "metadata": {
        "colab": {
          "base_uri": "https://localhost:8080/"
        },
        "id": "UfonadQGuO2O",
        "outputId": "20c799c4-480d-44fa-e9ae-a1468f75ed64"
      },
      "execution_count": 2,
      "outputs": [
        {
          "output_type": "stream",
          "name": "stdout",
          "text": [
            "Tenserflow version : 2.12.0\n",
            "Eager execution is : True\n",
            "Keras version: 2.12.0\n"
          ]
        }
      ]
    },
    {
      "cell_type": "markdown",
      "source": [
        "# Tensor Constant"
      ],
      "metadata": {
        "id": "Q1HR6DHxt9rl"
      }
    },
    {
      "cell_type": "code",
      "execution_count": 3,
      "metadata": {
        "colab": {
          "base_uri": "https://localhost:8080/"
        },
        "id": "V0hY8TQOt7dZ",
        "outputId": "500f5a45-5b0c-418a-88bc-36d1b46814e1"
      },
      "outputs": [
        {
          "output_type": "execute_result",
          "data": {
            "text/plain": [
              "<tf.Tensor: shape=(), dtype=int32, numpy=42>"
            ]
          },
          "metadata": {},
          "execution_count": 3
        }
      ],
      "source": [
        "ineuron = tf.constant(42)\n",
        "ineuron"
      ]
    },
    {
      "cell_type": "code",
      "source": [
        "ineuron.numpy()"
      ],
      "metadata": {
        "colab": {
          "base_uri": "https://localhost:8080/"
        },
        "id": "1zt4P81fuIfY",
        "outputId": "09b95d74-8582-467a-af78-9d827de81d3d"
      },
      "execution_count": 4,
      "outputs": [
        {
          "output_type": "execute_result",
          "data": {
            "text/plain": [
              "42"
            ]
          },
          "metadata": {},
          "execution_count": 4
        }
      ]
    },
    {
      "cell_type": "code",
      "source": [
        "ineuron1 = tf.constant(1, dtype=tf.int64)\n",
        "ineuron1.numpy()"
      ],
      "metadata": {
        "colab": {
          "base_uri": "https://localhost:8080/"
        },
        "id": "YojWdr-UvBGK",
        "outputId": "c329a43e-f7be-4915-cd45-05b7913794ea"
      },
      "execution_count": 5,
      "outputs": [
        {
          "output_type": "execute_result",
          "data": {
            "text/plain": [
              "1"
            ]
          },
          "metadata": {},
          "execution_count": 5
        }
      ]
    },
    {
      "cell_type": "code",
      "source": [
        "ineuron_x = tf.constant([[4,2],[9,5]])\n",
        "print(ineuron_x)"
      ],
      "metadata": {
        "colab": {
          "base_uri": "https://localhost:8080/"
        },
        "id": "COoZY0n7vN5y",
        "outputId": "ce30f4cd-c28c-4614-8061-8ce332a52906"
      },
      "execution_count": 6,
      "outputs": [
        {
          "output_type": "stream",
          "name": "stdout",
          "text": [
            "tf.Tensor(\n",
            "[[4 2]\n",
            " [9 5]], shape=(2, 2), dtype=int32)\n"
          ]
        }
      ]
    },
    {
      "cell_type": "code",
      "source": [
        "ineuron_x.numpy()"
      ],
      "metadata": {
        "colab": {
          "base_uri": "https://localhost:8080/"
        },
        "id": "UU9BwRXyvZij",
        "outputId": "119f207d-83cf-4551-cd4b-db18e4bc16b2"
      },
      "execution_count": 7,
      "outputs": [
        {
          "output_type": "execute_result",
          "data": {
            "text/plain": [
              "array([[4, 2],\n",
              "       [9, 5]], dtype=int32)"
            ]
          },
          "metadata": {},
          "execution_count": 7
        }
      ]
    },
    {
      "cell_type": "code",
      "source": [
        "print(\"shape:\",ineuron_x.shape)"
      ],
      "metadata": {
        "colab": {
          "base_uri": "https://localhost:8080/"
        },
        "id": "bRJidIy5vdCS",
        "outputId": "3538f3a8-c76b-476d-e2f9-b1cf9f090606"
      },
      "execution_count": 8,
      "outputs": [
        {
          "output_type": "stream",
          "name": "stdout",
          "text": [
            "shape: (2, 2)\n"
          ]
        }
      ]
    },
    {
      "cell_type": "markdown",
      "source": [
        "# Commonly used method is to generate constant tf.ones and the tf.zeros like of numpy np.ones & np.zeros"
      ],
      "metadata": {
        "id": "A66ELs8xvuC5"
      }
    },
    {
      "cell_type": "code",
      "source": [
        "print(tf.ones(shape=(2,3)))"
      ],
      "metadata": {
        "colab": {
          "base_uri": "https://localhost:8080/"
        },
        "id": "wA8ZA20RvjYJ",
        "outputId": "ad6a0c81-305f-49bb-fd69-e96bfbb838e4"
      },
      "execution_count": 9,
      "outputs": [
        {
          "output_type": "stream",
          "name": "stdout",
          "text": [
            "tf.Tensor(\n",
            "[[1. 1. 1.]\n",
            " [1. 1. 1.]], shape=(2, 3), dtype=float32)\n"
          ]
        }
      ]
    },
    {
      "cell_type": "code",
      "source": [
        "print(tf.zeros(shape=(3,2)))"
      ],
      "metadata": {
        "colab": {
          "base_uri": "https://localhost:8080/"
        },
        "id": "iZhrnoLywHtl",
        "outputId": "1b0fba34-486f-40e8-f04c-4720bf390947"
      },
      "execution_count": 10,
      "outputs": [
        {
          "output_type": "stream",
          "name": "stdout",
          "text": [
            "tf.Tensor(\n",
            "[[0. 0.]\n",
            " [0. 0.]\n",
            " [0. 0.]], shape=(3, 2), dtype=float32)\n"
          ]
        }
      ]
    },
    {
      "cell_type": "code",
      "source": [
        "import tensorflow as tf\n",
        "const2 = tf.constant([[3,4,5],[3,4,5]])\n",
        "const1 = tf.constant([[1,2,3],[1,2,3]])\n",
        "result = tf.add(const1, const2)\n",
        "print(result)"
      ],
      "metadata": {
        "colab": {
          "base_uri": "https://localhost:8080/"
        },
        "id": "F3_fY5USwM4L",
        "outputId": "17f795e1-6bb6-432b-86ca-ff56b8780617"
      },
      "execution_count": 11,
      "outputs": [
        {
          "output_type": "stream",
          "name": "stdout",
          "text": [
            "tf.Tensor(\n",
            "[[4 6 8]\n",
            " [4 6 8]], shape=(2, 3), dtype=int32)\n"
          ]
        }
      ]
    },
    {
      "cell_type": "markdown",
      "source": [
        "# Random Constant"
      ],
      "metadata": {
        "id": "zwTaKZPhxFF4"
      }
    },
    {
      "cell_type": "code",
      "source": [
        "tf.random.normal(shape=(2,2),mean=0,stddev=1.0)"
      ],
      "metadata": {
        "colab": {
          "base_uri": "https://localhost:8080/"
        },
        "id": "9YhwpwwWxD2R",
        "outputId": "524e96ce-9b13-441a-d9fd-6ac99155f8d8"
      },
      "execution_count": 12,
      "outputs": [
        {
          "output_type": "execute_result",
          "data": {
            "text/plain": [
              "<tf.Tensor: shape=(2, 2), dtype=float32, numpy=\n",
              "array([[-0.02385941, -0.47804123],\n",
              "       [ 0.38087028, -0.6817273 ]], dtype=float32)>"
            ]
          },
          "metadata": {},
          "execution_count": 12
        }
      ]
    },
    {
      "cell_type": "code",
      "source": [
        "tf.random.uniform(shape=(2,2),minval=0,maxval=10,dtype=tf.int32)"
      ],
      "metadata": {
        "colab": {
          "base_uri": "https://localhost:8080/"
        },
        "id": "0uzOJMKQwoww",
        "outputId": "fb33423c-d3d7-46bd-9d32-4b5a40b5b293"
      },
      "execution_count": 13,
      "outputs": [
        {
          "output_type": "execute_result",
          "data": {
            "text/plain": [
              "<tf.Tensor: shape=(2, 2), dtype=int32, numpy=\n",
              "array([[8, 4],\n",
              "       [6, 1]], dtype=int32)>"
            ]
          },
          "metadata": {},
          "execution_count": 13
        }
      ]
    },
    {
      "cell_type": "markdown",
      "source": [
        "# Declaring Variables"
      ],
      "metadata": {
        "id": "I_yZB8a6x16n"
      }
    },
    {
      "cell_type": "code",
      "source": [
        "var0 = 24 # python variable\n",
        "var1 = tf.Variable(42) # rank 0 tensor\n",
        "var2 = tf.Variable([ [ [0.,1.,2.],[3.,4.,5.] ],[ [6.,7.,8.], [9.,10.,11.] ] ]) # rank 3 tensor\n",
        "var0, var1, var2"
      ],
      "metadata": {
        "colab": {
          "base_uri": "https://localhost:8080/"
        },
        "id": "xQaxKLBWxmHw",
        "outputId": "e23dd557-b4a5-47ff-cc47-84c720b5f1a1"
      },
      "execution_count": 14,
      "outputs": [
        {
          "output_type": "execute_result",
          "data": {
            "text/plain": [
              "(24,\n",
              " <tf.Variable 'Variable:0' shape=() dtype=int32, numpy=42>,\n",
              " <tf.Variable 'Variable:0' shape=(2, 2, 3) dtype=float32, numpy=\n",
              " array([[[ 0.,  1.,  2.],\n",
              "         [ 3.,  4.,  5.]],\n",
              " \n",
              "        [[ 6.,  7.,  8.],\n",
              "         [ 9., 10., 11.]]], dtype=float32)>)"
            ]
          },
          "metadata": {},
          "execution_count": 14
        }
      ]
    },
    {
      "cell_type": "markdown",
      "source": [
        "## The datatype can be explicitly specified"
      ],
      "metadata": {
        "id": "LY0aMg4eymf7"
      }
    },
    {
      "cell_type": "code",
      "source": [
        "float_var64 = tf.Variable(89, dtype = tf.float64)\n",
        "float_var64.dtype"
      ],
      "metadata": {
        "colab": {
          "base_uri": "https://localhost:8080/"
        },
        "id": "Oe7lsPulyili",
        "outputId": "d0486d08-dc8b-4d31-c0f5-a062912089a2"
      },
      "execution_count": 15,
      "outputs": [
        {
          "output_type": "execute_result",
          "data": {
            "text/plain": [
              "tf.float64"
            ]
          },
          "metadata": {},
          "execution_count": 15
        }
      ]
    },
    {
      "cell_type": "code",
      "source": [
        "var_ressign = tf.Variable(89.)\n",
        "var_ressign"
      ],
      "metadata": {
        "colab": {
          "base_uri": "https://localhost:8080/"
        },
        "id": "UQ3BF_Rty6X_",
        "outputId": "a68aa205-7270-4dd6-8db0-944893b1040b"
      },
      "execution_count": 16,
      "outputs": [
        {
          "output_type": "execute_result",
          "data": {
            "text/plain": [
              "<tf.Variable 'Variable:0' shape=() dtype=float32, numpy=89.0>"
            ]
          },
          "metadata": {},
          "execution_count": 16
        }
      ]
    },
    {
      "cell_type": "code",
      "source": [
        "initial_value =tf.random.normal(shape=(2,2))\n",
        "a = tf.Variable(initial_value)\n",
        "print(a)"
      ],
      "metadata": {
        "colab": {
          "base_uri": "https://localhost:8080/"
        },
        "id": "yMy3vqkEzJVX",
        "outputId": "9ecd9ef9-490f-4c69-f764-7ca7a77ee57b"
      },
      "execution_count": 17,
      "outputs": [
        {
          "output_type": "stream",
          "name": "stdout",
          "text": [
            "<tf.Variable 'Variable:0' shape=(2, 2) dtype=float32, numpy=\n",
            "array([[-0.18965125,  0.6074741 ],\n",
            "       [ 0.35533696, -0.8598548 ]], dtype=float32)>\n"
          ]
        }
      ]
    },
    {
      "cell_type": "code",
      "source": [
        "new_value = tf.random.normal(shape=(2, 2))\n",
        "a.assign(new_value)\n",
        "for i in range(2):\n",
        "    for j in range(2):\n",
        "        assert a[i, j] == new_value[i, j]"
      ],
      "metadata": {
        "id": "imSNB6HCzWJ_"
      },
      "execution_count": 18,
      "outputs": []
    },
    {
      "cell_type": "code",
      "source": [
        "added_value = tf.random.normal(shape=(2,2))\n",
        "a.assign_add(added_value)\n",
        "for i in range(2):\n",
        "    for j in range(2):\n",
        "        assert a[i,j] == new_value[i,j]+added_value[i,j]"
      ],
      "metadata": {
        "id": "GC_iwSw4MUZE"
      },
      "execution_count": 19,
      "outputs": []
    },
    {
      "cell_type": "markdown",
      "source": [
        "# Shaping a tensor"
      ],
      "metadata": {
        "id": "0-6wSXCIMo6g"
      }
    },
    {
      "cell_type": "code",
      "source": [
        "tensor = tf.Variable([ [ [0., 1., 2.], [3., 4., 5.] ], [ [6., 7., 8.], [9., 10., 11.] ] ]) # tensor variable\n",
        "print(tensor.shape)"
      ],
      "metadata": {
        "colab": {
          "base_uri": "https://localhost:8080/"
        },
        "id": "WQX_mdx4MnAy",
        "outputId": "4dcb417d-e681-4f6d-fbff-b8b2580ebc80"
      },
      "execution_count": 20,
      "outputs": [
        {
          "output_type": "stream",
          "name": "stdout",
          "text": [
            "(2, 2, 3)\n"
          ]
        }
      ]
    },
    {
      "cell_type": "markdown",
      "source": [
        "#### Tensors may be reshaped and retain the same values, as is often required for constructing neural networks.\n"
      ],
      "metadata": {
        "id": "urujxJUQMwxF"
      }
    },
    {
      "cell_type": "code",
      "source": [
        "tensor1 = tf.reshape(tensor,[2,6]) # 2 rows 6 cols\n",
        "tensor2 = tf.reshape(tensor,[1,12]) # 1 rows 12 cols\n",
        "tensor1"
      ],
      "metadata": {
        "colab": {
          "base_uri": "https://localhost:8080/"
        },
        "id": "_QU4KwUMMstg",
        "outputId": "451487d8-e532-46bc-f8c9-c3484abaa610"
      },
      "execution_count": 21,
      "outputs": [
        {
          "output_type": "execute_result",
          "data": {
            "text/plain": [
              "<tf.Tensor: shape=(2, 6), dtype=float32, numpy=\n",
              "array([[ 0.,  1.,  2.,  3.,  4.,  5.],\n",
              "       [ 6.,  7.,  8.,  9., 10., 11.]], dtype=float32)>"
            ]
          },
          "metadata": {},
          "execution_count": 21
        }
      ]
    },
    {
      "cell_type": "code",
      "source": [
        "tensor2 = tf.reshape(tensor,[1,12]) # 1 row 12 columns\n",
        "tensor2"
      ],
      "metadata": {
        "colab": {
          "base_uri": "https://localhost:8080/"
        },
        "id": "tpDSjprVMz0E",
        "outputId": "e656ee52-5a53-43bf-8b88-0663dcabcc57"
      },
      "execution_count": 22,
      "outputs": [
        {
          "output_type": "execute_result",
          "data": {
            "text/plain": [
              "<tf.Tensor: shape=(1, 12), dtype=float32, numpy=\n",
              "array([[ 0.,  1.,  2.,  3.,  4.,  5.,  6.,  7.,  8.,  9., 10., 11.]],\n",
              "      dtype=float32)>"
            ]
          },
          "metadata": {},
          "execution_count": 22
        }
      ]
    },
    {
      "cell_type": "markdown",
      "source": [
        "### Ranking (dimensions) of a tensor"
      ],
      "metadata": {
        "id": "bSQAzz8VM49j"
      }
    },
    {
      "cell_type": "code",
      "source": [
        "tf.rank(tensor)"
      ],
      "metadata": {
        "colab": {
          "base_uri": "https://localhost:8080/"
        },
        "id": "fGdrq8F2M1l8",
        "outputId": "1a387906-1411-4898-feab-c3278f8655f4"
      },
      "execution_count": 23,
      "outputs": [
        {
          "output_type": "execute_result",
          "data": {
            "text/plain": [
              "<tf.Tensor: shape=(), dtype=int32, numpy=3>"
            ]
          },
          "metadata": {},
          "execution_count": 23
        }
      ]
    },
    {
      "cell_type": "markdown",
      "source": [
        "#### Specifying an element of a tensor"
      ],
      "metadata": {
        "id": "r9PuSpK4NCOm"
      }
    },
    {
      "cell_type": "code",
      "source": [
        "tensor3 = tensor[1, 0, 2] # slice 1, row 0, column 2\n",
        "tensor3"
      ],
      "metadata": {
        "colab": {
          "base_uri": "https://localhost:8080/"
        },
        "id": "31ZqyQqxM-Jw",
        "outputId": "3d354364-a826-4e5f-b387-ed97d5a018c6"
      },
      "execution_count": 24,
      "outputs": [
        {
          "output_type": "execute_result",
          "data": {
            "text/plain": [
              "<tf.Tensor: shape=(), dtype=float32, numpy=8.0>"
            ]
          },
          "metadata": {},
          "execution_count": 24
        }
      ]
    },
    {
      "cell_type": "markdown",
      "source": [
        "#### Casting a tensor to a NumPy/Python variable"
      ],
      "metadata": {
        "id": "y-x3IkvPNIIv"
      }
    },
    {
      "cell_type": "code",
      "source": [
        "print(tensor.numpy())"
      ],
      "metadata": {
        "colab": {
          "base_uri": "https://localhost:8080/"
        },
        "id": "DHlJbY7wND8T",
        "outputId": "96a2fba8-2a95-4860-d5fd-f132663f0ecf"
      },
      "execution_count": 25,
      "outputs": [
        {
          "output_type": "stream",
          "name": "stdout",
          "text": [
            "[[[ 0.  1.  2.]\n",
            "  [ 3.  4.  5.]]\n",
            "\n",
            " [[ 6.  7.  8.]\n",
            "  [ 9. 10. 11.]]]\n"
          ]
        }
      ]
    },
    {
      "cell_type": "code",
      "source": [
        "print(tensor[1, 0, 2].numpy())"
      ],
      "metadata": {
        "colab": {
          "base_uri": "https://localhost:8080/"
        },
        "id": "GgAqiKEcNJps",
        "outputId": "bb360abd-f9a7-4204-9396-434c9579f313"
      },
      "execution_count": 26,
      "outputs": [
        {
          "output_type": "stream",
          "name": "stdout",
          "text": [
            "8.0\n"
          ]
        }
      ]
    },
    {
      "cell_type": "markdown",
      "source": [
        "#### Finding the size (number of elements) of a tensor"
      ],
      "metadata": {
        "id": "2I3v4luSNNpJ"
      }
    },
    {
      "cell_type": "code",
      "source": [
        "tensor_size = tf.size(input=tensor).numpy()\n",
        "tensor_size"
      ],
      "metadata": {
        "colab": {
          "base_uri": "https://localhost:8080/"
        },
        "id": "kmoNmdsENK6y",
        "outputId": "50ca770d-621c-4387-abdc-bef5738aeed2"
      },
      "execution_count": 27,
      "outputs": [
        {
          "output_type": "execute_result",
          "data": {
            "text/plain": [
              "12"
            ]
          },
          "metadata": {},
          "execution_count": 27
        }
      ]
    },
    {
      "cell_type": "code",
      "source": [
        "#the datatype of a tensor\n",
        "tensor3.dtype"
      ],
      "metadata": {
        "colab": {
          "base_uri": "https://localhost:8080/"
        },
        "id": "RM3exPjZNPSt",
        "outputId": "0637ac65-4b39-422b-a0a8-4a7fab61e79e"
      },
      "execution_count": 28,
      "outputs": [
        {
          "output_type": "execute_result",
          "data": {
            "text/plain": [
              "tf.float32"
            ]
          },
          "metadata": {},
          "execution_count": 28
        }
      ]
    },
    {
      "cell_type": "markdown",
      "source": [
        "### Tensorflow mathematical operations\n",
        ">Can be used as numpy for artificial operations. Tensorflow can not execute these operations on the GPU or TPU.\n"
      ],
      "metadata": {
        "id": "8MIzDst9NS83"
      }
    },
    {
      "cell_type": "code",
      "source": [
        "a = tf.random.normal(shape=(2,2))\n",
        "b = tf.random.normal(shape=(2,2))\n",
        "c = a+b\n",
        "d = tf.square(c)\n",
        "e = tf.exp(c)\n",
        "print(a)\n",
        "print(b)\n",
        "print(c)\n",
        "print(d)\n",
        "print(e)"
      ],
      "metadata": {
        "colab": {
          "base_uri": "https://localhost:8080/"
        },
        "id": "EJDrVgCLNQd4",
        "outputId": "289a4543-30f5-4491-871f-4fe732fcb286"
      },
      "execution_count": 29,
      "outputs": [
        {
          "output_type": "stream",
          "name": "stdout",
          "text": [
            "tf.Tensor(\n",
            "[[ 0.71086794  0.06884045]\n",
            " [ 0.97688717 -1.2031217 ]], shape=(2, 2), dtype=float32)\n",
            "tf.Tensor(\n",
            "[[-0.13599163 -1.9232765 ]\n",
            " [ 0.5944515  -0.2348423 ]], shape=(2, 2), dtype=float32)\n",
            "tf.Tensor(\n",
            "[[ 0.5748763 -1.854436 ]\n",
            " [ 1.5713387 -1.437964 ]], shape=(2, 2), dtype=float32)\n",
            "tf.Tensor(\n",
            "[[0.33048278 3.4389331 ]\n",
            " [2.4691052  2.0677404 ]], shape=(2, 2), dtype=float32)\n",
            "tf.Tensor(\n",
            "[[1.7769108  0.1565412 ]\n",
            " [4.813087   0.23741065]], shape=(2, 2), dtype=float32)\n"
          ]
        }
      ]
    },
    {
      "cell_type": "markdown",
      "source": [
        "### Performing element-wise primitive tensor operations"
      ],
      "metadata": {
        "id": "DBw0JuewNXhT"
      }
    },
    {
      "cell_type": "code",
      "source": [
        "tensor*tensor"
      ],
      "metadata": {
        "colab": {
          "base_uri": "https://localhost:8080/"
        },
        "id": "MDF6sfN9NUyK",
        "outputId": "f8a1658a-47a9-4654-9699-dd6e67d1f176"
      },
      "execution_count": 30,
      "outputs": [
        {
          "output_type": "execute_result",
          "data": {
            "text/plain": [
              "<tf.Tensor: shape=(2, 2, 3), dtype=float32, numpy=\n",
              "array([[[  0.,   1.,   4.],\n",
              "        [  9.,  16.,  25.]],\n",
              "\n",
              "       [[ 36.,  49.,  64.],\n",
              "        [ 81., 100., 121.]]], dtype=float32)>"
            ]
          },
          "metadata": {},
          "execution_count": 30
        }
      ]
    },
    {
      "cell_type": "markdown",
      "source": [
        "### Broadcasting\n",
        ">Element-wise tensor operations support broadcasting in the same way that NumPy arrays do.\n",
        "\n",
        ">The simplest example is that of multiplying a tensor by a scalar:"
      ],
      "metadata": {
        "id": "ektSxbh_Nc8q"
      }
    },
    {
      "cell_type": "code",
      "source": [
        "tensor4 = tensor*4\n",
        "print(tensor4)"
      ],
      "metadata": {
        "colab": {
          "base_uri": "https://localhost:8080/"
        },
        "id": "W5IA5GGLNZwS",
        "outputId": "1062229c-f6ce-4f89-d9ee-3327a422d160"
      },
      "execution_count": 31,
      "outputs": [
        {
          "output_type": "stream",
          "name": "stdout",
          "text": [
            "tf.Tensor(\n",
            "[[[ 0.  4.  8.]\n",
            "  [12. 16. 20.]]\n",
            "\n",
            " [[24. 28. 32.]\n",
            "  [36. 40. 44.]]], shape=(2, 2, 3), dtype=float32)\n"
          ]
        }
      ]
    },
    {
      "cell_type": "markdown",
      "source": [
        "### Transpose Matrix multiplication"
      ],
      "metadata": {
        "id": "K3aXCWg9NinJ"
      }
    },
    {
      "cell_type": "code",
      "source": [
        "matrix_u = tf.constant([[3,4,3]])\n",
        "matrix_v = tf.constant([[1,2,1]])\n",
        "\n",
        "tf.matmul(matrix_u, tf.transpose(a=matrix_v))"
      ],
      "metadata": {
        "colab": {
          "base_uri": "https://localhost:8080/"
        },
        "id": "BBeDpNUSNew1",
        "outputId": "858df609-b0f6-4d6f-9a07-a87ca40bfb24"
      },
      "execution_count": 32,
      "outputs": [
        {
          "output_type": "execute_result",
          "data": {
            "text/plain": [
              "<tf.Tensor: shape=(1, 1), dtype=int32, numpy=array([[14]], dtype=int32)>"
            ]
          },
          "metadata": {},
          "execution_count": 32
        }
      ]
    },
    {
      "cell_type": "markdown",
      "source": [
        "### Casting a tensor to another (tensor) datatype"
      ],
      "metadata": {
        "id": "lzlIeF7BNnwu"
      }
    },
    {
      "cell_type": "code",
      "source": [
        "i = tf.cast(tensor1, dtype=tf.int32)\n",
        "i"
      ],
      "metadata": {
        "colab": {
          "base_uri": "https://localhost:8080/"
        },
        "id": "7CRCLpLcNlO3",
        "outputId": "54599799-a045-4c55-f09b-5028db0c5307"
      },
      "execution_count": 33,
      "outputs": [
        {
          "output_type": "execute_result",
          "data": {
            "text/plain": [
              "<tf.Tensor: shape=(2, 6), dtype=int32, numpy=\n",
              "array([[ 0,  1,  2,  3,  4,  5],\n",
              "       [ 6,  7,  8,  9, 10, 11]], dtype=int32)>"
            ]
          },
          "metadata": {},
          "execution_count": 33
        }
      ]
    },
    {
      "cell_type": "markdown",
      "source": [
        "### With truncation"
      ],
      "metadata": {
        "id": "DzoV0qN0NteO"
      }
    },
    {
      "cell_type": "code",
      "source": [
        "j = tf.cast(tf.constant(4.9), dtype=tf.int32)\n",
        "j"
      ],
      "metadata": {
        "colab": {
          "base_uri": "https://localhost:8080/"
        },
        "id": "tDu31e9yNprq",
        "outputId": "9d2929a6-3a1d-4eeb-aa73-a3c1764c0db2"
      },
      "execution_count": 34,
      "outputs": [
        {
          "output_type": "execute_result",
          "data": {
            "text/plain": [
              "<tf.Tensor: shape=(), dtype=int32, numpy=4>"
            ]
          },
          "metadata": {},
          "execution_count": 34
        }
      ]
    },
    {
      "cell_type": "markdown",
      "source": [
        "### Declaring Ragged tensors"
      ],
      "metadata": {
        "id": "lskV7AJsNyS3"
      }
    },
    {
      "cell_type": "markdown",
      "source": [
        "`A ragged tensor is a tensor with one or more ragged dimensions. Ragged dimensions are dimensions that have slices that may have different lengths.There are a variety of methods for declaring ragged arrays, the simplest being a constant ragged\n",
        "array.`"
      ],
      "metadata": {
        "id": "-5grBNUaN41A"
      }
    },
    {
      "cell_type": "markdown",
      "source": [
        "#### The following example shows how to declare a constant ragged array and the lengths of the individual slices:"
      ],
      "metadata": {
        "id": "WaQYJomyN6Z8"
      }
    },
    {
      "cell_type": "code",
      "source": [
        "ragged =tf.ragged.constant([[5, 2, 6, 1], [], [4, 10, 7], [8], [6,7]])\n",
        "\n",
        "print(ragged)\n",
        "print(ragged[0,:])\n",
        "print(ragged[1,:])\n",
        "print(ragged[2,:])\n",
        "print(ragged[3,:])\n",
        "print(ragged[4,:])"
      ],
      "metadata": {
        "colab": {
          "base_uri": "https://localhost:8080/"
        },
        "id": "ohURIHH_NvWX",
        "outputId": "b6794e89-6db4-4303-80b5-92ade2d15606"
      },
      "execution_count": 35,
      "outputs": [
        {
          "output_type": "stream",
          "name": "stdout",
          "text": [
            "<tf.RaggedTensor [[5, 2, 6, 1], [], [4, 10, 7], [8], [6, 7]]>\n",
            "tf.Tensor([5 2 6 1], shape=(4,), dtype=int32)\n",
            "tf.Tensor([], shape=(0,), dtype=int32)\n",
            "tf.Tensor([ 4 10  7], shape=(3,), dtype=int32)\n",
            "tf.Tensor([8], shape=(1,), dtype=int32)\n",
            "tf.Tensor([6 7], shape=(2,), dtype=int32)\n"
          ]
        }
      ]
    },
    {
      "cell_type": "markdown",
      "source": [
        "### Finding the squared difference between two tensors"
      ],
      "metadata": {
        "id": "-PeevR9SN_Ke"
      }
    },
    {
      "cell_type": "code",
      "source": [
        "varx = [1,3,5,7,11]\n",
        "vary = 5\n",
        "varz = tf.math.squared_difference(varx,vary)\n",
        "varz"
      ],
      "metadata": {
        "colab": {
          "base_uri": "https://localhost:8080/"
        },
        "id": "bBO_2OLRN9IK",
        "outputId": "93ce0891-4584-469a-943e-b23eb245cee3"
      },
      "execution_count": 36,
      "outputs": [
        {
          "output_type": "execute_result",
          "data": {
            "text/plain": [
              "<tf.Tensor: shape=(5,), dtype=int32, numpy=array([16,  4,  0,  4, 36], dtype=int32)>"
            ]
          },
          "metadata": {},
          "execution_count": 36
        }
      ]
    },
    {
      "cell_type": "markdown",
      "source": [
        "#### Finding the mean"
      ],
      "metadata": {
        "id": "8m6uu84cODgm"
      }
    },
    {
      "cell_type": "markdown",
      "source": [
        ">The following is the signature of\n",
        ">tf.reduce_mean()."
      ],
      "metadata": {
        "id": "9du0MmLYOG13"
      }
    },
    {
      "cell_type": "markdown",
      "source": [
        "`Note that this is equivalent to np.mean, except that it infers the return datatype from the input tensor,\n",
        "whereas np.mean allows you to specify the output type (defaulting to float64):`\n",
        "\n",
        "`tf.reduce_mean(input_tensor, axis=None, keepdims=None, name=None)`\n"
      ],
      "metadata": {
        "id": "kHwBXlonOIrA"
      }
    },
    {
      "cell_type": "code",
      "source": [
        "#Defining a constant\n",
        "numbers = tf.constant([[4., 5.], [7., 3.]])"
      ],
      "metadata": {
        "id": "s75d1qsWOA5H"
      },
      "execution_count": 37,
      "outputs": []
    },
    {
      "cell_type": "markdown",
      "source": [
        "#### Find the mean across all axes (use the default axis = None)\n",
        "\n"
      ],
      "metadata": {
        "id": "nTxnpriuORN8"
      }
    },
    {
      "cell_type": "code",
      "source": [
        "tf.reduce_mean(input_tensor=numbers)\n",
        "#( 4. + 5. + 7. + 3.)/4 = 4.75"
      ],
      "metadata": {
        "colab": {
          "base_uri": "https://localhost:8080/"
        },
        "id": "k25kjY5OOL7L",
        "outputId": "a7d7d216-6320-4800-d92e-2ac4e09543b6"
      },
      "execution_count": 38,
      "outputs": [
        {
          "output_type": "execute_result",
          "data": {
            "text/plain": [
              "<tf.Tensor: shape=(), dtype=float32, numpy=4.75>"
            ]
          },
          "metadata": {},
          "execution_count": 38
        }
      ]
    },
    {
      "cell_type": "markdown",
      "source": [
        "#### Find the mean across columns (that is, reduce rows) with this:"
      ],
      "metadata": {
        "id": "2_r4JEAEOXY8"
      }
    },
    {
      "cell_type": "code",
      "source": [
        "tf.reduce_mean(input_tensor=numbers, axis=0) # [ (4. + 7. )/2 , (5. + 3.)/2 ] = [5.5, 4.]"
      ],
      "metadata": {
        "colab": {
          "base_uri": "https://localhost:8080/"
        },
        "id": "_26014QwOTKN",
        "outputId": "bebc551c-e0b8-40d0-b3c2-e32ef388ca2e"
      },
      "execution_count": 40,
      "outputs": [
        {
          "output_type": "execute_result",
          "data": {
            "text/plain": [
              "<tf.Tensor: shape=(2,), dtype=float32, numpy=array([5.5, 4. ], dtype=float32)>"
            ]
          },
          "metadata": {},
          "execution_count": 40
        }
      ]
    },
    {
      "cell_type": "markdown",
      "source": [
        "#### When keepdims is True, the reduced axis is retained with a length of 1:"
      ],
      "metadata": {
        "id": "eQkilFaTOcoj"
      }
    },
    {
      "cell_type": "code",
      "source": [
        "tf.reduce_mean(input_tensor=numbers, axis=0, keepdims=True)"
      ],
      "metadata": {
        "colab": {
          "base_uri": "https://localhost:8080/"
        },
        "id": "2x75BYYDOV5n",
        "outputId": "15bf79f9-d3e3-4d1f-b560-ac35ca11eaa9"
      },
      "execution_count": 41,
      "outputs": [
        {
          "output_type": "execute_result",
          "data": {
            "text/plain": [
              "<tf.Tensor: shape=(1, 2), dtype=float32, numpy=array([[5.5, 4. ]], dtype=float32)>"
            ]
          },
          "metadata": {},
          "execution_count": 41
        }
      ]
    },
    {
      "cell_type": "markdown",
      "source": [
        "#### Find the mean across rows (that is, reduce columns) with this:"
      ],
      "metadata": {
        "id": "0nLNvAd2OimQ"
      }
    },
    {
      "cell_type": "code",
      "source": [
        "tf.reduce_mean(input_tensor=numbers, axis=1) # [ (4. + 5. )/2 , (7. + 3. )/2] = [4.5, 5]"
      ],
      "metadata": {
        "colab": {
          "base_uri": "https://localhost:8080/"
        },
        "id": "CzSJBFHLOeJp",
        "outputId": "a5ac32ee-52cd-4ea0-cfde-e7d279b1a51d"
      },
      "execution_count": 42,
      "outputs": [
        {
          "output_type": "execute_result",
          "data": {
            "text/plain": [
              "<tf.Tensor: shape=(2,), dtype=float32, numpy=array([4.5, 5. ], dtype=float32)>"
            ]
          },
          "metadata": {},
          "execution_count": 42
        }
      ]
    },
    {
      "cell_type": "markdown",
      "source": [
        "#### When keepdims is True, the reduced axis is retained with a length of 1:"
      ],
      "metadata": {
        "id": "cNq9kabMOubn"
      }
    },
    {
      "cell_type": "code",
      "source": [
        "tf.reduce_mean(input_tensor=numbers, axis=1, keepdims=True)"
      ],
      "metadata": {
        "colab": {
          "base_uri": "https://localhost:8080/"
        },
        "id": "TK5owYHAOr4q",
        "outputId": "55816884-9e7a-4cac-c762-6316feb7b2e0"
      },
      "execution_count": 43,
      "outputs": [
        {
          "output_type": "execute_result",
          "data": {
            "text/plain": [
              "<tf.Tensor: shape=(2, 1), dtype=float32, numpy=\n",
              "array([[4.5],\n",
              "       [5. ]], dtype=float32)>"
            ]
          },
          "metadata": {},
          "execution_count": 43
        }
      ]
    },
    {
      "cell_type": "markdown",
      "source": [
        "#### Generating tensors filled with random values"
      ],
      "metadata": {
        "id": "xjVx5xrLOyFG"
      }
    },
    {
      "cell_type": "markdown",
      "source": [
        "##### Using tf.random.normal()\n",
        "\n",
        ">tf.random.normal() outputs a tensor of the given shape filled with values of the dtype type from a normal distribution.\n",
        "\n",
        ">The required signature is as follows:\n",
        "    \n",
        ">tf. random.normal(shape, mean = 0, stddev =2, dtype=tf.float32, seed=None, name=None)"
      ],
      "metadata": {
        "id": "YP6QSYXlO14x"
      }
    },
    {
      "cell_type": "code",
      "source": [
        "tf.random.normal(shape = (3,2), mean=10, stddev=2, dtype=tf.float32, seed=None, name=None)\n",
        "ran = tf.random.normal(shape = (3,2), mean=10.0, stddev=2.0)\n",
        "print(ran)"
      ],
      "metadata": {
        "colab": {
          "base_uri": "https://localhost:8080/"
        },
        "id": "vlQ7YmoyOv8S",
        "outputId": "30d09d0f-bcd2-4930-e03a-2839f8b4ff8a"
      },
      "execution_count": 44,
      "outputs": [
        {
          "output_type": "stream",
          "name": "stdout",
          "text": [
            "tf.Tensor(\n",
            "[[ 5.9352217 11.231633 ]\n",
            " [12.685875   8.394974 ]\n",
            " [12.319219  11.94248  ]], shape=(3, 2), dtype=float32)\n"
          ]
        }
      ]
    },
    {
      "cell_type": "markdown",
      "source": [
        "#### Using tf.random.uniform()"
      ],
      "metadata": {
        "id": "z_g27x49O7IK"
      }
    },
    {
      "cell_type": "markdown",
      "source": [
        ">The required signature is this:\n",
        "    \n",
        ">tf.random.uniform(shape, minval = 0, maxval= None, dtype=tf.float32, seed=None, name=None)"
      ],
      "metadata": {
        "id": "656GuNWbO9wH"
      }
    },
    {
      "cell_type": "markdown",
      "source": [
        "`This outputs a tensor of the given shape filled with values from a uniform distribution in the range\n",
        "minval to maxval, where the lower bound is inclusive but the upper bound isn't.\n",
        "Take this, for example:`"
      ],
      "metadata": {
        "id": "YltCqlYiPB2d"
      }
    },
    {
      "cell_type": "code",
      "source": [
        "tf.random.uniform(shape = (2,4), minval=0, maxval=None, dtype=tf.float32, seed=None, name=None)"
      ],
      "metadata": {
        "colab": {
          "base_uri": "https://localhost:8080/"
        },
        "id": "_5devTdvO4Rd",
        "outputId": "c6eaaabf-51ea-4b3c-d0ff-4c574c7d97b6"
      },
      "execution_count": 45,
      "outputs": [
        {
          "output_type": "execute_result",
          "data": {
            "text/plain": [
              "<tf.Tensor: shape=(2, 4), dtype=float32, numpy=\n",
              "array([[0.15795016, 0.9789971 , 0.574981  , 0.00581408],\n",
              "       [0.42059004, 0.45045102, 0.61072814, 0.28582668]], dtype=float32)>"
            ]
          },
          "metadata": {},
          "execution_count": 45
        }
      ]
    },
    {
      "cell_type": "markdown",
      "source": [
        "#### Setting the seed"
      ],
      "metadata": {
        "id": "3ngUynO_PIFk"
      }
    },
    {
      "cell_type": "code",
      "source": [
        "tf.random.set_seed(11)\n",
        "ran1 = tf.random.uniform(shape = (2,2), maxval=10, dtype = tf.int32)\n",
        "ran2 = tf.random.uniform(shape = (2,2), maxval=10, dtype = tf.int32)\n",
        "print(ran1) #Call 1\n",
        "print(ran2)"
      ],
      "metadata": {
        "colab": {
          "base_uri": "https://localhost:8080/"
        },
        "id": "E99Tk4tBPD-G",
        "outputId": "f26961d1-2464-451e-c28d-e055d94cb983"
      },
      "execution_count": 47,
      "outputs": [
        {
          "output_type": "stream",
          "name": "stdout",
          "text": [
            "tf.Tensor(\n",
            "[[4 6]\n",
            " [5 2]], shape=(2, 2), dtype=int32)\n",
            "tf.Tensor(\n",
            "[[9 7]\n",
            " [9 4]], shape=(2, 2), dtype=int32)\n"
          ]
        }
      ]
    },
    {
      "cell_type": "code",
      "source": [
        "tf.random.set_seed(11) #same seed\n",
        "ran1 = tf.random.uniform(shape = (2,2), maxval=10, dtype = tf.int32)\n",
        "ran2 = tf.random.uniform(shape = (2,2), maxval=10, dtype = tf.int32)\n",
        "print(ran1) #Call 2\n",
        "print(ran2)"
      ],
      "metadata": {
        "colab": {
          "base_uri": "https://localhost:8080/"
        },
        "id": "yIA-Dn_ZPGoE",
        "outputId": "8e02b177-bde6-4bf3-99b5-0eadd5967611"
      },
      "execution_count": 48,
      "outputs": [
        {
          "output_type": "stream",
          "name": "stdout",
          "text": [
            "tf.Tensor(\n",
            "[[4 6]\n",
            " [5 2]], shape=(2, 2), dtype=int32)\n",
            "tf.Tensor(\n",
            "[[9 7]\n",
            " [9 4]], shape=(2, 2), dtype=int32)\n"
          ]
        }
      ]
    },
    {
      "cell_type": "markdown",
      "source": [
        "#### Practical example of Random values using Dices"
      ],
      "metadata": {
        "id": "YPYDAAFiPQha"
      }
    },
    {
      "cell_type": "code",
      "source": [
        "dice1 = tf.Variable(tf.random.uniform([10, 1], minval=1, maxval=7, dtype=tf.int32))\n",
        "dice2 = tf.Variable(tf.random.uniform([10, 1], minval=1, maxval=7, dtype=tf.int32))\n",
        "# We may add dice1 and dice2 since they share the same shape and size.\n",
        "dice_sum = dice1 + dice2\n",
        "# We've got three separate 10x1 matrices. To produce a single\n",
        "# 10x3 matrix, we'll concatenate them along dimension 1.\n",
        "resulting_matrix = tf.concat(values=[dice1, dice2, dice_sum], axis=1)\n",
        "print(resulting_matrix)"
      ],
      "metadata": {
        "colab": {
          "base_uri": "https://localhost:8080/"
        },
        "id": "HaFc9UlLPLK7",
        "outputId": "1bed593d-f041-4b33-e172-c20d767d8bd2"
      },
      "execution_count": 49,
      "outputs": [
        {
          "output_type": "stream",
          "name": "stdout",
          "text": [
            "tf.Tensor(\n",
            "[[ 5  5 10]\n",
            " [ 4  3  7]\n",
            " [ 5  3  8]\n",
            " [ 3  3  6]\n",
            " [ 1  4  5]\n",
            " [ 4  1  5]\n",
            " [ 5  1  6]\n",
            " [ 6  4 10]\n",
            " [ 3  3  6]\n",
            " [ 2  3  5]], shape=(10, 3), dtype=int32)\n"
          ]
        }
      ]
    },
    {
      "cell_type": "markdown",
      "source": [
        "#### Finding the indices of the largest and smallest element"
      ],
      "metadata": {
        "id": "EsMAHBLHPV8C"
      }
    },
    {
      "cell_type": "markdown",
      "source": [
        ">The signatures of the functions are as follows:\n",
        "    \n",
        ">`tf.argmax(input, axis=None, name=None, output_type=tf.int64 )`\n",
        "\n",
        ">`tf.argmin(input, axis=None, name=None, output_type=tf.int64 )`"
      ],
      "metadata": {
        "id": "k_kfjQ2EPX0Z"
      }
    },
    {
      "cell_type": "code",
      "source": [
        "# 1-D tensor\n",
        "t5 = tf.constant([2, 11, 5, 42, 7, 19, -6, -11, 29])\n",
        "print(t5)\n",
        "\n",
        "\n",
        "i = tf.argmax(input=t5)\n",
        "print('index of max; ', i)\n",
        "print('Max element: ',t5[i].numpy())\n",
        "\n",
        "\n",
        "i = tf.argmin(input=t5,axis=0).numpy()\n",
        "print('index of min: ', i)\n",
        "print('Min element: ',t5[i].numpy())\n",
        "\n",
        "\n",
        "t6 = tf.reshape(t5, [3,3])\n",
        "print(t6)\n",
        "\n",
        "\n",
        "i = tf.argmax(input=t6,axis=0).numpy() # max arg down rows\n",
        "print('indices of max down rows; ', i)\n",
        "\n",
        "i = tf.argmin(input=t6,axis=0).numpy() # min arg down rows\n",
        "print('indices of min down rows ; ',i)\n",
        "print(t6)\n",
        "\n",
        "i = tf.argmax(input=t6,axis=1).numpy() # max arg across cols\n",
        "print('indices of max across cols: ',i)\n",
        "\n",
        "i = tf.argmin(input=t6,axis=1).numpy() # min arg across cols\n",
        "print('indices of min across cols: ',i)\n"
      ],
      "metadata": {
        "colab": {
          "base_uri": "https://localhost:8080/"
        },
        "id": "JDxUMjJtPSdG",
        "outputId": "724619f6-5f06-493b-cc6c-a28c4656f5ae"
      },
      "execution_count": 50,
      "outputs": [
        {
          "output_type": "stream",
          "name": "stdout",
          "text": [
            "tf.Tensor([  2  11   5  42   7  19  -6 -11  29], shape=(9,), dtype=int32)\n",
            "index of max;  tf.Tensor(3, shape=(), dtype=int64)\n",
            "Max element:  42\n",
            "index of min:  7\n",
            "Min element:  -11\n",
            "tf.Tensor(\n",
            "[[  2  11   5]\n",
            " [ 42   7  19]\n",
            " [ -6 -11  29]], shape=(3, 3), dtype=int32)\n",
            "indices of max down rows;  [1 0 2]\n",
            "indices of min down rows ;  [2 2 0]\n",
            "tf.Tensor(\n",
            "[[  2  11   5]\n",
            " [ 42   7  19]\n",
            " [ -6 -11  29]], shape=(3, 3), dtype=int32)\n",
            "indices of max across cols:  [1 0 2]\n",
            "indices of min across cols:  [0 1 1]\n"
          ]
        }
      ]
    },
    {
      "cell_type": "markdown",
      "source": [
        "#### Saving and restoring tensor values using a checkpoint"
      ],
      "metadata": {
        "id": "roD4kZxCPc13"
      }
    },
    {
      "cell_type": "code",
      "source": [
        "variable = tf.Variable([[1,3,5,7],[11,13,17,19]])\n",
        "checkpoint= tf.train.Checkpoint(var=variable)\n",
        "save_path = checkpoint.save('./vars')\n",
        "variable.assign([[0,0,0,0],[0,0,0,0]])\n",
        "variable\n",
        "checkpoint.restore(save_path)\n",
        "print(variable)"
      ],
      "metadata": {
        "colab": {
          "base_uri": "https://localhost:8080/"
        },
        "id": "Pv6yzttKPZud",
        "outputId": "a1dd91cb-92c0-46e5-e380-8c9fe9c5dd94"
      },
      "execution_count": 51,
      "outputs": [
        {
          "output_type": "stream",
          "name": "stdout",
          "text": [
            "<tf.Variable 'Variable:0' shape=(2, 4) dtype=int32, numpy=\n",
            "array([[ 1,  3,  5,  7],\n",
            "       [11, 13, 17, 19]], dtype=int32)>\n"
          ]
        }
      ]
    },
    {
      "cell_type": "markdown",
      "source": [
        "#### Using tf.function\n",
        "\n",
        "`tf.function is a function that will take a Python function and return a TensorFlow graph. The\n",
        "advantage of this is that graphs can apply optimizations and exploit parallelism in the Python\n",
        "function (func). tf.function is new to TensorFlow 2.`\n"
      ],
      "metadata": {
        "id": "sqCuoBqAPgnE"
      }
    },
    {
      "cell_type": "markdown",
      "source": [
        ">Its signature is as follows:\n",
        "    \n",
        "`tf.function(\n",
        "func=None,\n",
        "input_signature=None,\n",
        "autograph=True,\n",
        "experimental_autograph_options=None\n",
        ")`\n"
      ],
      "metadata": {
        "id": "O1au6sNzPjaO"
      }
    },
    {
      "cell_type": "code",
      "source": [
        "def f1(x, y):\n",
        "    return tf.reduce_mean(input_tensor=tf.multiply(x ** 2, 5) + y**2)\n",
        "\n",
        "f2 = tf.function(f1)\n",
        "x = tf.constant([4., -5.])\n",
        "y = tf.constant([2., 3.])\n",
        "\n",
        "# f1 and f2 return the same value, but f2 executes as a TensorFlow graph\n",
        "assert f1(x,y).numpy() == f2(x,y).numpy()\n",
        "#The assert passes, so there is no output"
      ],
      "metadata": {
        "id": "76dG_GShPeOP"
      },
      "execution_count": 52,
      "outputs": []
    },
    {
      "cell_type": "markdown",
      "source": [
        "## Calculate the gradient"
      ],
      "metadata": {
        "id": "yOFj6jd3PnNw"
      }
    },
    {
      "cell_type": "markdown",
      "source": [
        "### GradientTape"
      ],
      "metadata": {
        "id": "IqDFysddPqzw"
      }
    },
    {
      "cell_type": "markdown",
      "source": [
        ">Another difference from numpy is that it can automatically track the gradient of any variable.\n",
        "\n",
        ">Open one GradientTape and `tape.watch()` track variables through"
      ],
      "metadata": {
        "id": "Oo2hLGYhPuPM"
      }
    },
    {
      "cell_type": "code",
      "source": [
        "a = tf.random.normal(shape=(2,2))\n",
        "b = tf.random.normal(shape=(2,2))\n",
        "\n",
        "with tf.GradientTape() as tape:\n",
        "    tape.watch(a)\n",
        "    c = tf.sqrt(tf.square(a)+tf.square(b))\n",
        "    dc_da = tape.gradient(c,a)\n",
        "    print(dc_da)"
      ],
      "metadata": {
        "colab": {
          "base_uri": "https://localhost:8080/"
        },
        "id": "JbFMUNmAPlLv",
        "outputId": "0dd917ed-0278-43ff-ee6d-24b79650c0bf"
      },
      "execution_count": 54,
      "outputs": [
        {
          "output_type": "stream",
          "name": "stdout",
          "text": [
            "tf.Tensor(\n",
            "[[-0.469929    0.89920384]\n",
            " [-0.66446567 -0.79767007]], shape=(2, 2), dtype=float32)\n"
          ]
        }
      ]
    },
    {
      "cell_type": "markdown",
      "source": [
        ">For all variables, the calculation is tracked by default and used to find the gradient, so do not `usetape.watch()`"
      ],
      "metadata": {
        "id": "81jArpWQPzHu"
      }
    },
    {
      "cell_type": "code",
      "source": [
        "a = tf.Variable(a)\n",
        "with tf.GradientTape() as tape:\n",
        "    c = tf.sqrt(tf.square(a)+tf.square(b))\n",
        "    dc_da = tape.gradient(c,a)\n",
        "    print(dc_da)"
      ],
      "metadata": {
        "colab": {
          "base_uri": "https://localhost:8080/"
        },
        "id": "UlEs6c7JPp-t",
        "outputId": "aa6de3f7-460b-4d44-e597-b577de759b7b"
      },
      "execution_count": 55,
      "outputs": [
        {
          "output_type": "stream",
          "name": "stdout",
          "text": [
            "tf.Tensor(\n",
            "[[-0.469929    0.89920384]\n",
            " [-0.66446567 -0.79767007]], shape=(2, 2), dtype=float32)\n"
          ]
        }
      ]
    },
    {
      "cell_type": "markdown",
      "source": [
        "> You can GradientTapefind higher-order derivatives by opening a few more:"
      ],
      "metadata": {
        "id": "K1RGo3OYP4Bm"
      }
    },
    {
      "cell_type": "code",
      "source": [
        "with tf.GradientTape() as outer_tape:\n",
        "    with tf.GradientTape() as tape:\n",
        "        c = tf.sqrt(tf.square(a)+tf.square(b))\n",
        "        dc_da = tape.gradient(c,a)\n",
        "    d2c_d2a = outer_tape.gradient(dc_da,a)\n",
        "    print(d2c_d2a)"
      ],
      "metadata": {
        "colab": {
          "base_uri": "https://localhost:8080/"
        },
        "id": "hlznT9LxP0xu",
        "outputId": "c326c653-fa0d-4e1c-b471-97f7b7e7adcf"
      },
      "execution_count": 56,
      "outputs": [
        {
          "output_type": "stream",
          "name": "stdout",
          "text": [
            "tf.Tensor(\n",
            "[[0.4264985  0.6867533 ]\n",
            " [0.44663432 0.5015956 ]], shape=(2, 2), dtype=float32)\n"
          ]
        }
      ]
    },
    {
      "cell_type": "markdown",
      "source": [
        "## The Keras Sequential model\n",
        "\n",
        "`To build a Keras Sequential model, you add layers to it in the same order that you want the\n",
        "computations to be undertaken by the network.`\n",
        "\n",
        "`After you have built your model, you compile it; this optimizes the computations that are to be\n",
        "undertaken, and is where you allocate the optimizer and the loss function you want your model to\n",
        "use.`\n",
        "\n",
        "`The next stage is to fit the model to the data. This is commonly known as training the model, and is\n",
        "where all the computations take place. It is possible to present the data to the model either in\n",
        "batches, or all at once.`\n",
        "\n",
        "`Next, you evaluate your model to establish its accuracy, loss, and other metrics. Finally, having\n",
        "trained your model, you can use it to make predictions on new data. So, the workflow is: build,\n",
        "compile, fit, evaluate, make predictions.`\n",
        "`There are two ways to create a Sequential model. Let's take a look at each of them.`"
      ],
      "metadata": {
        "id": "E7aDZqw5QBtA"
      }
    },
    {
      "cell_type": "markdown",
      "source": [
        "### The first way to create a Sequential model\n",
        "\n",
        "`Firstly, you can pass a list of layer instances to the constructor, as in the following example.\n",
        "For now, we will just explain enough to allow you to understand what is happening here.`\n",
        "\n",
        "`Acquire the data. MNIST is a dataset of hand-drawn numerals, each on a 28 x 28 pixel grid. Every\n",
        "individual data point is an unsigned 8-bit integer (uint8), as are the labels:`"
      ],
      "metadata": {
        "id": "G0Wv4mtcQFic"
      }
    },
    {
      "cell_type": "markdown",
      "source": [
        "#### Loading the datset"
      ],
      "metadata": {
        "id": "gISBcwd_QH-a"
      }
    },
    {
      "cell_type": "code",
      "source": [
        "mnist = tf.keras.datasets.mnist\n",
        "(train_x,train_y), (test_x, test_y) = mnist.load_data()"
      ],
      "metadata": {
        "colab": {
          "base_uri": "https://localhost:8080/"
        },
        "id": "0sdVpWmIP5y2",
        "outputId": "7e571828-8515-4947-a1bf-4c87479a86ec"
      },
      "execution_count": 57,
      "outputs": [
        {
          "output_type": "stream",
          "name": "stdout",
          "text": [
            "Downloading data from https://storage.googleapis.com/tensorflow/tf-keras-datasets/mnist.npz\n",
            "11490434/11490434 [==============================] - 0s 0us/step\n"
          ]
        }
      ]
    },
    {
      "cell_type": "markdown",
      "source": [
        "#### Definning the variables"
      ],
      "metadata": {
        "id": "cdoDpimfQLcR"
      }
    },
    {
      "cell_type": "code",
      "source": [
        "epochs=10\n",
        "batch_size = 32 # 32 is default in fit method but specify anyway"
      ],
      "metadata": {
        "id": "xUF6Ctz-QJg6"
      },
      "execution_count": 58,
      "outputs": []
    },
    {
      "cell_type": "markdown",
      "source": [
        ">Next, normalize all the data points (x) to be in the float range zero to one, and of the float32 type.\n",
        "\n",
        ">Also, cast the labels (y) to int64, as required:"
      ],
      "metadata": {
        "id": "v143Aq7WQTgi"
      }
    },
    {
      "cell_type": "code",
      "source": [
        "train_x, test_x = tf.cast(train_x/255.0, tf.float32), tf.cast(test_x/255.0, tf.float32)\n",
        "train_y, test_y = tf.cast(train_y,tf.int64),tf.cast(test_y,tf.int64)"
      ],
      "metadata": {
        "id": "aOZg5h9zQNPF"
      },
      "execution_count": 59,
      "outputs": []
    },
    {
      "cell_type": "markdown",
      "source": [
        "#### Building the Architecture"
      ],
      "metadata": {
        "id": "qJMGSg3cQXNj"
      }
    },
    {
      "cell_type": "code",
      "source": [
        "mnistmodel1 = tf.keras.models.Sequential([\n",
        "tf.keras.layers.Flatten(),\n",
        "tf.keras.layers.Dense(512,activation=tf.nn.relu),\n",
        "tf.keras.layers.Dropout(0.2),\n",
        "tf.keras.layers.Dense(10,activation=tf.nn.softmax)\n",
        "])\n"
      ],
      "metadata": {
        "id": "RWUBk4s4QVEh"
      },
      "execution_count": 60,
      "outputs": []
    },
    {
      "cell_type": "markdown",
      "source": [
        "#### Compiling the model"
      ],
      "metadata": {
        "id": "i_BJ-BgAQaSg"
      }
    },
    {
      "cell_type": "code",
      "source": [
        "optimiser = tf.keras.optimizers.Adam()\n",
        "mnistmodel1.compile (optimizer= optimiser, loss='sparse_categorical_crossentropy', metrics = ['accuracy'])"
      ],
      "metadata": {
        "id": "WAvD-71yQYhO"
      },
      "execution_count": 61,
      "outputs": []
    },
    {
      "cell_type": "markdown",
      "source": [
        "#### Fitting the model"
      ],
      "metadata": {
        "id": "7awLmD5dQkRm"
      }
    },
    {
      "cell_type": "code",
      "source": [
        "mnistmodel1.fit(train_x, train_y, batch_size=32, epochs=5)"
      ],
      "metadata": {
        "colab": {
          "base_uri": "https://localhost:8080/"
        },
        "id": "6ifVd04DQcRC",
        "outputId": "ec88156a-af53-4499-b2f2-535eb7493c9a"
      },
      "execution_count": 62,
      "outputs": [
        {
          "output_type": "stream",
          "name": "stdout",
          "text": [
            "Epoch 1/5\n",
            "1875/1875 [==============================] - 19s 9ms/step - loss: 0.2212 - accuracy: 0.9348\n",
            "Epoch 2/5\n",
            "1875/1875 [==============================] - 14s 8ms/step - loss: 0.0973 - accuracy: 0.9703\n",
            "Epoch 3/5\n",
            "1875/1875 [==============================] - 15s 8ms/step - loss: 0.0686 - accuracy: 0.9782\n",
            "Epoch 4/5\n",
            "1875/1875 [==============================] - 14s 8ms/step - loss: 0.0534 - accuracy: 0.9832\n",
            "Epoch 5/5\n",
            "1875/1875 [==============================] - 16s 8ms/step - loss: 0.0432 - accuracy: 0.9856\n"
          ]
        },
        {
          "output_type": "execute_result",
          "data": {
            "text/plain": [
              "<keras.callbacks.History at 0x7cfa07e3dc90>"
            ]
          },
          "metadata": {},
          "execution_count": 62
        }
      ]
    },
    {
      "cell_type": "markdown",
      "source": [
        "#### Evaluate the mnistmodel1"
      ],
      "metadata": {
        "id": "ip8vxbm3Qn8P"
      }
    },
    {
      "cell_type": "code",
      "source": [
        "mnistmodel1.evaluate(test_x, test_y)"
      ],
      "metadata": {
        "colab": {
          "base_uri": "https://localhost:8080/"
        },
        "id": "taHWGVxwQlmO",
        "outputId": "3b956b2a-c539-4965-f5dd-be289af416bf"
      },
      "execution_count": 63,
      "outputs": [
        {
          "output_type": "stream",
          "name": "stdout",
          "text": [
            "313/313 [==============================] - 2s 6ms/step - loss: 0.0630 - accuracy: 0.9815\n"
          ]
        },
        {
          "output_type": "execute_result",
          "data": {
            "text/plain": [
              "[0.06304460763931274, 0.9815000295639038]"
            ]
          },
          "metadata": {},
          "execution_count": 63
        }
      ]
    },
    {
      "cell_type": "markdown",
      "source": [
        ">This represents a loss of 0.09 and an accuracy of 0.9801 on the test data.\n",
        "\n",
        ">An accuracy of 0.98 means that out of 100 test data points, 98 were, on average, correctly identified by the model."
      ],
      "metadata": {
        "id": "PwBQLTqxRPmk"
      }
    },
    {
      "cell_type": "markdown",
      "source": [
        "The second way to create a Sequential model\n",
        "\n",
        "---\n",
        "\n",
        "\n",
        "The alternative to passing a list of layers to the Sequential model's constructor is to use the add method, as follows, for the same architecture:\n",
        "\n"
      ],
      "metadata": {
        "id": "p3gO8pSGRVgU"
      }
    },
    {
      "cell_type": "markdown",
      "source": [
        "#### Building the Architecture & Compiling"
      ],
      "metadata": {
        "id": "Fn0FaRnSRbOG"
      }
    },
    {
      "cell_type": "code",
      "source": [
        "mnistmodel2 = tf.keras.models.Sequential();\n",
        "mnistmodel2.add(tf.keras.layers.Flatten())\n",
        "mnistmodel2.add(tf.keras.layers.Dense(512, activation='relu'))\n",
        "mnistmodel2.add(tf.keras.layers.Dropout(0.2))\n",
        "mnistmodel2.add(tf.keras.layers.Dense(10,activation=tf.nn.softmax))\n",
        "mnistmodel2.compile (optimizer= tf.keras.optimizers.Adam(), loss='sparse_categorical_crossentropy',metrics = ['accuracy'])"
      ],
      "metadata": {
        "id": "--rB4pSVREOE"
      },
      "execution_count": 65,
      "outputs": []
    },
    {
      "cell_type": "markdown",
      "source": [
        "#### Fitting the mnistmodel2"
      ],
      "metadata": {
        "id": "aO2BZL-RRj2E"
      }
    },
    {
      "cell_type": "code",
      "source": [
        "mnistmodel2.fit(train_x, train_y, batch_size=64, epochs=5)"
      ],
      "metadata": {
        "colab": {
          "base_uri": "https://localhost:8080/"
        },
        "id": "zALr583_RKwB",
        "outputId": "5a0fa5a8-0212-43d2-df81-d504040ebed6"
      },
      "execution_count": 66,
      "outputs": [
        {
          "output_type": "stream",
          "name": "stdout",
          "text": [
            "Epoch 1/5\n",
            "938/938 [==============================] - 10s 10ms/step - loss: 0.2457 - accuracy: 0.9281\n",
            "Epoch 2/5\n",
            "938/938 [==============================] - 9s 9ms/step - loss: 0.1053 - accuracy: 0.9682\n",
            "Epoch 3/5\n",
            "938/938 [==============================] - 10s 11ms/step - loss: 0.0731 - accuracy: 0.9776\n",
            "Epoch 4/5\n",
            "938/938 [==============================] - 10s 11ms/step - loss: 0.0556 - accuracy: 0.9826\n",
            "Epoch 5/5\n",
            "938/938 [==============================] - 8s 9ms/step - loss: 0.0440 - accuracy: 0.9858\n"
          ]
        },
        {
          "output_type": "execute_result",
          "data": {
            "text/plain": [
              "<keras.callbacks.History at 0x7cf9f5a9e9e0>"
            ]
          },
          "metadata": {},
          "execution_count": 66
        }
      ]
    },
    {
      "cell_type": "markdown",
      "source": [
        "#### Evaluate the mnistmodel2"
      ],
      "metadata": {
        "id": "URBDIKpNRxlN"
      }
    },
    {
      "cell_type": "code",
      "source": [
        "mnistmodel2.evaluate(test_x, test_y)"
      ],
      "metadata": {
        "colab": {
          "base_uri": "https://localhost:8080/"
        },
        "id": "G1huVdBhRoWJ",
        "outputId": "0d33adfa-9e15-4c31-8f65-fab4f3755d55"
      },
      "execution_count": 67,
      "outputs": [
        {
          "output_type": "stream",
          "name": "stdout",
          "text": [
            "313/313 [==============================] - 1s 3ms/step - loss: 0.0625 - accuracy: 0.9812\n"
          ]
        },
        {
          "output_type": "execute_result",
          "data": {
            "text/plain": [
              "[0.06247418373823166, 0.9811999797821045]"
            ]
          },
          "metadata": {},
          "execution_count": 67
        }
      ]
    },
    {
      "cell_type": "markdown",
      "source": [
        "### The Keras functional API\n",
        "\n",
        "`The functional API lets you build much more complex architectures than the simple linear stack of\n",
        "Sequential models we have seen previously. It also supports more advanced models. These models\n",
        "include multi-input and multi-output models, models with shared layers, and models with residual\n",
        "connections.`\n",
        "\n",
        "`Here is a short example, with an identical architecture to the previous two, of the use of the\n",
        "functional API.`"
      ],
      "metadata": {
        "id": "KfeHWf13SAx1"
      }
    },
    {
      "cell_type": "code",
      "source": [
        "import tensorflow as tf\n",
        "mnist = tf.keras.datasets.mnist\n",
        "\n",
        "(train_x,train_y), (test_x, test_y) = mnist.load_data()\n",
        "\n",
        "train_x, test_x = train_x/255.0, test_x/255.0\n",
        "\n",
        "epochs=10\n"
      ],
      "metadata": {
        "id": "l__Mn9VQR4Cm"
      },
      "execution_count": 68,
      "outputs": []
    },
    {
      "cell_type": "markdown",
      "source": [
        "#### Building the Architecture"
      ],
      "metadata": {
        "id": "NDJNmsJLSLKn"
      }
    },
    {
      "cell_type": "code",
      "source": [
        "inputs = tf.keras.Input(shape=(28,28)) # Returns a 'placeholder' tensor\n",
        "x = tf.keras.layers.Flatten()(inputs)\n",
        "x = tf.keras.layers.Dense(512, activation='relu',name='d1')(x)\n",
        "x = tf.keras.layers.Dropout(0.2)(x)\n",
        "predictions = tf.keras.layers.Dense(10,activation=tf.nn.softmax, name='d2')(x)\n",
        "mnistmodel3 = tf.keras.Model(inputs=inputs, outputs=predictions)"
      ],
      "metadata": {
        "id": "lqhuJRfJSFi6"
      },
      "execution_count": 69,
      "outputs": []
    },
    {
      "cell_type": "markdown",
      "source": [
        "#### Compile & Fit"
      ],
      "metadata": {
        "id": "oeFys1cNST_E"
      }
    },
    {
      "cell_type": "code",
      "source": [
        "optimiser = tf.keras.optimizers.Adam()\n",
        "mnistmodel3.compile (optimizer= optimiser, loss='sparse_categorical_crossentropy', metrics = ['accuracy'])\n",
        "mnistmodel3.fit(train_x, train_y, batch_size=32, epochs=epochs)"
      ],
      "metadata": {
        "colab": {
          "base_uri": "https://localhost:8080/"
        },
        "id": "d_7P-i2SSQDR",
        "outputId": "a2ef5585-8025-4c1c-eddd-5a4ed5cd0da0"
      },
      "execution_count": 70,
      "outputs": [
        {
          "output_type": "stream",
          "name": "stdout",
          "text": [
            "Epoch 1/10\n",
            "1875/1875 [==============================] - 16s 8ms/step - loss: 0.2198 - accuracy: 0.9358\n",
            "Epoch 2/10\n",
            "1875/1875 [==============================] - 21s 11ms/step - loss: 0.0958 - accuracy: 0.9706\n",
            "Epoch 3/10\n",
            "1875/1875 [==============================] - 14s 7ms/step - loss: 0.0684 - accuracy: 0.9780\n",
            "Epoch 4/10\n",
            "1875/1875 [==============================] - 14s 7ms/step - loss: 0.0539 - accuracy: 0.9822\n",
            "Epoch 5/10\n",
            "1875/1875 [==============================] - 14s 7ms/step - loss: 0.0434 - accuracy: 0.9857\n",
            "Epoch 6/10\n",
            "1875/1875 [==============================] - 16s 8ms/step - loss: 0.0347 - accuracy: 0.9886\n",
            "Epoch 7/10\n",
            "1875/1875 [==============================] - 14s 8ms/step - loss: 0.0301 - accuracy: 0.9900\n",
            "Epoch 8/10\n",
            "1875/1875 [==============================] - 14s 7ms/step - loss: 0.0279 - accuracy: 0.9909\n",
            "Epoch 9/10\n",
            "1875/1875 [==============================] - 14s 7ms/step - loss: 0.0246 - accuracy: 0.9915\n",
            "Epoch 10/10\n",
            "1875/1875 [==============================] - 14s 8ms/step - loss: 0.0217 - accuracy: 0.9924\n"
          ]
        },
        {
          "output_type": "execute_result",
          "data": {
            "text/plain": [
              "<keras.callbacks.History at 0x7cf9f67cda20>"
            ]
          },
          "metadata": {},
          "execution_count": 70
        }
      ]
    },
    {
      "cell_type": "markdown",
      "source": [
        "#### Evaluate the mnistmodel3"
      ],
      "metadata": {
        "id": "kMJrbJt4SeIU"
      }
    },
    {
      "cell_type": "code",
      "source": [
        "mnistmodel3.evaluate(test_x, test_y)"
      ],
      "metadata": {
        "colab": {
          "base_uri": "https://localhost:8080/"
        },
        "id": "I4Ljvva6SX77",
        "outputId": "f111e9f9-dc8a-44d3-9116-d22e73867ac2"
      },
      "execution_count": 71,
      "outputs": [
        {
          "output_type": "stream",
          "name": "stdout",
          "text": [
            "313/313 [==============================] - 1s 3ms/step - loss: 0.0802 - accuracy: 0.9813\n"
          ]
        },
        {
          "output_type": "execute_result",
          "data": {
            "text/plain": [
              "[0.08017457276582718, 0.9812999963760376]"
            ]
          },
          "metadata": {},
          "execution_count": 71
        }
      ]
    },
    {
      "cell_type": "markdown",
      "source": [
        "### Subclassing the Keras Model class"
      ],
      "metadata": {
        "id": "u_YMVl_2TDeI"
      }
    },
    {
      "cell_type": "code",
      "source": [
        "import tensorflow as tf"
      ],
      "metadata": {
        "id": "oonN0UuDS-XB"
      },
      "execution_count": 72,
      "outputs": []
    },
    {
      "cell_type": "markdown",
      "source": [
        "#### Building the subclass architecture"
      ],
      "metadata": {
        "id": "CvngvdFLTI-n"
      }
    },
    {
      "cell_type": "code",
      "source": [
        "class MNISTModel(tf.keras.Model):\n",
        "    def __init__(self, num_classes=10):\n",
        "        super(MNISTModel, self).__init__()\n",
        "        # Define your layers here.\n",
        "        inputs = tf.keras.Input(shape=(28,28)) # Returns a placeholder tensor\n",
        "        self.x0 = tf.keras.layers.Flatten()\n",
        "        self.x1 = tf.keras.layers.Dense(512, activation='relu',name='d1')\n",
        "        self.x2 = tf.keras.layers.Dropout(0.2)\n",
        "        self.predictions = tf.keras.layers.Dense(10,activation=tf.nn.softmax, name='d2')\n",
        "\n",
        "\n",
        "    def call(self, inputs):\n",
        "    # This is where to define your forward pass\n",
        "    # using the layers previously defined in `__init__`\n",
        "        x = self.x0(inputs)\n",
        "        x = self.x1(x)\n",
        "        x = self.x2(x)\n",
        "        return self.predictions(x)"
      ],
      "metadata": {
        "id": "R09abizfTRib"
      },
      "execution_count": 73,
      "outputs": []
    },
    {
      "cell_type": "code",
      "source": [
        "mnistmodel4 = MNISTModel()"
      ],
      "metadata": {
        "id": "CaHXLBSXTUdH"
      },
      "execution_count": 74,
      "outputs": []
    },
    {
      "cell_type": "markdown",
      "source": [
        "#### Compile & Fit"
      ],
      "metadata": {
        "id": "rE6brcfkTc_i"
      }
    },
    {
      "cell_type": "code",
      "source": [
        "batch_size = 32\n",
        "steps_per_epoch = len(train_x)//batch_size\n",
        "print(steps_per_epoch)\n",
        "mnistmodel4.compile (optimizer= tf.keras.optimizers.Adam(), loss='sparse_categorical_crossentropy',metrics = ['accuracy'])\n",
        "mnistmodel4.fit(train_x, train_y, batch_size=batch_size, epochs=epochs)"
      ],
      "metadata": {
        "colab": {
          "base_uri": "https://localhost:8080/"
        },
        "id": "av7ElC2ATYDg",
        "outputId": "50faf633-95d7-45a6-8cad-dd77d6be8947"
      },
      "execution_count": 75,
      "outputs": [
        {
          "output_type": "stream",
          "name": "stdout",
          "text": [
            "1875\n",
            "Epoch 1/10\n",
            "1875/1875 [==============================] - 17s 8ms/step - loss: 0.2191 - accuracy: 0.9348\n",
            "Epoch 2/10\n",
            "1875/1875 [==============================] - 17s 9ms/step - loss: 0.0958 - accuracy: 0.9709\n",
            "Epoch 3/10\n",
            "1875/1875 [==============================] - 16s 8ms/step - loss: 0.0688 - accuracy: 0.9785\n",
            "Epoch 4/10\n",
            "1875/1875 [==============================] - 15s 8ms/step - loss: 0.0541 - accuracy: 0.9826\n",
            "Epoch 5/10\n",
            "1875/1875 [==============================] - 15s 8ms/step - loss: 0.0444 - accuracy: 0.9850\n",
            "Epoch 6/10\n",
            "1875/1875 [==============================] - 15s 8ms/step - loss: 0.0354 - accuracy: 0.9882\n",
            "Epoch 7/10\n",
            "1875/1875 [==============================] - 15s 8ms/step - loss: 0.0316 - accuracy: 0.9892\n",
            "Epoch 8/10\n",
            "1875/1875 [==============================] - 15s 8ms/step - loss: 0.0278 - accuracy: 0.9907\n",
            "Epoch 9/10\n",
            "1875/1875 [==============================] - 15s 8ms/step - loss: 0.0248 - accuracy: 0.9917\n",
            "Epoch 10/10\n",
            "1875/1875 [==============================] - 15s 8ms/step - loss: 0.0227 - accuracy: 0.9925\n"
          ]
        },
        {
          "output_type": "execute_result",
          "data": {
            "text/plain": [
              "<keras.callbacks.History at 0x7cf9f67532e0>"
            ]
          },
          "metadata": {},
          "execution_count": 75
        }
      ]
    },
    {
      "cell_type": "markdown",
      "source": [
        "#### Evaluate the mnistmodel4"
      ],
      "metadata": {
        "id": "EG6AVKoGTllT"
      }
    },
    {
      "cell_type": "code",
      "source": [
        "mnistmodel4.evaluate(test_x, test_y)"
      ],
      "metadata": {
        "colab": {
          "base_uri": "https://localhost:8080/"
        },
        "id": "a0KOgX7wTg6k",
        "outputId": "ae69d600-cd1b-46e5-a10e-063336f56f54"
      },
      "execution_count": 76,
      "outputs": [
        {
          "output_type": "stream",
          "name": "stdout",
          "text": [
            "313/313 [==============================] - 1s 3ms/step - loss: 0.0716 - accuracy: 0.9811\n"
          ]
        },
        {
          "output_type": "execute_result",
          "data": {
            "text/plain": [
              "[0.07157038897275925, 0.9811000227928162]"
            ]
          },
          "metadata": {},
          "execution_count": 76
        }
      ]
    },
    {
      "cell_type": "code",
      "source": [],
      "metadata": {
        "id": "l9wDS1cHUbZs"
      },
      "execution_count": null,
      "outputs": []
    }
  ]
}