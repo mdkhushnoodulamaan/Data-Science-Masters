{
 "cells": [
  {
   "cell_type": "markdown",
   "id": "b14d58f5-429b-4484-bffc-47bb67d775bc",
   "metadata": {},
   "source": [
    "# Assignment"
   ]
  },
  {
   "cell_type": "markdown",
   "id": "bdc16e39-65a9-47b1-8c56-dc5f17d4ca60",
   "metadata": {},
   "source": [
    "### Ans1)"
   ]
  },
  {
   "cell_type": "markdown",
   "id": "e720398c-53fb-4f80-8b52-b3249d9dc9cf",
   "metadata": {},
   "source": [
    "Polynomial functions are mathematical functions that involve variables raised to different powers. In the context of machine learning, polynomial functions can be used to transform the original input data into a higher-dimensional feature space, where the relationship between variables can become linear or more separable.\n",
    "\n",
    "Kernel functions, on the other hand, are used in kernel methods, such as the kernel trick in SVM. Kernel functions compute the similarity or inner product between pairs of data points in the original or transformed feature space, without explicitly calculating the transformation. They effectively measure the proximity or similarity of data points, allowing algorithms to capture complex relationships and make non-linear classifications."
   ]
  },
  {
   "cell_type": "markdown",
   "id": "6d2ed5bf-604f-41c6-a151-dea6dcb98229",
   "metadata": {},
   "source": [
    "### Ans2)"
   ]
  },
  {
   "cell_type": "code",
   "execution_count": 4,
   "id": "c9e06997-2533-4e3b-847d-a391f6bc3afd",
   "metadata": {},
   "outputs": [
    {
     "name": "stdout",
     "output_type": "stream",
     "text": [
      "Accuracy: 0.9333333333333333\n"
     ]
    }
   ],
   "source": [
    "from sklearn import datasets\n",
    "from sklearn.model_selection import train_test_split\n",
    "from sklearn.svm import SVC\n",
    "from sklearn.metrics import accuracy_score\n",
    "iris = datasets.load_iris()\n",
    "X = iris.data\n",
    "y = iris.target\n",
    "X_train, X_test, y_train, y_test= train_test_split(X,y, test_size=0.2)\n",
    "svm_pol=SVC(kernel='poly',degree=3, C=1000)\n",
    "svm_pol.fit(X_train, y_train)\n",
    "y_pred = svm_pol.predict(X_test)\n",
    "accuracy = accuracy_score(y_test, y_pred)\n",
    "print('Accuracy:',accuracy)"
   ]
  },
  {
   "cell_type": "markdown",
   "id": "bb87924d-2141-494a-a1af-57eabfb78dcf",
   "metadata": {},
   "source": [
    "### Ans3)"
   ]
  },
  {
   "cell_type": "markdown",
   "id": "d28f92b6-a67e-4874-8f68-45936b183ccc",
   "metadata": {},
   "source": [
    "In Support Vector Regression (SVR), epsilon (ε) is a hyperparameter that determines the width of the epsilon-insensitive tube around the predicted regression line. It controls the tolerance for errors, allowing some data points to fall within the tube without being penalized.\n",
    "\n",
    "Increasing the value of epsilon in SVR will typically result in an increase in the number of support vectors. This is because a larger value of epsilon allows more training samples to be within the margin, and hence more support vectors will be required to define the boundary."
   ]
  },
  {
   "cell_type": "markdown",
   "id": "98004008-cce6-496b-996e-fe6aeb529b6c",
   "metadata": {},
   "source": [
    "### Ans4)"
   ]
  },
  {
   "cell_type": "markdown",
   "id": "48b47cd9-4838-4b88-aba2-7b4b0c993d60",
   "metadata": {},
   "source": [
    "The choice of kernel function, C parameter, epsilon parameter, and gamma parameter in Support Vector Regression (SVR) can significantly impact the performance of the model. Here's an explanation of each parameter and how they influence SVR, along with examples of when you might want to increase or decrease their values:\n",
    "\n",
    "1. Kernel Function:\n",
    "   - The kernel function determines the type of non-linear transformation applied to the input data. It maps the data into a higher-dimensional feature space where the regression problem may become linearly separable.\n",
    "   - Example: If the data exhibits complex non-linear patterns, you might choose a kernel function like the Radial Basis Function (RBF) kernel. If the data has a clear polynomial relationship, you might opt for a polynomial kernel.\n",
    "   \n",
    "2. C Parameter:\n",
    "   - The C parameter controls the trade-off between the model's ability to fit the training data and the smoothness of the resulting regression line. It controls the penalty for deviations from the regression line.\n",
    "   - Example: If you want the model to fit the training data more closely, you can increase the value of C. On the other hand, if you want a smoother regression line that is less affected by outliers, you can decrease the value of C.\n",
    "\n",
    "3. Epsilon Parameter:\n",
    "   - The epsilon parameter defines the width of the margin around the regression line. It represents the tolerance for errors in the SVR model.\n",
    "   - Example: If you want to allow more errors or deviations from the regression line, you can increase the value of epsilon. Conversely, if you want to enforce a stricter fit to the training data, you can decrease the value of epsilon.\n",
    "\n",
    "4. Gamma Parameter:\n",
    "   - The gamma parameter determines the influence of individual training samples on the SVR model. It controls the shape and smoothness of the regression curve.\n",
    "   - Example: Increasing the value of gamma makes the model more sensitive to individual training samples, resulting in a more wiggly or intricate regression curve. Decreasing gamma makes the model less sensitive to individual samples, leading to a smoother regression curve.\n"
   ]
  },
  {
   "cell_type": "markdown",
   "id": "7b76779e-2d29-478e-a71c-e4228f5cff7f",
   "metadata": {},
   "source": [
    "### Ans5)"
   ]
  },
  {
   "cell_type": "code",
   "execution_count": 1,
   "id": "74498371-a28d-493d-90d2-20dbcaec703e",
   "metadata": {},
   "outputs": [],
   "source": [
    "import pandas as pd\n",
    "from sklearn.svm import SVC\n",
    "from sklearn.preprocessing import StandardScaler\n",
    "from sklearn.model_selection import GridSearchCV\n",
    "from sklearn.model_selection import train_test_split\n",
    "from sklearn.metrics import accuracy_score\n"
   ]
  },
  {
   "cell_type": "code",
   "execution_count": 7,
   "id": "5e3ccf12-ff90-4847-9940-46c47db71ed5",
   "metadata": {},
   "outputs": [],
   "source": [
    "df=pd.read_csv('winequality-red.csv')"
   ]
  },
  {
   "cell_type": "code",
   "execution_count": 8,
   "id": "af631830-6efd-491a-ad59-bfd78e56997e",
   "metadata": {},
   "outputs": [
    {
     "data": {
      "text/html": [
       "<div>\n",
       "<style scoped>\n",
       "    .dataframe tbody tr th:only-of-type {\n",
       "        vertical-align: middle;\n",
       "    }\n",
       "\n",
       "    .dataframe tbody tr th {\n",
       "        vertical-align: top;\n",
       "    }\n",
       "\n",
       "    .dataframe thead th {\n",
       "        text-align: right;\n",
       "    }\n",
       "</style>\n",
       "<table border=\"1\" class=\"dataframe\">\n",
       "  <thead>\n",
       "    <tr style=\"text-align: right;\">\n",
       "      <th></th>\n",
       "      <th>fixed acidity</th>\n",
       "      <th>volatile acidity</th>\n",
       "      <th>citric acid</th>\n",
       "      <th>residual sugar</th>\n",
       "      <th>chlorides</th>\n",
       "      <th>free sulfur dioxide</th>\n",
       "      <th>total sulfur dioxide</th>\n",
       "      <th>density</th>\n",
       "      <th>pH</th>\n",
       "      <th>sulphates</th>\n",
       "      <th>alcohol</th>\n",
       "      <th>quality</th>\n",
       "    </tr>\n",
       "  </thead>\n",
       "  <tbody>\n",
       "    <tr>\n",
       "      <th>0</th>\n",
       "      <td>7.4</td>\n",
       "      <td>0.70</td>\n",
       "      <td>0.00</td>\n",
       "      <td>1.9</td>\n",
       "      <td>0.076</td>\n",
       "      <td>11.0</td>\n",
       "      <td>34.0</td>\n",
       "      <td>0.9978</td>\n",
       "      <td>3.51</td>\n",
       "      <td>0.56</td>\n",
       "      <td>9.4</td>\n",
       "      <td>5</td>\n",
       "    </tr>\n",
       "    <tr>\n",
       "      <th>1</th>\n",
       "      <td>7.8</td>\n",
       "      <td>0.88</td>\n",
       "      <td>0.00</td>\n",
       "      <td>2.6</td>\n",
       "      <td>0.098</td>\n",
       "      <td>25.0</td>\n",
       "      <td>67.0</td>\n",
       "      <td>0.9968</td>\n",
       "      <td>3.20</td>\n",
       "      <td>0.68</td>\n",
       "      <td>9.8</td>\n",
       "      <td>5</td>\n",
       "    </tr>\n",
       "    <tr>\n",
       "      <th>2</th>\n",
       "      <td>7.8</td>\n",
       "      <td>0.76</td>\n",
       "      <td>0.04</td>\n",
       "      <td>2.3</td>\n",
       "      <td>0.092</td>\n",
       "      <td>15.0</td>\n",
       "      <td>54.0</td>\n",
       "      <td>0.9970</td>\n",
       "      <td>3.26</td>\n",
       "      <td>0.65</td>\n",
       "      <td>9.8</td>\n",
       "      <td>5</td>\n",
       "    </tr>\n",
       "    <tr>\n",
       "      <th>3</th>\n",
       "      <td>11.2</td>\n",
       "      <td>0.28</td>\n",
       "      <td>0.56</td>\n",
       "      <td>1.9</td>\n",
       "      <td>0.075</td>\n",
       "      <td>17.0</td>\n",
       "      <td>60.0</td>\n",
       "      <td>0.9980</td>\n",
       "      <td>3.16</td>\n",
       "      <td>0.58</td>\n",
       "      <td>9.8</td>\n",
       "      <td>6</td>\n",
       "    </tr>\n",
       "    <tr>\n",
       "      <th>4</th>\n",
       "      <td>7.4</td>\n",
       "      <td>0.70</td>\n",
       "      <td>0.00</td>\n",
       "      <td>1.9</td>\n",
       "      <td>0.076</td>\n",
       "      <td>11.0</td>\n",
       "      <td>34.0</td>\n",
       "      <td>0.9978</td>\n",
       "      <td>3.51</td>\n",
       "      <td>0.56</td>\n",
       "      <td>9.4</td>\n",
       "      <td>5</td>\n",
       "    </tr>\n",
       "  </tbody>\n",
       "</table>\n",
       "</div>"
      ],
      "text/plain": [
       "   fixed acidity  volatile acidity  citric acid  residual sugar  chlorides  \\\n",
       "0            7.4              0.70         0.00             1.9      0.076   \n",
       "1            7.8              0.88         0.00             2.6      0.098   \n",
       "2            7.8              0.76         0.04             2.3      0.092   \n",
       "3           11.2              0.28         0.56             1.9      0.075   \n",
       "4            7.4              0.70         0.00             1.9      0.076   \n",
       "\n",
       "   free sulfur dioxide  total sulfur dioxide  density    pH  sulphates  \\\n",
       "0                 11.0                  34.0   0.9978  3.51       0.56   \n",
       "1                 25.0                  67.0   0.9968  3.20       0.68   \n",
       "2                 15.0                  54.0   0.9970  3.26       0.65   \n",
       "3                 17.0                  60.0   0.9980  3.16       0.58   \n",
       "4                 11.0                  34.0   0.9978  3.51       0.56   \n",
       "\n",
       "   alcohol  quality  \n",
       "0      9.4        5  \n",
       "1      9.8        5  \n",
       "2      9.8        5  \n",
       "3      9.8        6  \n",
       "4      9.4        5  "
      ]
     },
     "execution_count": 8,
     "metadata": {},
     "output_type": "execute_result"
    }
   ],
   "source": [
    "df.head()"
   ]
  },
  {
   "cell_type": "code",
   "execution_count": 10,
   "id": "02978c13-9288-4396-80eb-62efa84e53a2",
   "metadata": {},
   "outputs": [],
   "source": [
    "X=df\n",
    "y=df.pop('quality')"
   ]
  },
  {
   "cell_type": "code",
   "execution_count": 11,
   "id": "4a9b8475-c6ea-497b-bab8-66182c14ff5d",
   "metadata": {},
   "outputs": [],
   "source": [
    "X_train, X_test, y_train, y_test= train_test_split(X,y, test_size=0.1, random_state=35)"
   ]
  },
  {
   "cell_type": "code",
   "execution_count": 15,
   "id": "bb44eaa1-97cf-4e23-8f69-a762d9255ea7",
   "metadata": {},
   "outputs": [],
   "source": [
    "scaler = StandardScaler()\n",
    "X_train_scaled= scaler.fit_transform(X_train)\n",
    "X_test_scaled=scaler.transform(X_test)"
   ]
  },
  {
   "cell_type": "code",
   "execution_count": 16,
   "id": "d2a08ed3-27ed-4a38-8e66-36d3415af370",
   "metadata": {},
   "outputs": [
    {
     "data": {
      "text/html": [
       "<style>#sk-container-id-2 {color: black;background-color: white;}#sk-container-id-2 pre{padding: 0;}#sk-container-id-2 div.sk-toggleable {background-color: white;}#sk-container-id-2 label.sk-toggleable__label {cursor: pointer;display: block;width: 100%;margin-bottom: 0;padding: 0.3em;box-sizing: border-box;text-align: center;}#sk-container-id-2 label.sk-toggleable__label-arrow:before {content: \"▸\";float: left;margin-right: 0.25em;color: #696969;}#sk-container-id-2 label.sk-toggleable__label-arrow:hover:before {color: black;}#sk-container-id-2 div.sk-estimator:hover label.sk-toggleable__label-arrow:before {color: black;}#sk-container-id-2 div.sk-toggleable__content {max-height: 0;max-width: 0;overflow: hidden;text-align: left;background-color: #f0f8ff;}#sk-container-id-2 div.sk-toggleable__content pre {margin: 0.2em;color: black;border-radius: 0.25em;background-color: #f0f8ff;}#sk-container-id-2 input.sk-toggleable__control:checked~div.sk-toggleable__content {max-height: 200px;max-width: 100%;overflow: auto;}#sk-container-id-2 input.sk-toggleable__control:checked~label.sk-toggleable__label-arrow:before {content: \"▾\";}#sk-container-id-2 div.sk-estimator input.sk-toggleable__control:checked~label.sk-toggleable__label {background-color: #d4ebff;}#sk-container-id-2 div.sk-label input.sk-toggleable__control:checked~label.sk-toggleable__label {background-color: #d4ebff;}#sk-container-id-2 input.sk-hidden--visually {border: 0;clip: rect(1px 1px 1px 1px);clip: rect(1px, 1px, 1px, 1px);height: 1px;margin: -1px;overflow: hidden;padding: 0;position: absolute;width: 1px;}#sk-container-id-2 div.sk-estimator {font-family: monospace;background-color: #f0f8ff;border: 1px dotted black;border-radius: 0.25em;box-sizing: border-box;margin-bottom: 0.5em;}#sk-container-id-2 div.sk-estimator:hover {background-color: #d4ebff;}#sk-container-id-2 div.sk-parallel-item::after {content: \"\";width: 100%;border-bottom: 1px solid gray;flex-grow: 1;}#sk-container-id-2 div.sk-label:hover label.sk-toggleable__label {background-color: #d4ebff;}#sk-container-id-2 div.sk-serial::before {content: \"\";position: absolute;border-left: 1px solid gray;box-sizing: border-box;top: 0;bottom: 0;left: 50%;z-index: 0;}#sk-container-id-2 div.sk-serial {display: flex;flex-direction: column;align-items: center;background-color: white;padding-right: 0.2em;padding-left: 0.2em;position: relative;}#sk-container-id-2 div.sk-item {position: relative;z-index: 1;}#sk-container-id-2 div.sk-parallel {display: flex;align-items: stretch;justify-content: center;background-color: white;position: relative;}#sk-container-id-2 div.sk-item::before, #sk-container-id-2 div.sk-parallel-item::before {content: \"\";position: absolute;border-left: 1px solid gray;box-sizing: border-box;top: 0;bottom: 0;left: 50%;z-index: -1;}#sk-container-id-2 div.sk-parallel-item {display: flex;flex-direction: column;z-index: 1;position: relative;background-color: white;}#sk-container-id-2 div.sk-parallel-item:first-child::after {align-self: flex-end;width: 50%;}#sk-container-id-2 div.sk-parallel-item:last-child::after {align-self: flex-start;width: 50%;}#sk-container-id-2 div.sk-parallel-item:only-child::after {width: 0;}#sk-container-id-2 div.sk-dashed-wrapped {border: 1px dashed gray;margin: 0 0.4em 0.5em 0.4em;box-sizing: border-box;padding-bottom: 0.4em;background-color: white;}#sk-container-id-2 div.sk-label label {font-family: monospace;font-weight: bold;display: inline-block;line-height: 1.2em;}#sk-container-id-2 div.sk-label-container {text-align: center;}#sk-container-id-2 div.sk-container {/* jupyter's `normalize.less` sets `[hidden] { display: none; }` but bootstrap.min.css set `[hidden] { display: none !important; }` so we also need the `!important` here to be able to override the default hidden behavior on the sphinx rendered scikit-learn.org. See: https://github.com/scikit-learn/scikit-learn/issues/21755 */display: inline-block !important;position: relative;}#sk-container-id-2 div.sk-text-repr-fallback {display: none;}</style><div id=\"sk-container-id-2\" class=\"sk-top-container\"><div class=\"sk-text-repr-fallback\"><pre>SVC()</pre><b>In a Jupyter environment, please rerun this cell to show the HTML representation or trust the notebook. <br />On GitHub, the HTML representation is unable to render, please try loading this page with nbviewer.org.</b></div><div class=\"sk-container\" hidden><div class=\"sk-item\"><div class=\"sk-estimator sk-toggleable\"><input class=\"sk-toggleable__control sk-hidden--visually\" id=\"sk-estimator-id-2\" type=\"checkbox\" checked><label for=\"sk-estimator-id-2\" class=\"sk-toggleable__label sk-toggleable__label-arrow\">SVC</label><div class=\"sk-toggleable__content\"><pre>SVC()</pre></div></div></div></div></div>"
      ],
      "text/plain": [
       "SVC()"
      ]
     },
     "execution_count": 16,
     "metadata": {},
     "output_type": "execute_result"
    }
   ],
   "source": [
    "svc=SVC()\n",
    "svc.fit(X_train_scaled, y_train)"
   ]
  },
  {
   "cell_type": "code",
   "execution_count": 17,
   "id": "32334433-6254-43a4-84bf-2c55ede27cd0",
   "metadata": {},
   "outputs": [],
   "source": [
    "y_pred=svc.predict(X_test_scaled)"
   ]
  },
  {
   "cell_type": "code",
   "execution_count": 18,
   "id": "25985c78-3923-416d-bcab-cb4fc8e79bab",
   "metadata": {},
   "outputs": [
    {
     "name": "stdout",
     "output_type": "stream",
     "text": [
      "0.56875\n"
     ]
    }
   ],
   "source": [
    "accuracy=accuracy_score(y_test, y_pred)\n",
    "print(accuracy)"
   ]
  },
  {
   "cell_type": "code",
   "execution_count": 19,
   "id": "3406462f-94d2-43d6-8e96-2266cdeab027",
   "metadata": {},
   "outputs": [
    {
     "name": "stdout",
     "output_type": "stream",
     "text": [
      "Fitting 5 folds for each of 24 candidates, totalling 120 fits\n",
      "[CV 1/5] END ...C=0.1, gamma=0.1, kernel=linear;, score=0.576 total time=   0.1s\n",
      "[CV 2/5] END ...C=0.1, gamma=0.1, kernel=linear;, score=0.583 total time=   0.1s\n",
      "[CV 3/5] END ...C=0.1, gamma=0.1, kernel=linear;, score=0.618 total time=   0.1s\n",
      "[CV 4/5] END ...C=0.1, gamma=0.1, kernel=linear;, score=0.594 total time=   0.1s\n",
      "[CV 5/5] END ...C=0.1, gamma=0.1, kernel=linear;, score=0.554 total time=   0.1s\n",
      "[CV 1/5] END ......C=0.1, gamma=0.1, kernel=rbf;, score=0.576 total time=   0.1s\n",
      "[CV 2/5] END ......C=0.1, gamma=0.1, kernel=rbf;, score=0.587 total time=   0.1s\n",
      "[CV 3/5] END ......C=0.1, gamma=0.1, kernel=rbf;, score=0.618 total time=   0.1s\n",
      "[CV 4/5] END ......C=0.1, gamma=0.1, kernel=rbf;, score=0.615 total time=   0.1s\n",
      "[CV 5/5] END ......C=0.1, gamma=0.1, kernel=rbf;, score=0.568 total time=   0.1s\n",
      "[CV 1/5] END .....C=0.1, gamma=1, kernel=linear;, score=0.576 total time=   0.1s\n",
      "[CV 2/5] END .....C=0.1, gamma=1, kernel=linear;, score=0.583 total time=   0.1s\n",
      "[CV 3/5] END .....C=0.1, gamma=1, kernel=linear;, score=0.618 total time=   0.1s\n",
      "[CV 4/5] END .....C=0.1, gamma=1, kernel=linear;, score=0.594 total time=   0.1s\n",
      "[CV 5/5] END .....C=0.1, gamma=1, kernel=linear;, score=0.554 total time=   0.1s\n",
      "[CV 1/5] END ........C=0.1, gamma=1, kernel=rbf;, score=0.431 total time=   0.2s\n",
      "[CV 2/5] END ........C=0.1, gamma=1, kernel=rbf;, score=0.431 total time=   0.2s\n",
      "[CV 3/5] END ........C=0.1, gamma=1, kernel=rbf;, score=0.431 total time=   0.2s\n",
      "[CV 4/5] END ........C=0.1, gamma=1, kernel=rbf;, score=0.431 total time=   0.2s\n",
      "[CV 5/5] END ........C=0.1, gamma=1, kernel=rbf;, score=0.432 total time=   0.2s\n",
      "[CV 1/5] END ....C=0.1, gamma=10, kernel=linear;, score=0.576 total time=   0.1s\n",
      "[CV 2/5] END ....C=0.1, gamma=10, kernel=linear;, score=0.583 total time=   0.1s\n",
      "[CV 3/5] END ....C=0.1, gamma=10, kernel=linear;, score=0.618 total time=   0.1s\n",
      "[CV 4/5] END ....C=0.1, gamma=10, kernel=linear;, score=0.594 total time=   0.1s\n",
      "[CV 5/5] END ....C=0.1, gamma=10, kernel=linear;, score=0.554 total time=   0.1s\n",
      "[CV 1/5] END .......C=0.1, gamma=10, kernel=rbf;, score=0.431 total time=   0.2s\n",
      "[CV 2/5] END .......C=0.1, gamma=10, kernel=rbf;, score=0.431 total time=   0.2s\n",
      "[CV 3/5] END .......C=0.1, gamma=10, kernel=rbf;, score=0.431 total time=   0.2s\n",
      "[CV 4/5] END .......C=0.1, gamma=10, kernel=rbf;, score=0.431 total time=   0.2s\n",
      "[CV 5/5] END .......C=0.1, gamma=10, kernel=rbf;, score=0.432 total time=   0.2s\n",
      "[CV 1/5] END .....C=1, gamma=0.1, kernel=linear;, score=0.583 total time=   0.1s\n",
      "[CV 2/5] END .....C=1, gamma=0.1, kernel=linear;, score=0.562 total time=   0.1s\n",
      "[CV 3/5] END .....C=1, gamma=0.1, kernel=linear;, score=0.601 total time=   0.1s\n",
      "[CV 4/5] END .....C=1, gamma=0.1, kernel=linear;, score=0.604 total time=   0.1s\n",
      "[CV 5/5] END .....C=1, gamma=0.1, kernel=linear;, score=0.551 total time=   0.1s\n",
      "[CV 1/5] END ........C=1, gamma=0.1, kernel=rbf;, score=0.628 total time=   0.1s\n",
      "[CV 2/5] END ........C=1, gamma=0.1, kernel=rbf;, score=0.594 total time=   0.1s\n",
      "[CV 3/5] END ........C=1, gamma=0.1, kernel=rbf;, score=0.670 total time=   0.1s\n",
      "[CV 4/5] END ........C=1, gamma=0.1, kernel=rbf;, score=0.642 total time=   0.1s\n",
      "[CV 5/5] END ........C=1, gamma=0.1, kernel=rbf;, score=0.596 total time=   0.1s\n",
      "[CV 1/5] END .......C=1, gamma=1, kernel=linear;, score=0.583 total time=   0.1s\n",
      "[CV 2/5] END .......C=1, gamma=1, kernel=linear;, score=0.562 total time=   0.1s\n",
      "[CV 3/5] END .......C=1, gamma=1, kernel=linear;, score=0.601 total time=   0.1s\n",
      "[CV 4/5] END .......C=1, gamma=1, kernel=linear;, score=0.604 total time=   0.1s\n",
      "[CV 5/5] END .......C=1, gamma=1, kernel=linear;, score=0.551 total time=   0.1s\n",
      "[CV 1/5] END ..........C=1, gamma=1, kernel=rbf;, score=0.660 total time=   0.2s\n",
      "[CV 2/5] END ..........C=1, gamma=1, kernel=rbf;, score=0.635 total time=   0.2s\n",
      "[CV 3/5] END ..........C=1, gamma=1, kernel=rbf;, score=0.681 total time=   0.2s\n",
      "[CV 4/5] END ..........C=1, gamma=1, kernel=rbf;, score=0.635 total time=   0.2s\n",
      "[CV 5/5] END ..........C=1, gamma=1, kernel=rbf;, score=0.634 total time=   0.2s\n",
      "[CV 1/5] END ......C=1, gamma=10, kernel=linear;, score=0.583 total time=   0.1s\n",
      "[CV 2/5] END ......C=1, gamma=10, kernel=linear;, score=0.562 total time=   0.1s\n",
      "[CV 3/5] END ......C=1, gamma=10, kernel=linear;, score=0.601 total time=   0.1s\n",
      "[CV 4/5] END ......C=1, gamma=10, kernel=linear;, score=0.604 total time=   0.1s\n",
      "[CV 5/5] END ......C=1, gamma=10, kernel=linear;, score=0.551 total time=   0.1s\n",
      "[CV 1/5] END .........C=1, gamma=10, kernel=rbf;, score=0.552 total time=   0.2s\n",
      "[CV 2/5] END .........C=1, gamma=10, kernel=rbf;, score=0.580 total time=   0.2s\n",
      "[CV 3/5] END .........C=1, gamma=10, kernel=rbf;, score=0.573 total time=   0.2s\n",
      "[CV 4/5] END .........C=1, gamma=10, kernel=rbf;, score=0.549 total time=   0.2s\n",
      "[CV 5/5] END .........C=1, gamma=10, kernel=rbf;, score=0.585 total time=   0.2s\n",
      "[CV 1/5] END ....C=10, gamma=0.1, kernel=linear;, score=0.583 total time=   0.3s\n",
      "[CV 2/5] END ....C=10, gamma=0.1, kernel=linear;, score=0.569 total time=   0.3s\n",
      "[CV 3/5] END ....C=10, gamma=0.1, kernel=linear;, score=0.597 total time=   0.3s\n",
      "[CV 4/5] END ....C=10, gamma=0.1, kernel=linear;, score=0.601 total time=   0.3s\n",
      "[CV 5/5] END ....C=10, gamma=0.1, kernel=linear;, score=0.551 total time=   0.3s\n",
      "[CV 1/5] END .......C=10, gamma=0.1, kernel=rbf;, score=0.639 total time=   0.1s\n",
      "[CV 2/5] END .......C=10, gamma=0.1, kernel=rbf;, score=0.594 total time=   0.1s\n",
      "[CV 3/5] END .......C=10, gamma=0.1, kernel=rbf;, score=0.667 total time=   0.1s\n",
      "[CV 4/5] END .......C=10, gamma=0.1, kernel=rbf;, score=0.597 total time=   0.1s\n",
      "[CV 5/5] END .......C=10, gamma=0.1, kernel=rbf;, score=0.617 total time=   0.1s\n",
      "[CV 1/5] END ......C=10, gamma=1, kernel=linear;, score=0.583 total time=   0.3s\n",
      "[CV 2/5] END ......C=10, gamma=1, kernel=linear;, score=0.569 total time=   0.3s\n",
      "[CV 3/5] END ......C=10, gamma=1, kernel=linear;, score=0.597 total time=   0.3s\n",
      "[CV 4/5] END ......C=10, gamma=1, kernel=linear;, score=0.601 total time=   0.3s\n",
      "[CV 5/5] END ......C=10, gamma=1, kernel=linear;, score=0.551 total time=   0.3s\n",
      "[CV 1/5] END .........C=10, gamma=1, kernel=rbf;, score=0.660 total time=   0.2s\n",
      "[CV 2/5] END .........C=10, gamma=1, kernel=rbf;, score=0.656 total time=   0.2s\n",
      "[CV 3/5] END .........C=10, gamma=1, kernel=rbf;, score=0.677 total time=   0.2s\n",
      "[CV 4/5] END .........C=10, gamma=1, kernel=rbf;, score=0.653 total time=   0.2s\n",
      "[CV 5/5] END .........C=10, gamma=1, kernel=rbf;, score=0.645 total time=   0.2s\n",
      "[CV 1/5] END .....C=10, gamma=10, kernel=linear;, score=0.583 total time=   0.3s\n",
      "[CV 2/5] END .....C=10, gamma=10, kernel=linear;, score=0.569 total time=   0.3s\n",
      "[CV 3/5] END .....C=10, gamma=10, kernel=linear;, score=0.597 total time=   0.3s\n",
      "[CV 4/5] END .....C=10, gamma=10, kernel=linear;, score=0.601 total time=   0.3s\n",
      "[CV 5/5] END .....C=10, gamma=10, kernel=linear;, score=0.551 total time=   0.3s\n",
      "[CV 1/5] END ........C=10, gamma=10, kernel=rbf;, score=0.556 total time=   0.2s\n",
      "[CV 2/5] END ........C=10, gamma=10, kernel=rbf;, score=0.580 total time=   0.2s\n",
      "[CV 3/5] END ........C=10, gamma=10, kernel=rbf;, score=0.576 total time=   0.2s\n",
      "[CV 4/5] END ........C=10, gamma=10, kernel=rbf;, score=0.552 total time=   0.2s\n",
      "[CV 5/5] END ........C=10, gamma=10, kernel=rbf;, score=0.585 total time=   0.2s\n",
      "[CV 1/5] END ...C=100, gamma=0.1, kernel=linear;, score=0.580 total time=  10.6s\n",
      "[CV 2/5] END ...C=100, gamma=0.1, kernel=linear;, score=0.569 total time=   1.9s\n",
      "[CV 3/5] END ...C=100, gamma=0.1, kernel=linear;, score=0.597 total time=   2.0s\n",
      "[CV 4/5] END ...C=100, gamma=0.1, kernel=linear;, score=0.604 total time=   1.9s\n",
      "[CV 5/5] END ...C=100, gamma=0.1, kernel=linear;, score=0.554 total time=   5.6s\n",
      "[CV 1/5] END ......C=100, gamma=0.1, kernel=rbf;, score=0.608 total time=   0.2s\n",
      "[CV 2/5] END ......C=100, gamma=0.1, kernel=rbf;, score=0.573 total time=   0.2s\n",
      "[CV 3/5] END ......C=100, gamma=0.1, kernel=rbf;, score=0.656 total time=   0.2s\n",
      "[CV 4/5] END ......C=100, gamma=0.1, kernel=rbf;, score=0.615 total time=   0.2s\n",
      "[CV 5/5] END ......C=100, gamma=0.1, kernel=rbf;, score=0.641 total time=   0.2s\n",
      "[CV 1/5] END .....C=100, gamma=1, kernel=linear;, score=0.580 total time=  10.6s\n",
      "[CV 2/5] END .....C=100, gamma=1, kernel=linear;, score=0.569 total time=   1.9s\n",
      "[CV 3/5] END .....C=100, gamma=1, kernel=linear;, score=0.597 total time=   2.0s\n",
      "[CV 4/5] END .....C=100, gamma=1, kernel=linear;, score=0.604 total time=   1.9s\n",
      "[CV 5/5] END .....C=100, gamma=1, kernel=linear;, score=0.554 total time=   5.5s\n",
      "[CV 1/5] END ........C=100, gamma=1, kernel=rbf;, score=0.663 total time=   0.2s\n",
      "[CV 2/5] END ........C=100, gamma=1, kernel=rbf;, score=0.653 total time=   0.2s\n",
      "[CV 3/5] END ........C=100, gamma=1, kernel=rbf;, score=0.677 total time=   0.2s\n",
      "[CV 4/5] END ........C=100, gamma=1, kernel=rbf;, score=0.649 total time=   0.2s\n",
      "[CV 5/5] END ........C=100, gamma=1, kernel=rbf;, score=0.648 total time=   0.2s\n",
      "[CV 1/5] END ....C=100, gamma=10, kernel=linear;, score=0.580 total time=  10.6s\n",
      "[CV 2/5] END ....C=100, gamma=10, kernel=linear;, score=0.569 total time=   1.9s\n",
      "[CV 3/5] END ....C=100, gamma=10, kernel=linear;, score=0.597 total time=   2.0s\n",
      "[CV 4/5] END ....C=100, gamma=10, kernel=linear;, score=0.604 total time=   1.9s\n",
      "[CV 5/5] END ....C=100, gamma=10, kernel=linear;, score=0.554 total time=   5.5s\n",
      "[CV 1/5] END .......C=100, gamma=10, kernel=rbf;, score=0.556 total time=   0.2s\n",
      "[CV 2/5] END .......C=100, gamma=10, kernel=rbf;, score=0.580 total time=   0.2s\n",
      "[CV 3/5] END .......C=100, gamma=10, kernel=rbf;, score=0.576 total time=   0.2s\n",
      "[CV 4/5] END .......C=100, gamma=10, kernel=rbf;, score=0.552 total time=   0.2s\n",
      "[CV 5/5] END .......C=100, gamma=10, kernel=rbf;, score=0.585 total time=   0.2s\n"
     ]
    },
    {
     "data": {
      "text/html": [
       "<style>#sk-container-id-3 {color: black;background-color: white;}#sk-container-id-3 pre{padding: 0;}#sk-container-id-3 div.sk-toggleable {background-color: white;}#sk-container-id-3 label.sk-toggleable__label {cursor: pointer;display: block;width: 100%;margin-bottom: 0;padding: 0.3em;box-sizing: border-box;text-align: center;}#sk-container-id-3 label.sk-toggleable__label-arrow:before {content: \"▸\";float: left;margin-right: 0.25em;color: #696969;}#sk-container-id-3 label.sk-toggleable__label-arrow:hover:before {color: black;}#sk-container-id-3 div.sk-estimator:hover label.sk-toggleable__label-arrow:before {color: black;}#sk-container-id-3 div.sk-toggleable__content {max-height: 0;max-width: 0;overflow: hidden;text-align: left;background-color: #f0f8ff;}#sk-container-id-3 div.sk-toggleable__content pre {margin: 0.2em;color: black;border-radius: 0.25em;background-color: #f0f8ff;}#sk-container-id-3 input.sk-toggleable__control:checked~div.sk-toggleable__content {max-height: 200px;max-width: 100%;overflow: auto;}#sk-container-id-3 input.sk-toggleable__control:checked~label.sk-toggleable__label-arrow:before {content: \"▾\";}#sk-container-id-3 div.sk-estimator input.sk-toggleable__control:checked~label.sk-toggleable__label {background-color: #d4ebff;}#sk-container-id-3 div.sk-label input.sk-toggleable__control:checked~label.sk-toggleable__label {background-color: #d4ebff;}#sk-container-id-3 input.sk-hidden--visually {border: 0;clip: rect(1px 1px 1px 1px);clip: rect(1px, 1px, 1px, 1px);height: 1px;margin: -1px;overflow: hidden;padding: 0;position: absolute;width: 1px;}#sk-container-id-3 div.sk-estimator {font-family: monospace;background-color: #f0f8ff;border: 1px dotted black;border-radius: 0.25em;box-sizing: border-box;margin-bottom: 0.5em;}#sk-container-id-3 div.sk-estimator:hover {background-color: #d4ebff;}#sk-container-id-3 div.sk-parallel-item::after {content: \"\";width: 100%;border-bottom: 1px solid gray;flex-grow: 1;}#sk-container-id-3 div.sk-label:hover label.sk-toggleable__label {background-color: #d4ebff;}#sk-container-id-3 div.sk-serial::before {content: \"\";position: absolute;border-left: 1px solid gray;box-sizing: border-box;top: 0;bottom: 0;left: 50%;z-index: 0;}#sk-container-id-3 div.sk-serial {display: flex;flex-direction: column;align-items: center;background-color: white;padding-right: 0.2em;padding-left: 0.2em;position: relative;}#sk-container-id-3 div.sk-item {position: relative;z-index: 1;}#sk-container-id-3 div.sk-parallel {display: flex;align-items: stretch;justify-content: center;background-color: white;position: relative;}#sk-container-id-3 div.sk-item::before, #sk-container-id-3 div.sk-parallel-item::before {content: \"\";position: absolute;border-left: 1px solid gray;box-sizing: border-box;top: 0;bottom: 0;left: 50%;z-index: -1;}#sk-container-id-3 div.sk-parallel-item {display: flex;flex-direction: column;z-index: 1;position: relative;background-color: white;}#sk-container-id-3 div.sk-parallel-item:first-child::after {align-self: flex-end;width: 50%;}#sk-container-id-3 div.sk-parallel-item:last-child::after {align-self: flex-start;width: 50%;}#sk-container-id-3 div.sk-parallel-item:only-child::after {width: 0;}#sk-container-id-3 div.sk-dashed-wrapped {border: 1px dashed gray;margin: 0 0.4em 0.5em 0.4em;box-sizing: border-box;padding-bottom: 0.4em;background-color: white;}#sk-container-id-3 div.sk-label label {font-family: monospace;font-weight: bold;display: inline-block;line-height: 1.2em;}#sk-container-id-3 div.sk-label-container {text-align: center;}#sk-container-id-3 div.sk-container {/* jupyter's `normalize.less` sets `[hidden] { display: none; }` but bootstrap.min.css set `[hidden] { display: none !important; }` so we also need the `!important` here to be able to override the default hidden behavior on the sphinx rendered scikit-learn.org. See: https://github.com/scikit-learn/scikit-learn/issues/21755 */display: inline-block !important;position: relative;}#sk-container-id-3 div.sk-text-repr-fallback {display: none;}</style><div id=\"sk-container-id-3\" class=\"sk-top-container\"><div class=\"sk-text-repr-fallback\"><pre>GridSearchCV(estimator=SVC(),\n",
       "             param_grid={&#x27;C&#x27;: [0.1, 1, 10, 100], &#x27;gamma&#x27;: [0.1, 1, 10],\n",
       "                         &#x27;kernel&#x27;: [&#x27;linear&#x27;, &#x27;rbf&#x27;]},\n",
       "             verbose=3)</pre><b>In a Jupyter environment, please rerun this cell to show the HTML representation or trust the notebook. <br />On GitHub, the HTML representation is unable to render, please try loading this page with nbviewer.org.</b></div><div class=\"sk-container\" hidden><div class=\"sk-item sk-dashed-wrapped\"><div class=\"sk-label-container\"><div class=\"sk-label sk-toggleable\"><input class=\"sk-toggleable__control sk-hidden--visually\" id=\"sk-estimator-id-3\" type=\"checkbox\" ><label for=\"sk-estimator-id-3\" class=\"sk-toggleable__label sk-toggleable__label-arrow\">GridSearchCV</label><div class=\"sk-toggleable__content\"><pre>GridSearchCV(estimator=SVC(),\n",
       "             param_grid={&#x27;C&#x27;: [0.1, 1, 10, 100], &#x27;gamma&#x27;: [0.1, 1, 10],\n",
       "                         &#x27;kernel&#x27;: [&#x27;linear&#x27;, &#x27;rbf&#x27;]},\n",
       "             verbose=3)</pre></div></div></div><div class=\"sk-parallel\"><div class=\"sk-parallel-item\"><div class=\"sk-item\"><div class=\"sk-label-container\"><div class=\"sk-label sk-toggleable\"><input class=\"sk-toggleable__control sk-hidden--visually\" id=\"sk-estimator-id-4\" type=\"checkbox\" ><label for=\"sk-estimator-id-4\" class=\"sk-toggleable__label sk-toggleable__label-arrow\">estimator: SVC</label><div class=\"sk-toggleable__content\"><pre>SVC()</pre></div></div></div><div class=\"sk-serial\"><div class=\"sk-item\"><div class=\"sk-estimator sk-toggleable\"><input class=\"sk-toggleable__control sk-hidden--visually\" id=\"sk-estimator-id-5\" type=\"checkbox\" ><label for=\"sk-estimator-id-5\" class=\"sk-toggleable__label sk-toggleable__label-arrow\">SVC</label><div class=\"sk-toggleable__content\"><pre>SVC()</pre></div></div></div></div></div></div></div></div></div></div>"
      ],
      "text/plain": [
       "GridSearchCV(estimator=SVC(),\n",
       "             param_grid={'C': [0.1, 1, 10, 100], 'gamma': [0.1, 1, 10],\n",
       "                         'kernel': ['linear', 'rbf']},\n",
       "             verbose=3)"
      ]
     },
     "execution_count": 19,
     "metadata": {},
     "output_type": "execute_result"
    }
   ],
   "source": [
    "param_grid={'C':[0.1, 1, 10, 100], 'gamma':[0.1, 1, 10], 'kernel':['linear', 'rbf']}\n",
    "grid = GridSearchCV(SVC(), param_grid, refit=True, verbose=3)\n",
    "grid.fit(X_train_scaled, y_train)"
   ]
  },
  {
   "cell_type": "code",
   "execution_count": 20,
   "id": "46f87a80-4aa7-4ea2-844e-5fec3ec411b5",
   "metadata": {},
   "outputs": [
    {
     "data": {
      "text/html": [
       "<style>#sk-container-id-4 {color: black;background-color: white;}#sk-container-id-4 pre{padding: 0;}#sk-container-id-4 div.sk-toggleable {background-color: white;}#sk-container-id-4 label.sk-toggleable__label {cursor: pointer;display: block;width: 100%;margin-bottom: 0;padding: 0.3em;box-sizing: border-box;text-align: center;}#sk-container-id-4 label.sk-toggleable__label-arrow:before {content: \"▸\";float: left;margin-right: 0.25em;color: #696969;}#sk-container-id-4 label.sk-toggleable__label-arrow:hover:before {color: black;}#sk-container-id-4 div.sk-estimator:hover label.sk-toggleable__label-arrow:before {color: black;}#sk-container-id-4 div.sk-toggleable__content {max-height: 0;max-width: 0;overflow: hidden;text-align: left;background-color: #f0f8ff;}#sk-container-id-4 div.sk-toggleable__content pre {margin: 0.2em;color: black;border-radius: 0.25em;background-color: #f0f8ff;}#sk-container-id-4 input.sk-toggleable__control:checked~div.sk-toggleable__content {max-height: 200px;max-width: 100%;overflow: auto;}#sk-container-id-4 input.sk-toggleable__control:checked~label.sk-toggleable__label-arrow:before {content: \"▾\";}#sk-container-id-4 div.sk-estimator input.sk-toggleable__control:checked~label.sk-toggleable__label {background-color: #d4ebff;}#sk-container-id-4 div.sk-label input.sk-toggleable__control:checked~label.sk-toggleable__label {background-color: #d4ebff;}#sk-container-id-4 input.sk-hidden--visually {border: 0;clip: rect(1px 1px 1px 1px);clip: rect(1px, 1px, 1px, 1px);height: 1px;margin: -1px;overflow: hidden;padding: 0;position: absolute;width: 1px;}#sk-container-id-4 div.sk-estimator {font-family: monospace;background-color: #f0f8ff;border: 1px dotted black;border-radius: 0.25em;box-sizing: border-box;margin-bottom: 0.5em;}#sk-container-id-4 div.sk-estimator:hover {background-color: #d4ebff;}#sk-container-id-4 div.sk-parallel-item::after {content: \"\";width: 100%;border-bottom: 1px solid gray;flex-grow: 1;}#sk-container-id-4 div.sk-label:hover label.sk-toggleable__label {background-color: #d4ebff;}#sk-container-id-4 div.sk-serial::before {content: \"\";position: absolute;border-left: 1px solid gray;box-sizing: border-box;top: 0;bottom: 0;left: 50%;z-index: 0;}#sk-container-id-4 div.sk-serial {display: flex;flex-direction: column;align-items: center;background-color: white;padding-right: 0.2em;padding-left: 0.2em;position: relative;}#sk-container-id-4 div.sk-item {position: relative;z-index: 1;}#sk-container-id-4 div.sk-parallel {display: flex;align-items: stretch;justify-content: center;background-color: white;position: relative;}#sk-container-id-4 div.sk-item::before, #sk-container-id-4 div.sk-parallel-item::before {content: \"\";position: absolute;border-left: 1px solid gray;box-sizing: border-box;top: 0;bottom: 0;left: 50%;z-index: -1;}#sk-container-id-4 div.sk-parallel-item {display: flex;flex-direction: column;z-index: 1;position: relative;background-color: white;}#sk-container-id-4 div.sk-parallel-item:first-child::after {align-self: flex-end;width: 50%;}#sk-container-id-4 div.sk-parallel-item:last-child::after {align-self: flex-start;width: 50%;}#sk-container-id-4 div.sk-parallel-item:only-child::after {width: 0;}#sk-container-id-4 div.sk-dashed-wrapped {border: 1px dashed gray;margin: 0 0.4em 0.5em 0.4em;box-sizing: border-box;padding-bottom: 0.4em;background-color: white;}#sk-container-id-4 div.sk-label label {font-family: monospace;font-weight: bold;display: inline-block;line-height: 1.2em;}#sk-container-id-4 div.sk-label-container {text-align: center;}#sk-container-id-4 div.sk-container {/* jupyter's `normalize.less` sets `[hidden] { display: none; }` but bootstrap.min.css set `[hidden] { display: none !important; }` so we also need the `!important` here to be able to override the default hidden behavior on the sphinx rendered scikit-learn.org. See: https://github.com/scikit-learn/scikit-learn/issues/21755 */display: inline-block !important;position: relative;}#sk-container-id-4 div.sk-text-repr-fallback {display: none;}</style><div id=\"sk-container-id-4\" class=\"sk-top-container\"><div class=\"sk-text-repr-fallback\"><pre>SVC(C=100, gamma=1)</pre><b>In a Jupyter environment, please rerun this cell to show the HTML representation or trust the notebook. <br />On GitHub, the HTML representation is unable to render, please try loading this page with nbviewer.org.</b></div><div class=\"sk-container\" hidden><div class=\"sk-item\"><div class=\"sk-estimator sk-toggleable\"><input class=\"sk-toggleable__control sk-hidden--visually\" id=\"sk-estimator-id-6\" type=\"checkbox\" checked><label for=\"sk-estimator-id-6\" class=\"sk-toggleable__label sk-toggleable__label-arrow\">SVC</label><div class=\"sk-toggleable__content\"><pre>SVC(C=100, gamma=1)</pre></div></div></div></div></div>"
      ],
      "text/plain": [
       "SVC(C=100, gamma=1)"
      ]
     },
     "execution_count": 20,
     "metadata": {},
     "output_type": "execute_result"
    }
   ],
   "source": [
    "best_params_svc = grid.best_estimator_\n",
    "X_scaled = scaler.fit_transform(X)\n",
    "best_params_svc.fit(X_scaled, y)"
   ]
  },
  {
   "cell_type": "code",
   "execution_count": 22,
   "id": "eb76b38c-b835-4814-ae0c-b1d112901de2",
   "metadata": {},
   "outputs": [],
   "source": [
    "import pickle\n",
    "pickle.dump(best_params_svc, open(\"model.pkl\",'wb'))"
   ]
  },
  {
   "cell_type": "code",
   "execution_count": null,
   "id": "bdca921a-b10c-4d02-b22a-ae703819c28e",
   "metadata": {},
   "outputs": [],
   "source": []
  }
 ],
 "metadata": {
  "kernelspec": {
   "display_name": "Python 3 (ipykernel)",
   "language": "python",
   "name": "python3"
  },
  "language_info": {
   "codemirror_mode": {
    "name": "ipython",
    "version": 3
   },
   "file_extension": ".py",
   "mimetype": "text/x-python",
   "name": "python",
   "nbconvert_exporter": "python",
   "pygments_lexer": "ipython3",
   "version": "3.10.8"
  }
 },
 "nbformat": 4,
 "nbformat_minor": 5
}
