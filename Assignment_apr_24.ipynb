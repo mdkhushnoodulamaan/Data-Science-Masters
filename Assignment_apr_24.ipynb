{
 "cells": [
  {
   "cell_type": "markdown",
   "id": "13582d38-3639-4f3d-b238-6ea659760980",
   "metadata": {},
   "source": [
    "# Assignment"
   ]
  },
  {
   "cell_type": "markdown",
   "id": "bcd3a879-d0cf-4640-8035-2019c8e8b949",
   "metadata": {},
   "source": [
    "### Ans1)"
   ]
  },
  {
   "cell_type": "markdown",
   "id": "abaeb0c4-289a-48ac-b5a5-ea113f5a23e2",
   "metadata": {},
   "source": [
    "In the context of Principal Component Analysis (PCA) and linear algebra, a projection refers to the transformation of data points from a higher-dimensional space to a lower-dimensional space while preserving as much variance as possible. PCA uses projections to reduce the dimensionality of data while retaining the most important information.\n",
    "\n",
    "Here's how projections work in PCA:\n",
    "\n",
    "1. **Centering the Data:** The first step in PCA is to center the data by subtracting the mean of each feature from the corresponding feature values. This centers the data around the origin, which is a crucial preprocessing step.\n",
    "\n",
    "2. **Covariance Matrix:** PCA then calculates the covariance matrix of the centered data. The covariance matrix describes how the features in the dataset vary together. It is a square matrix where each entry represents the covariance between two features.\n",
    "\n",
    "3. **Eigendecomposition:** PCA proceeds to perform an eigendecomposition of the covariance matrix. The result of this decomposition is a set of eigenvectors and eigenvalues.\n",
    "\n",
    "4. **Selecting Principal Components:** The eigenvectors represent the directions (or axes) in the original feature space along which the data varies the most. These eigenvectors are also referred to as the principal components. The corresponding eigenvalues indicate the amount of variance explained by each principal component.\n",
    "\n",
    "5. **Projection:** To reduce the dimensionality of the data, you select a subset of the principal components. Typically, you choose the top k principal components, where k is the desired lower-dimensional space's dimensionality. These principal components form a transformation matrix.\n",
    "\n",
    "6. **Transformation:** The transformation matrix, formed by the selected principal components, is used to project the original data points from the high-dimensional space to the lower-dimensional space. This projection involves a linear combination of the original features, weighted by the components' values.\n"
   ]
  },
  {
   "cell_type": "markdown",
   "id": "cc4e1277-55d7-4647-be3a-8500da11d22e",
   "metadata": {},
   "source": [
    "### Ans2)"
   ]
  },
  {
   "cell_type": "markdown",
   "id": "b159f508-8f07-4a38-a95e-381bd295a648",
   "metadata": {},
   "source": [
    "Principal Component Analysis (PCA) involves solving an optimization problem to find the principal components of a dataset. The primary goal of PCA is to reduce the dimensionality of the data while preserving as much of the original variance as possible. Here's how the optimization problem in PCA works and what it's trying to achieve:\n",
    "\n",
    "**Step 1: Centering the Data**\n",
    "Before performing PCA, the data is typically centered by subtracting the mean of each feature from the corresponding feature values. This step ensures that the data is centered around the origin, which is essential for PCA.\n",
    "\n",
    "**Step 2: Computing the Covariance Matrix**\n",
    "PCA starts by calculating the covariance matrix of the centered data. The covariance matrix provides information about how features vary together. Each entry in the covariance matrix represents the covariance between two features. Mathematically, for a dataset with n data points and p features, the covariance matrix C is a p x p matrix defined as:\n",
    "\n",
    "C = (1/n) * X^T * X\n",
    "\n",
    "Where:\n",
    "- X is the centered data matrix, with dimensions n x p.\n",
    "- X^T is the transpose of the data matrix.\n",
    "\n",
    "**Step 3: Eigendecomposition of the Covariance Matrix**\n",
    "The next step is to perform an eigendecomposition (eigenvalue decomposition) of the covariance matrix C. The eigendecomposition decomposes the matrix into its eigenvectors and eigenvalues:\n",
    "\n",
    "C = V * Λ * V^T\n",
    "\n",
    "Where:\n",
    "- V is a matrix containing the eigenvectors of C as columns. These eigenvectors represent the principal components.\n",
    "- Λ is a diagonal matrix containing the eigenvalues of C.\n",
    "\n",
    "**Step 4: Selecting Principal Components**\n",
    "PCA aims to select a subset of the eigenvectors (principal components) to create a transformation matrix. The decision of how many principal components to select depends on the desired dimensionality of the reduced space. Typically, you choose the top k eigenvectors associated with the k largest eigenvalues.\n",
    "\n",
    "**Step 5: Projection**\n",
    "The selected principal components form a transformation matrix. To reduce the dimensionality of the data, the original data points are projected onto the new lower-dimensional space defined by these principal components. This projection is done using a linear combination of the original features, weighted by the values of the selected principal components.\n",
    "\n",
    "**Step 6: Maximizing Variance**\n",
    "The optimization problem in PCA is all about maximizing the variance captured by the selected principal components. By choosing the principal components associated with the largest eigenvalues, PCA ensures that the projected data retains as much variance as possible. This means that the new feature space retains most of the important information in the original data."
   ]
  },
  {
   "cell_type": "markdown",
   "id": "ec69b310-141e-4553-a382-8cbed816aaac",
   "metadata": {},
   "source": [
    "### Ans3)"
   ]
  },
  {
   "cell_type": "markdown",
   "id": "4956a863-3f9c-4d06-a9e0-7d457e4a58c8",
   "metadata": {},
   "source": [
    "Covariance matrices play a fundamental role in Principal Component Analysis (PCA). The relationship between covariance matrices and PCA lies in how PCA leverages the covariance matrix of a dataset to find its principal components. Here's a detailed explanation of this relationship:\n",
    "\n",
    "1. **Covariance Matrix (C):** In PCA, the first step is to compute the covariance matrix of the dataset. The covariance matrix, denoted as C, is a square matrix with dimensions equal to the number of features in the dataset. Each entry (i, j) in the covariance matrix represents the covariance between the ith and jth features. Mathematically, for a dataset with n data points and p features, the covariance matrix C is defined as:\n",
    "\n",
    "   C = (1/n) * X^T * X\n",
    "\n",
    "   - X is the centered data matrix, with dimensions n x p.\n",
    "   - X^T is the transpose of the data matrix.\n",
    "\n",
    "2. **Eigendecomposition of the Covariance Matrix:** After calculating the covariance matrix C, PCA proceeds to perform an eigendecomposition (eigenvalue decomposition) of this matrix. The eigendecomposition decomposes the covariance matrix into its eigenvectors and eigenvalues:\n",
    "\n",
    "   C = V * Λ * V^T\n",
    "\n",
    "   - V is a matrix containing the eigenvectors of C as columns. These eigenvectors represent the principal components.\n",
    "   - Λ is a diagonal matrix containing the eigenvalues of C.\n",
    "\n",
    "3. **Principal Components:** The eigenvectors contained in matrix V are the principal components of the dataset. Each eigenvector corresponds to one of the dimensions in the original feature space and represents a new coordinate system for the data. These principal components are orthogonal to each other and ordered by their associated eigenvalues, indicating the amount of variance explained by each component.\n",
    "\n",
    "4. **Variance Explanation:** The eigenvalues in the diagonal matrix Λ represent the variance of the data along each principal component axis. The eigenvalues are ordered in descending order, with the largest eigenvalue corresponding to the direction of maximum variance in the data. The subsequent eigenvalues represent decreasing amounts of variance along their respective axes.\n",
    "\n",
    "5. **Dimensionality Reduction:** PCA allows you to choose a subset of the principal components to reduce the dimensionality of the data. Typically, you select the top k principal components associated with the k largest eigenvalues to create a transformation matrix. This transformation matrix is then used to project the data into a lower-dimensional space.\n"
   ]
  },
  {
   "cell_type": "markdown",
   "id": "ce1c5c7a-4d33-4c9d-a167-a46a85569db1",
   "metadata": {},
   "source": [
    "### Ans4)"
   ]
  },
  {
   "cell_type": "markdown",
   "id": "58b28d3e-e843-4a36-8141-b1001fefb4d2",
   "metadata": {},
   "source": [
    "The choice of the number of principal components in PCA has a significant impact on the performance and effectiveness of the technique. The number of principal components you select determines the dimensionality of the reduced feature space and can influence various aspects of PCA, including data representation, information retention, computational complexity, and model performance. Here's how the choice of the number of principal components affects PCA:\n",
    "\n",
    "1. **Dimensionality Reduction:** The primary purpose of PCA is to reduce the dimensionality of the data while preserving as much of the original variance as possible. By choosing a smaller number of principal components, you reduce the dimensionality of the transformed data. This can be beneficial for simplifying subsequent analysis, visualization, and modeling.\n",
    "\n",
    "2. **Information Retention:** The number of principal components you select determines how much information from the original data is retained in the reduced feature space. Selecting more principal components preserves more of the original variance and information, while choosing fewer components results in greater information loss. The trade-off is that higher-dimensional representations may better capture complex data structures but may also introduce noise.\n",
    "\n",
    "3. **Explained Variance:** PCA provides a measure of the explained variance for each principal component through the eigenvalues associated with them. The proportion of total variance explained by each principal component is an essential consideration when choosing the number of components. You can use cumulative explained variance to decide on the optimal number of components, selecting enough to capture a significant portion of the total variance (e.g., 90% or 95%).\n",
    "\n",
    "4. **Interpretability:** In some cases, a reduced set of principal components may be more interpretable and easier to understand than a high-dimensional representation. Reducing the number of components can lead to a more concise and meaningful representation of the data.\n",
    "\n",
    "5. **Computational Efficiency:** The computational complexity of PCA is influenced by the number of components. Fewer components generally result in faster computation during both training and inference stages. This can be advantageous when dealing with large datasets or resource-constrained environments.\n",
    "\n",
    "6. **Overfitting and Underfitting:** The number of principal components can impact the potential for overfitting and underfitting in subsequent machine learning models. More components may lead to overfitting if the model tries to capture noise, while too few components may result in underfitting if essential information is discarded.\n",
    "\n",
    "7. **Model Performance:** In practice, you can evaluate the impact of the chosen number of principal components on model performance by using techniques like cross-validation. Models built on data with different numbers of components can be compared in terms of their predictive accuracy, generalization, and robustness.\n",
    "\n",
    "8. **Visualization:** The choice of the number of principal components can also affect the ability to visualize the data in a lower-dimensional space. A reduced set of components may enable more straightforward data visualization and exploration.\n"
   ]
  },
  {
   "cell_type": "markdown",
   "id": "797c3763-6510-422e-85ae-dcae4542cac1",
   "metadata": {},
   "source": [
    "### Ans5)"
   ]
  },
  {
   "cell_type": "markdown",
   "id": "80b4c6eb-c1c6-4d58-9ae2-efb3ff2c2b70",
   "metadata": {},
   "source": [
    "PCA can be used as a feature selection technique, albeit indirectly, by leveraging its ability to reduce the dimensionality of data while preserving the most important information. While PCA is primarily used for dimensionality reduction, it can have feature selection benefits in certain contexts. Here's how PCA can be used for feature selection and the benefits of doing so:\n",
    "\n",
    "**Using PCA for Feature Selection:**\n",
    "\n",
    "1. **Step 1: Dimensionality Reduction:** Perform PCA on the dataset, which involves calculating the covariance matrix, eigendecomposition, and selecting a subset of the principal components that capture the desired amount of variance (explained variance).\n",
    "\n",
    "2. **Step 2: Projection:** Project the original data onto the selected principal components to create a reduced-dimensional representation of the data. This representation retains most of the essential information while reducing the number of features (dimensions).\n",
    "\n",
    "3. **Step 3: Analysis:** Analyze the importance of each principal component by examining its associated eigenvalue. Higher eigenvalues correspond to principal components that explain more variance in the data and are therefore more informative.\n",
    "\n",
    "4. **Step 4: Feature Importance:** Examine the loadings or coefficients of the original features on the selected principal components. These loadings indicate the contribution of each original feature to the principal components. Features with higher absolute loadings are more important in capturing the variance represented by the principal components.\n",
    "\n",
    "5. **Step 5: Feature Selection:** Based on the analysis of loadings and the explained variance, you can decide which original features are most important for capturing the variation in the data. Features with high loadings on significant principal components are retained, while those with low loadings may be discarded.\n",
    "\n",
    "**Benefits of Using PCA for Feature Selection:**\n",
    "\n",
    "1. **Dimensionality Reduction:** PCA inherently reduces the dimensionality of the data, making it suitable for high-dimensional datasets. This reduction simplifies subsequent analysis and modeling, especially when dealing with a large number of features.\n",
    "\n",
    "2. **Reducing Redundancy:** PCA can help identify and remove redundant features by focusing on the principal components that explain the most variance. This reduces multicollinearity and can improve model stability.\n",
    "\n",
    "3. **Handling Correlated Features:** When features are highly correlated, PCA can capture the underlying structure in a more compact representation, reducing the need to include all correlated features in the analysis.\n",
    "\n",
    "4. **Noise Reduction:** By selecting the principal components that explain most of the variance, PCA can reduce the impact of noise and irrelevant features on the analysis, potentially leading to more robust models.\n",
    "\n",
    "5. **Interpretability:** The reduced set of features after PCA may be more interpretable than the original high-dimensional dataset, as it concentrates on the most informative dimensions.\n",
    "\n",
    "6. **Visualization:** The reduced-dimensional representation obtained through PCA may be more suitable for visualization, allowing for easier data exploration and understanding.\n",
    "\n",
    "7. **Enhanced Model Performance:** In some cases, using PCA for feature selection can lead to improved model performance, especially when the dimensionality of the original data exceeds the amount of information available or when overfitting is a concern.\n"
   ]
  },
  {
   "cell_type": "markdown",
   "id": "94be1de6-2071-4004-9833-e073c11e8377",
   "metadata": {},
   "source": [
    "### Ans6)"
   ]
  },
  {
   "cell_type": "markdown",
   "id": "eec590c5-3544-47b0-8282-0df9d40ac2f3",
   "metadata": {},
   "source": [
    "Principal Component Analysis (PCA) is a versatile technique used in various applications in data science and machine learning. Its ability to reduce dimensionality while retaining essential information makes it valuable in a wide range of domains. Here are some common applications of PCA:\n",
    "\n",
    "1. **Dimensionality Reduction:** PCA is widely used for dimensionality reduction in high-dimensional datasets. This is beneficial for simplifying data, speeding up computations, and reducing noise.\n",
    "\n",
    "2. **Data Visualization:** PCA can be used to project high-dimensional data into a lower-dimensional space for visualization purposes. It helps in creating scatter plots, heatmaps, and other visualizations to explore data and discover patterns.\n",
    "\n",
    "3. **Feature Engineering:** PCA can be employed as a feature engineering technique to create new features that capture the most important information in the data. These new features can be used as inputs for machine learning models.\n",
    "\n",
    "4. **Image Compression:** In image processing, PCA can be used to reduce the dimensionality of images while preserving image quality. This is useful for image compression and storage optimization.\n",
    "\n",
    "5. **Face Recognition:** PCA is a fundamental component in face recognition systems. It is used to reduce the dimensionality of facial features and identify key patterns for recognition.\n",
    "\n",
    "6. **Speech Recognition:** PCA is applied to audio and speech data for feature extraction, reducing the complexity of audio signals while retaining relevant information.\n",
    "\n",
    "7. **Text Mining:** In natural language processing, PCA can be used for feature extraction from text data. It helps reduce the dimensionality of the feature space when working with large text corpora.\n",
    "\n",
    "8. **Biology and Genomics:** PCA is used in bioinformatics to analyze gene expression data, identify patterns in DNA sequences, and reduce the dimensionality of biological datasets.\n",
    "\n",
    "9. **Finance:** In finance, PCA is applied to analyze stock market data, reduce risk through portfolio diversification, and identify patterns in financial time series data.\n",
    "\n",
    "10. **Anomaly Detection:** PCA can be used to detect anomalies or outliers in high-dimensional datasets by identifying data points that deviate significantly from the norm.\n",
    "\n",
    "11. **Quality Control:** In manufacturing and quality control, PCA helps identify patterns and relationships in large datasets of product measurements to ensure product quality.\n",
    "\n",
    "12. **Remote Sensing and Imaging:** PCA is used to process and analyze remote sensing data from satellites and other sensors, reducing data dimensionality for better analysis.\n",
    "\n",
    "13. **Environmental Science:** PCA can help analyze complex environmental data, such as climate data, to identify underlying patterns and trends.\n",
    "\n",
    "14. **Chemoinformatics:** In chemistry and drug discovery, PCA assists in analyzing molecular and chemical data, extracting relevant features, and understanding structure-activity relationships.\n",
    "\n",
    "15. **Market Research:** PCA can be used to analyze consumer behavior data, reduce the dimensionality of survey data, and identify underlying factors affecting consumer preferences."
   ]
  },
  {
   "cell_type": "markdown",
   "id": "b51a496e-aac9-4900-adfa-306cf28d3118",
   "metadata": {},
   "source": [
    "### Ans7)"
   ]
  },
  {
   "cell_type": "markdown",
   "id": "82fd590d-4ec9-48bc-9db5-9b680cd812b5",
   "metadata": {},
   "source": [
    "In Principal Component Analysis (PCA), the concepts of spread and variance are closely related, and they both refer to the distribution of data along the principal components. Let's explore the relationship between spread and variance in PCA:\n",
    "\n",
    "1. **Variance in PCA:**\n",
    "   \n",
    "   Variance is a measure of the spread or dispersion of data along a particular axis or dimension. In the context of PCA, variance represents the amount of information or signal contained in each principal component. The larger the variance associated with a principal component, the more information it captures about the data's variability along that component.\n",
    "\n",
    "   Specifically, the eigenvalues of the covariance matrix in PCA represent the variances along the principal components. The eigenvalues are ordered, with the largest eigenvalue corresponding to the direction of maximum variance in the data. Subsequent eigenvalues represent decreasing amounts of variance along their respective axes.\n",
    "\n",
    "   So, in PCA, variance is a measure of how \"spread out\" the data is along each principal component. Higher variances indicate that the data points are more dispersed along that component.\n",
    "\n",
    "2. **Spread in PCA:**\n",
    "\n",
    "   Spread refers to the distribution of data points in the transformed lower-dimensional space after PCA. When data is projected onto the principal components, it forms a new representation where the data points are spread out along the directions defined by the principal components.\n",
    "\n",
    "   The spread of data points in the lower-dimensional space depends on the eigenvalues of the covariance matrix and the corresponding principal components. The principal components associated with larger eigenvalues contribute to a broader spread of data points in their respective directions.\n",
    "\n",
    "3. **Relationship between Spread and Variance:**\n",
    "\n",
    "   The relationship between spread and variance in PCA is that the variance of the data along a principal component determines the spread of data points in the direction defined by that component. In other words, the principal component with the largest variance corresponds to the direction in which data points are spread out the most in the lower-dimensional space.\n",
    "\n",
    "   The first principal component captures the most significant amount of variance in the data and corresponds to the direction of maximum spread. Subsequent principal components capture decreasing amounts of variance and correspond to directions of decreasing spread.\n",
    "\n",
    "   Therefore, when you talk about spread in the context of PCA, you are essentially referring to the distribution of data points along the principal components, and this distribution is directly influenced by the variance explained by each component.\n"
   ]
  },
  {
   "cell_type": "markdown",
   "id": "140af0ff-6b3f-42a5-88d1-5bcf49c8b2f1",
   "metadata": {},
   "source": [
    "### Ans8)"
   ]
  },
  {
   "cell_type": "markdown",
   "id": "ec0e3c5c-32cd-46e2-91c3-2ede41974a13",
   "metadata": {},
   "source": [
    "Principal Component Analysis (PCA) uses the spread and variance of the data to identify principal components through the following steps:\n",
    "\n",
    "1. **Covariance Matrix Calculation:**\n",
    "   - PCA begins by calculating the covariance matrix of the original data. The covariance matrix is a square matrix where each entry represents the covariance between two features in the dataset.\n",
    "   - The covariance matrix provides information about how pairs of features vary together. A positive covariance indicates that the features tend to increase or decrease together, while a negative covariance indicates an inverse relationship.\n",
    "\n",
    "2. **Eigendecomposition of the Covariance Matrix:**\n",
    "   - PCA proceeds by performing an eigendecomposition (eigenvalue decomposition) of the covariance matrix. The eigendecomposition decomposes the covariance matrix into its eigenvectors and eigenvalues.\n",
    "   - The eigenvectors represent directions (principal components) in the original feature space, and the eigenvalues indicate the amount of variance explained by each principal component.\n",
    "\n",
    "3. **Selection of Principal Components:**\n",
    "   - The next step is to select a subset of the eigenvectors (principal components) based on the eigenvalues. The eigenvalues are ordered in descending order, with the largest eigenvalue corresponding to the direction of maximum variance in the data.\n",
    "   - Typically, you choose the top k eigenvectors associated with the k largest eigenvalues to reduce the dimensionality of the data. These selected principal components will capture most of the variance in the data.\n",
    "\n",
    "4. **Projection onto Principal Components:**\n",
    "   - The selected principal components form a transformation matrix. To reduce the dimensionality of the data, the original data points are projected onto this lower-dimensional space defined by the principal components.\n",
    "   - The projection involves a linear combination of the original features, weighted by the values of the selected principal components.\n",
    "\n",
    "5. **Variance Explained:**\n",
    "   - Each principal component captures a certain amount of variance in the data. The eigenvalues associated with the principal components indicate the proportion of total variance explained by each component.\n",
    "   - By selecting a subset of principal components, PCA aims to retain a significant portion of the total variance while reducing dimensionality. This allows for dimensionality reduction while preserving most of the essential information.\n"
   ]
  },
  {
   "cell_type": "markdown",
   "id": "53d8c9ec-8a7e-47f4-8715-921806b4eb5b",
   "metadata": {},
   "source": [
    "### Ans9)"
   ]
  },
  {
   "cell_type": "markdown",
   "id": "7da58006-6095-4d23-8b62-45d533d0e719",
   "metadata": {},
   "source": [
    "Principal Component Analysis (PCA) is particularly useful when dealing with data that exhibits high variance in some dimensions but low variance in others. PCA can effectively handle such data by identifying the directions of maximum variance, regardless of whether that variance is high or low in individual dimensions. Here's how PCA works with data that has varying variances across dimensions:\n",
    "\n",
    "1. **Covariance Calculation:** PCA begins by calculating the covariance matrix of the original data. The covariance matrix quantifies the relationships between all pairs of dimensions. If some dimensions have high variance and others have low variance, the covariance matrix will reflect this by having larger values in the corresponding entries for high-variance dimensions and smaller values for low-variance dimensions.\n",
    "\n",
    "2. **Eigenvalue Decomposition:** PCA then performs an eigenvalue decomposition of the covariance matrix. This decomposition identifies the principal components and their associated eigenvalues.\n",
    "\n",
    "3. **Principal Component Selection:** The eigenvalues represent the variance explained by each principal component. Higher eigenvalues indicate directions with higher variance, while lower eigenvalues correspond to directions with lower variance. PCA selects the top k principal components based on their associated eigenvalues, where k is typically determined by the desired dimensionality of the reduced feature space.\n",
    "\n",
    "4. **Projection onto Principal Components:** The selected principal components form a new basis for the data. The original data points are projected onto these principal components to create a lower-dimensional representation of the data. The projection involves a linear combination of the original features, weighted by the values of the selected principal components.\n",
    "\n",
    "Here's how PCA handles data with high variance in some dimensions but low variance in others:\n",
    "\n",
    "- **Preserving High Variance:** PCA automatically identifies and retains the principal components corresponding to the directions of high variance in the data. These principal components capture the essential information from the high-variance dimensions, ensuring that this information is preserved in the lower-dimensional representation.\n",
    "\n",
    "- **Ignoring Low Variance:** PCA also naturally filters out directions with low variance. When PCA selects the top k principal components, it prioritizes the components associated with high eigenvalues, which represent the directions of maximum variance. Directions with low variance have lower eigenvalues and are effectively ignored in the lower-dimensional representation.\n"
   ]
  },
  {
   "cell_type": "code",
   "execution_count": null,
   "id": "85c87d67-b079-4001-ba23-3e4cb604a89e",
   "metadata": {},
   "outputs": [],
   "source": []
  }
 ],
 "metadata": {
  "kernelspec": {
   "display_name": "Python 3 (ipykernel)",
   "language": "python",
   "name": "python3"
  },
  "language_info": {
   "codemirror_mode": {
    "name": "ipython",
    "version": 3
   },
   "file_extension": ".py",
   "mimetype": "text/x-python",
   "name": "python",
   "nbconvert_exporter": "python",
   "pygments_lexer": "ipython3",
   "version": "3.10.9"
  }
 },
 "nbformat": 4,
 "nbformat_minor": 5
}
