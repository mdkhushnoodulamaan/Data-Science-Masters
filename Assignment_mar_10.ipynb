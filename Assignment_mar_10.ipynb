{
 "cells": [
  {
   "cell_type": "markdown",
   "id": "50904b1f-5561-4b10-8b81-a854a0eccbd5",
   "metadata": {},
   "source": [
    "# Assignment"
   ]
  },
  {
   "cell_type": "markdown",
   "id": "635e2269-5f2a-430b-b0cc-ab775ec43547",
   "metadata": {},
   "source": [
    "### Ans1)"
   ]
  },
  {
   "cell_type": "markdown",
   "id": "2c00dd86-35ae-46fa-81cc-0dc3108c05e5",
   "metadata": {},
   "source": [
    "Estimation statistics is a branch of statistics that deals with estimating unknown population parameters based on information from a sample. It is the process of using sample data to make inferences about a population. Estimation involves calculating a statistic that represents the population parameter, and this is done through point estimation and interval estimation."
   ]
  },
  {
   "cell_type": "markdown",
   "id": "c7713434-6027-4bb7-a91a-8b7e9741dee2",
   "metadata": {},
   "source": [
    "Point estimation involves using a single value, called a point estimate, to estimate the population parameter."
   ]
  },
  {
   "cell_type": "markdown",
   "id": "fd0479cc-8ce3-42ba-8eec-d701eb582061",
   "metadata": {},
   "source": [
    "Interval estimation, on the other hand, involves calculating a range of values, called a confidence interval, which is believed to contain the true population parameter with a certain degree of confidence."
   ]
  },
  {
   "cell_type": "markdown",
   "id": "4f0182e2-bbb5-476c-b13a-828fcb15945b",
   "metadata": {},
   "source": [
    "### Ans2)"
   ]
  },
  {
   "cell_type": "code",
   "execution_count": 8,
   "id": "8ca4326a-5d1f-4783-a059-914f2b344737",
   "metadata": {},
   "outputs": [],
   "source": [
    "import math\n",
    "\n",
    "def population_mean(sample_mean,sample_std_dev,sample_size):\n",
    "    std_error = sample_std_dev/math.sqrt(sample_size)\n",
    "    z_score = 1.96\n",
    "    margin_of_error = z_score*std_error\n",
    "    lower_bound = sample_mean - margin_of_error\n",
    "    upper_bound = sample_mean + margin_of_error\n",
    "    return ((lower_bound + upper_bound)/2)"
   ]
  },
  {
   "cell_type": "code",
   "execution_count": 11,
   "id": "250b138e-2f2f-4857-8f64-fb4a9634bfb8",
   "metadata": {},
   "outputs": [
    {
     "name": "stdout",
     "output_type": "stream",
     "text": [
      "Population mean is :10.0\n"
     ]
    }
   ],
   "source": [
    "pop_mean=population_mean(10,2,100)\n",
    "print(f\"Population mean is :{pop_mean}\")"
   ]
  },
  {
   "cell_type": "markdown",
   "id": "84230b07-7f48-491b-b133-c1e433bf5394",
   "metadata": {},
   "source": [
    "### Ans3)"
   ]
  },
  {
   "cell_type": "markdown",
   "id": "808c92aa-8a6b-4bc6-ab49-6117c507988b",
   "metadata": {},
   "source": [
    "Hypothesis testing is a statistical method used to evaluate whether a specific hypothesis about a population parameter is supported by the data collected from a sample. The general idea behind hypothesis testing is to determine whether the sample data is consistent with a particular hypothesis, or whether it suggests that the hypothesis is false."
   ]
  },
  {
   "cell_type": "markdown",
   "id": "703a3fd4-b659-4d0b-b004-8a75c1e9e11f",
   "metadata": {},
   "source": [
    "Hypothesis testing is used to test a variety of research questions. It is particularly useful in situations where it is impossible or impractical to collect data from an entire population, and instead, a smaller sample must be used."
   ]
  },
  {
   "cell_type": "markdown",
   "id": "8f7adc1c-0f55-4e94-8b97-dcc3fe05f76c",
   "metadata": {},
   "source": [
    "The importance of hypothesis testing lies in its ability to help researchers draw meaningful conclusions from their data. By testing a hypothesis, researchers can determine whether their results are statistically significant, which means that they are unlikely to have occurred by chance. This, in turn, allows researchers to make more confident statements about their findings and draw more reliable conclusions.\n",
    "\n"
   ]
  },
  {
   "cell_type": "markdown",
   "id": "14afb101-8ff6-4c60-acc2-1e130d6ede62",
   "metadata": {},
   "source": [
    "### Ans4)"
   ]
  },
  {
   "cell_type": "markdown",
   "id": "9758ec7d-d96b-46ca-bed6-e00bfff8049d",
   "metadata": {},
   "source": [
    "Null hypothesis: The average weight of male college students is equal to or less than the average weight of female college students.\n",
    "\n",
    "Alternative hypothesis: The average weight of male college students is greater than the average weight of female college students."
   ]
  },
  {
   "cell_type": "markdown",
   "id": "d3a4f9a8-19e5-4d86-96fb-2d06be37898d",
   "metadata": {},
   "source": [
    "### Ans5)"
   ]
  },
  {
   "cell_type": "code",
   "execution_count": 1,
   "id": "638422bf-2a7e-4493-8b6d-90b3f2738585",
   "metadata": {},
   "outputs": [
    {
     "name": "stdout",
     "output_type": "stream",
     "text": [
      "t-statistic: -6.173810494049118\n",
      "p-value: 1.512237610637744e-08\n",
      "Reject null hypothesis\n"
     ]
    }
   ],
   "source": [
    "import numpy as np\n",
    "from scipy.stats import ttest_ind\n",
    "\n",
    "sm1 = np.random.normal(loc=5, scale=2, size=50)\n",
    "sm2 = np.random.normal(loc=7, scale=2, size=50)\n",
    "\n",
    "mean1 = np.mean(sm1)\n",
    "mean2 = np.mean(sm2)\n",
    "std1 = np.std(sm1, ddof=1)\n",
    "std2 = np.std(sm2, ddof=2)\n",
    "\n",
    "t_stat, p_val = ttest_ind(sm1,sm2)\n",
    "\n",
    "print(\"t-statistic:\", t_stat)\n",
    "print(\"p-value:\", p_val)\n",
    "\n",
    "if p_val < 0.05:\n",
    "    print(\"Reject null hypothesis\")\n",
    "else:\n",
    "    print(\"Fail to reject null hypothesis\")"
   ]
  },
  {
   "cell_type": "markdown",
   "id": "2d68207b-ea37-43f5-ae2b-5aa6e5d2e382",
   "metadata": {},
   "source": [
    "### Ans6)"
   ]
  },
  {
   "cell_type": "markdown",
   "id": "a8519422-14d6-4994-8222-e442eb8c18bc",
   "metadata": {},
   "source": [
    "A null hypothesis is a statement that there is no significant difference or relationship between two or more variables. It is typically the default or initial hypothesis that is assumed to be true until there is evidence to reject it.\n",
    "\n",
    "An alternative hypothesis, on the other hand, is a statement that there is a significant difference or relationship between two or more variables. It is the hypothesis that researchers are trying to prove or support with their study.\n",
    "\n",
    "Examples:-\n",
    "           \n",
    "Null hypothesis: There is no significant difference in average salaries between male and female employees in the \n",
    "same job positions.\n",
    "           \n",
    "Alternative hypothesis: Female employees earn significantly less on average than male employees in the same job \n",
    "positions.\n",
    "           \n",
    "Null hypothesis: There is no significant difference in test scores between two groups of students who received \\\n",
    "different teaching methods.\n",
    "\n",
    "Alternative hypothesis: The group of students who received the new teaching method scored significantly higher on              average than the group who received the traditional teaching method."
   ]
  },
  {
   "cell_type": "markdown",
   "id": "9624ff05-6f67-4506-af63-9a3a1f7744c4",
   "metadata": {},
   "source": [
    "### Ans7)"
   ]
  },
  {
   "cell_type": "markdown",
   "id": "ea7b3ada-15aa-40e8-a6df-f710aa7e5be2",
   "metadata": {},
   "source": [
    " The general steps involved in hypothesis testing are as follows:\n",
    " \n",
    " 1) State the null and alternative hypotheses: The null hypothesis is the default assumption that there is no significant difference or relationship between two or more variables, while the alternative hypothesis is the opposite of the null hypothesis.\n",
    " \n",
    " 2) Determine the significance level: The significance level (also known as alpha) is the probability of rejecting the null hypothesis when it is actually true.\n",
    " \n",
    " 3) Choose the appropriate statistical test: There are different statistical tests for different types of data and research questions. Choose the appropriate test based on the research question and the type of data.\n",
    " \n",
    " 4) Collect the data: Collect a sample of data from the population of interest. The sample should be representative of the population and should be large enough to make valid inferences.\n",
    " \n",
    " 5) Calculate the test statistic: Calculate the test statistic based on the data and the chosen statistical test. The test statistic measures how far the observed data deviates from what would be expected under the null hypothesis.\n",
    " \n",
    " 6) Determine the p-value: The p-value is the probability of observing a test statistic as extreme or more extreme than the one calculated, assuming that the null hypothesis is true. A low p-value indicates strong evidence against the null hypothesis.\n",
    " \n",
    " 7) Make a decision: Compare the p-value to the significance level. If the p-value is less than or equal to the significance level, reject the null hypothesis and accept the alternative hypothesis.\n",
    " \n",
    " 8) Interpret the results: Interpret the results of the hypothesis test in the context of the research question. Draw conclusions and make recommendations based on the results."
   ]
  },
  {
   "cell_type": "markdown",
   "id": "d4556ba6-9eb4-4e24-84fb-f960ddae8bc4",
   "metadata": {},
   "source": [
    "### Ans8)"
   ]
  },
  {
   "cell_type": "markdown",
   "id": "cd812d24-6e39-41ba-82a2-b448aded4511",
   "metadata": {},
   "source": [
    "In hypothesis testing, the p-value is the probability of obtaining a test statistic as extreme as, or more extreme than, the observed result under the assumption that the null hypothesis is true.\n",
    "\n",
    "The p-value is the level of statistical significance of the observed data. If the p-value is low, it indicates that the observed data is unlikely to have occurred by chance and provides evidence against the null hypothesis. If the p-value is high, it indicates that the observed data is likely to have occurred by chance and does not provide sufficient evidence against the null hypothesis.\n",
    "\n",
    "The significance of the p-value in hypothesis testing is that it helps determine whether to reject or fail to reject the null hypothesis. The p-value is compared to the predetermined significance level (alpha) to make this decision. If the p-value is less than or equal to the significance level, then the null hypothesis is rejected, and the alternative hypothesis is supported. If the p-value is greater than the significance level, then the null hypothesis is not rejected, and the alternative hypothesis is not supported.\n"
   ]
  },
  {
   "cell_type": "markdown",
   "id": "39f41c29-87af-417d-bb61-db5353139395",
   "metadata": {},
   "source": [
    "### Ans9)"
   ]
  },
  {
   "cell_type": "code",
   "execution_count": 3,
   "id": "52cf4586-0c4d-4be3-93ad-fa44bbef3cbd",
   "metadata": {},
   "outputs": [
    {
     "data": {
      "image/png": "[encoded data removed]",
      "text/plain": [
       "<Figure size 640x480 with 1 Axes>"
      ]
     },
     "metadata": {},
     "output_type": "display_data"
    }
   ],
   "source": [
    "from scipy.stats import t\n",
    "import matplotlib.pyplot as plt\n",
    "import numpy as np\n",
    "\n",
    "df = 10\n",
    "\n",
    "x= np.linspace(-4,4,1000)\n",
    "\n",
    "y = t.pdf(x,df)\n",
    "\n",
    "plt.plot(x,y)\n",
    "plt.title(\"Student's t-Distribution with 10 Dgree of Freedom\")\n",
    "plt.xlabel(\"x\")\n",
    "plt.ylabel(\"Density\")\n",
    "plt.show()"
   ]
  },
  {
   "cell_type": "markdown",
   "id": "1ba23230-cff2-4a74-8fcd-400fe30572a6",
   "metadata": {},
   "source": [
    "### Ans10)"
   ]
  },
  {
   "cell_type": "code",
   "execution_count": 5,
   "id": "3c2db5f3-0430-4509-a370-50ff05def86e",
   "metadata": {},
   "outputs": [
    {
     "name": "stdout",
     "output_type": "stream",
     "text": [
      "t-test statistic: -6.862498978912918\n",
      "p-value: 8.481697778779068e-11\n",
      "Reject null hypothesis\n"
     ]
    }
   ],
   "source": [
    "import numpy as np\n",
    "from scipy.stats import ttest_ind\n",
    "\n",
    "sm1 = np.random.normal(10,2,100)\n",
    "sm2 = np.random.normal(12,2,100)\n",
    "\n",
    "t_statistic, p_value = ttest_ind(sm1,sm2)\n",
    "print(\"t-test statistic:\", t_statistic)\n",
    "print(\"p-value:\",p_value)\n",
    "alpha = 0.05\n",
    "if p_value < alpha:\n",
    "    print(\"Reject null hypothesis\")\n",
    "else:\n",
    "    print(\"Fail to reject null hypothesis\")\n",
    "\n"
   ]
  },
  {
   "cell_type": "markdown",
   "id": "7ed17d48-198e-4149-ba0e-0d3cea07f627",
   "metadata": {},
   "source": [
    "### Ans11)"
   ]
  },
  {
   "cell_type": "markdown",
   "id": "cd37ce5e-0fc5-470d-8d7f-c3777a5fdedd",
   "metadata": {},
   "source": [
    "Student's t-distribution is a probability distribution that is used to estimate the population mean when the sample size is small (typically less than 30) and the population standard deviation is unknown. The t-distribution is similar in shape to the normal distribution, but has heavier tails, which account for the increased uncertainty associated with estimating the population mean from a small sample."
   ]
  },
  {
   "cell_type": "markdown",
   "id": "4ce35e78-89fb-41e0-a5c4-a09c28a274bb",
   "metadata": {},
   "source": [
    "The t-distribution is used in statistical inference to test hypotheses about population means, calculate confidence intervals for population means, and to construct t-tests for comparing means of two samples. It is also used in regression analysis to calculate confidence intervals and test hypotheses about regression coefficients."
   ]
  },
  {
   "cell_type": "markdown",
   "id": "ac828de1-1051-42c4-bd0f-6816e31df188",
   "metadata": {},
   "source": [
    "### Ans12)"
   ]
  },
  {
   "cell_type": "markdown",
   "id": "88b98b71-222f-4bf3-9c0f-c5227d06a747",
   "metadata": {},
   "source": [
    "The t-statistic is a test statistic used in hypothesis testing when the sample size is small and the population standard deviation is unknown. It measures the difference between the sample mean and the hypothesized population mean in terms of the standard error of the mean.\n",
    "\n",
    "The formula for the t-statistic is:\n",
    "\n",
    "t = (x̄ - μ) / (s / √n)\n",
    "\n",
    "where:\n",
    "\n",
    "x̄ is the sample mean\n",
    "\n",
    "μ is the hypothesized population mean\n",
    "\n",
    "s is the sample standard deviation\n",
    "\n",
    "n is the sample size\n",
    "\n",
    "√n is the square root of the sample size"
   ]
  },
  {
   "cell_type": "markdown",
   "id": "f0341111-1757-4237-8060-30d35cfd6589",
   "metadata": {},
   "source": [
    "### Ans13)"
   ]
  },
  {
   "cell_type": "markdown",
   "id": "bd708162-68a0-4276-8da8-305d8260ed19",
   "metadata": {},
   "source": [
    "To estimate the population mean revenue with a 95% confidence interval, we can use the following formula:\n",
    "\n",
    "Confidence interval = sample mean ± margin of error\n",
    "\n",
    "where the margin of error is:\n",
    "\n",
    "Margin of error = critical value * standard error\n",
    "\n",
    "The standard error is:\n",
    "\n",
    "Standard error = sample standard deviation / √n\n",
    "\n",
    "Substituting the given values into the formula, we get:\n",
    "\n",
    "Margin of error = 1.96 * (50 / √50) = 13.96\n",
    "\n",
    "Therefore, the 95% confidence interval for the population mean revenue is:\n",
    "\n",
    "500 ± 13.96 or (486.04, 513.96)\n",
    "\n",
    "We can say with 95% confidence that the population mean revenue falls between $486.04 and $513.96 based on the given sample data."
   ]
  },
  {
   "cell_type": "markdown",
   "id": "987d3993-71c4-49f9-a616-6d4c68f77610",
   "metadata": {},
   "source": [
    "### Ans14)"
   ]
  },
  {
   "cell_type": "markdown",
   "id": "161c8544-4174-4de7-a019-b279c6dc6233",
   "metadata": {},
   "source": [
    "Sample Mean = 8\n",
    "\n",
    "Population Mean = 10\n",
    "\n",
    "Sample Size = 100\n",
    "\n",
    "Sd= 3\n",
    "\n",
    "Significance Level = 0.05\n",
    "\n",
    "Confidence Interval = 0.95\n",
    "\n",
    "Null Hypothesis = Population Mean = 10\n",
    "\n",
    "Alternate Hypothesis = Population Mean != 10\n",
    "\n",
    "From z-table we got values for z-score:\n",
    "\n",
    "z-score =  ± 1.96\n",
    "\n",
    "(if z is less than -1.96 or greater than +1.96, Reject the Null Hypothesis)\n",
    "\n",
    "after that I used z-test formula\n",
    "\n",
    "z = (x̄ - μ) / (σ / √n)\n",
    "\n",
    "I got the following value:\n",
    "\n",
    "z = -6.67\n",
    "\n",
    "since -6.67 is outside the region of ± 1.96.\n",
    "\n",
    "Reject the Null Hypothesis"
   ]
  },
  {
   "cell_type": "markdown",
   "id": "b7e258a9-473e-4a49-a86f-42fe8a4b41f5",
   "metadata": {},
   "source": [
    "### Ans15)"
   ]
  },
  {
   "cell_type": "markdown",
   "id": "b908de81-608c-4630-9e52-cdccae77358f",
   "metadata": {},
   "source": [
    "Sample Mean = 4.8\n",
    "\n",
    "Population Mean = 5\n",
    "\n",
    "Sample Size = 25\n",
    "\n",
    "Sd= 0.5\n",
    "\n",
    "Significance Level = 0.01\n",
    "\n",
    "Confidence Interval = 0.99\n",
    "\n",
    "Null Hypothesis = Population Mean = 5\n",
    "\n",
    "Alternate Hypothesis = Population Mean != 5\n",
    "\n",
    "after that I used z-test formula\n",
    "\n",
    "z = (x̄ - μ) / (σ / √n)\n",
    "\n",
    "I got the following value:\n",
    "\n",
    "z = -2\n",
    "\n",
    "From z-table we got values for z-score -2:\n",
    "\n",
    "z-score = 0.02275\n",
    "\n",
    "which is also my p value:\n",
    "\n",
    "p-value = 0.02275\n",
    "\n",
    "since the p-value = 0.02275 < significance level = 0.01\n",
    "\n",
    "Reject the Null Hypothesis"
   ]
  },
  {
   "cell_type": "markdown",
   "id": "e673442b-3456-468c-9500-bd156c1bd344",
   "metadata": {},
   "source": [
    "### Ans16)"
   ]
  },
  {
   "cell_type": "markdown",
   "id": "c95eb80d-fb8e-4333-97b3-f15793481178",
   "metadata": {},
   "source": [
    "We can calculate the t-statistic using the formula:\n",
    "\n",
    "t = (x̄1 - x̄2) / (sp * √(1/n1 + 1/n2))\n",
    "\n",
    "where x̄1 and x̄2 are the sample means for the first and second groups, sp is the pooled standard deviation, and n1 and n2 are the sample sizes for the first and second groups, respectively.\n",
    "\n",
    "The pooled standard deviation can be calculated using the formula:\n",
    "\n",
    "sp = √(((n1 - 1)*s1^2 + (n2 - 1)*s2^2) / (n1 + n2 - 2))\n",
    "\n",
    "where s1 and s2 are the sample standard deviations for the first and second groups, respectively.\n",
    "\n",
    "sp = √(((30-1)*10^2 + (40-1)*8^2) / (30+40-2)) = 9.04\n",
    "\n",
    "Substituting the values into the formula for the t-statistic, we get:\n",
    "\n",
    "t = (80 - 75) / (9.04 * √(1/30 + 1/40)) = 2.13\n",
    "\n",
    "Using a t-distribution table with 68 degrees of freedom (df = n1 + n2 - 2), and a significance level of 0.01, the critical values are -2.60 and 2.60.\n",
    "\n",
    "Since the calculated t-value of 2.13 is less than the critical value of 2.60, we fail to reject the null hypothesis.\n",
    "\n",
    "Population mean for two groups are equal"
   ]
  },
  {
   "cell_type": "markdown",
   "id": "7ccab13b-d16a-40af-8c4d-243e02dd8169",
   "metadata": {},
   "source": [
    "### Ans17)"
   ]
  },
  {
   "cell_type": "markdown",
   "id": "36b30419-747b-4a49-8bff-c01d0a8a7ddb",
   "metadata": {},
   "source": [
    "To estimate the population mean with a 99% confidence interval using a z-table, we can use the following formula:\n",
    "\n",
    "CI = x̄ ± z* (σ / √n)\n",
    "Where:\n",
    "      x̄ is the sample mean\n",
    "      z is z-score to the confidence level\n",
    "      σ is the population standard deviation\n",
    "      n is the sample size.\n",
    "      \n",
    "To find the z-score, we can use a standard normal distribution table. For a 99% confidence level, the z-score is\n",
    "\n",
    "z-score = 2.58.\n",
    "\n",
    "CI = 4 ± 2.58 * (1.5 / √50)\n",
    "\n",
    "CI = 4 ± 0.538\n",
    "\n",
    "Therefore, we can be 99% confident that the true population mean number of ads watched by viewers during a TV program lies within the interval of 3.462 to 4.538."
   ]
  },
  {
   "cell_type": "code",
   "execution_count": null,
   "id": "a35afaf5-ab8e-402f-a56e-2258aa8886d2",
   "metadata": {},
   "outputs": [],
   "source": []
  }
 ],
 "metadata": {
  "kernelspec": {
   "display_name": "Python 3 (ipykernel)",
   "language": "python",
   "name": "python3"
  },
  "language_info": {
   "codemirror_mode": {
    "name": "ipython",
    "version": 3
   },
   "file_extension": ".py",
   "mimetype": "text/x-python",
   "name": "python",
   "nbconvert_exporter": "python",
   "pygments_lexer": "ipython3",
   "version": "3.10.8"
  }
 },
 "nbformat": 4,
 "nbformat_minor": 5
}
