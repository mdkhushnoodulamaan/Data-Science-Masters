{
 "cells": [
  {
   "cell_type": "markdown",
   "id": "48a43b4f-7ae8-4985-a826-d0250c98ea31",
   "metadata": {
    "tags": []
   },
   "source": [
    "# Assignment"
   ]
  },
  {
   "cell_type": "markdown",
   "id": "f2c9bf51-bea1-412d-a414-d6e8fd973939",
   "metadata": {
    "tags": []
   },
   "source": [
    "### Ans1)"
   ]
  },
  {
   "cell_type": "code",
   "execution_count": 1,
   "id": "77cdde64-a544-4195-9967-99ae3033cf21",
   "metadata": {},
   "outputs": [],
   "source": [
    "import numpy as np\n",
    "from scipy.stats import f\n",
    "\n",
    "def variance_ratio_test(arr1, arr2):\n",
    "    n1, n2 = len(arr1), len(arr2)\n",
    "    var1, var2 = np.var(arr1, ddof=1), np.var(arr2, ddof=1)\n",
    "    F = var1/var2\n",
    "    p = f.sf(F, n1-1, n2-1)\n",
    "    return F, p\n"
   ]
  },
  {
   "cell_type": "code",
   "execution_count": 2,
   "id": "85e78091-cc86-42fd-a923-a842bb90cd18",
   "metadata": {},
   "outputs": [
    {
     "name": "stdout",
     "output_type": "stream",
     "text": [
      "F-value: 1.0\n",
      "p-value: 0.5\n"
     ]
    }
   ],
   "source": [
    "arr1 = [1, 2, 3, 4, 5]\n",
    "arr2 = [6, 7, 8, 9, 10]\n",
    "F, p = variance_ratio_test(arr1, arr2)\n",
    "print(\"F-value:\", F)\n",
    "print(\"p-value:\", p)\n"
   ]
  },
  {
   "cell_type": "markdown",
   "id": "8175a094-1b5f-4d1d-8aad-fd038b3e7fab",
   "metadata": {},
   "source": [
    "### Ans2)"
   ]
  },
  {
   "cell_type": "code",
   "execution_count": 3,
   "id": "2ecaf95d-f886-47a6-9fda-863004b07011",
   "metadata": {},
   "outputs": [],
   "source": [
    "from scipy.stats import f\n",
    "\n",
    "def critical_F_value(alpha, dfn, dfd):\n",
    "    return f.ppf(1 - alpha/2, dfn, dfd)\n"
   ]
  },
  {
   "cell_type": "code",
   "execution_count": 4,
   "id": "f9c5ed36-8ccb-42f5-b278-ac220c1ecd9f",
   "metadata": {},
   "outputs": [
    {
     "name": "stdout",
     "output_type": "stream",
     "text": [
      "Critical F-value: 3.504684642086191\n"
     ]
    }
   ],
   "source": [
    "alpha = 0.05\n",
    "dfn = 3\n",
    "dfd = 36\n",
    "critical_F = critical_F_value(alpha, dfn, dfd)\n",
    "print(\"Critical F-value:\", critical_F)\n"
   ]
  },
  {
   "cell_type": "markdown",
   "id": "938b865b-2cc3-4eaa-9d41-fcf7cd05fe72",
   "metadata": {},
   "source": [
    "### Ans3)"
   ]
  },
  {
   "cell_type": "code",
   "execution_count": 5,
   "id": "e0265fef-1609-40a1-bcdf-44c7d5cde723",
   "metadata": {},
   "outputs": [
    {
     "name": "stdout",
     "output_type": "stream",
     "text": [
      "F-value: 0.4122726133567595\n",
      "Degrees of freedom (numerator, denominator): 29 29\n",
      "p-value: 0.01988037470543287\n"
     ]
    }
   ],
   "source": [
    "import numpy as np\n",
    "from scipy.stats import f\n",
    "\n",
    "# Set seed for reproducibility\n",
    "np.random.seed(123)\n",
    "\n",
    "# Generate random samples from two normal distributions with known variances\n",
    "n1 = 30\n",
    "n2 = 30\n",
    "mu1 = 0\n",
    "mu2 = 0\n",
    "sigma1 = 1\n",
    "sigma2 = 1.5\n",
    "sample1 = np.random.normal(mu1, sigma1, n1)\n",
    "sample2 = np.random.normal(mu2, sigma2, n2)\n",
    "\n",
    "# Calculate F-value, degrees of freedom, and p-value for F-test\n",
    "F = np.var(sample1, ddof=1) / np.var(sample2, ddof=1)\n",
    "dfn = n1 - 1\n",
    "dfd = n2 - 1\n",
    "p_value = 2 * min(f.cdf(F, dfn, dfd), 1 - f.cdf(F, dfn, dfd))\n",
    "\n",
    "# Print results\n",
    "print(\"F-value:\", F)\n",
    "print(\"Degrees of freedom (numerator, denominator):\", dfn, dfd)\n",
    "print(\"p-value:\", p_value)"
   ]
  },
  {
   "cell_type": "markdown",
   "id": "926d019b-2c57-4611-8bfa-185ac1650f9b",
   "metadata": {},
   "source": [
    "### Ans4)"
   ]
  },
  {
   "cell_type": "markdown",
   "id": "d466b780-d4ed-45ee-a333-95ff9a6decb2",
   "metadata": {},
   "source": [
    "\n",
    "To conduct an F-test to determine if the variances of two populations are significantly different, we can use the following steps:\n",
    "\n",
    "Step 1: State the null and alternative hypotheses.\n",
    "\n",
    "Null hypothesis: The variances of the two populations are equal.\n",
    "Alternative hypothesis: The variances of the two populations are not equal.\n",
    "\n",
    "Step 2: Determine the significance level and degrees of freedom.\n",
    "\n",
    "Significance level = 0.05\n",
    "\n",
    "Degrees of freedom numerator = n1 - 1 = 11\n",
    "\n",
    "Degrees of freedom denominator = n2 - 1 = 11\n",
    "\n",
    "Step 3: Calculate the test statistic.\n",
    "\n",
    "The test statistic is the ratio of the sample variances:\n",
    "\n",
    "F = s1^2 / s2^2\n",
    "\n",
    "where s1^2 and s2^2 are the sample variances.\n",
    "\n",
    "We need to use the larger variance in the numerator to ensure that the test statistic is greater than 1.\n",
    "\n",
    "In this case, s1^2 = 10 and s2^2 = 15, so:\n",
    "\n",
    "F = s1^2 / s2^2 = 10 / 15 = 0.6667\n",
    "\n",
    "Step 4: Determine the p-value.\n",
    "\n",
    "We can use an F-distribution table or a statistical software package to determine the p-value associated with the F-statistic.\n",
    "\n",
    "Using a statistical software package, we can calculate the p-value as follows:\n",
    "\n",
    "p-value = 2 * (1 - Fdist(F, dfn, dfd).cdf(F))\n",
    "\n",
    "where Fdist is the F-distribution function and cdf is the cumulative distribution function.\n",
    "\n",
    "Plugging in the values, we get:\n",
    "\n",
    "p-value = 2 * (1 - Fdist(0.6667, 11, 11).cdf(0.6667)) = 0.687\n",
    "\n",
    "Step 5: Compare the p-value to the significance level.\n",
    "\n",
    "The p-value (0.687) is greater than the significance level (0.05), so we fail to reject the null hypothesis. We can conclude that there is not enough evidence to suggest that the variances of the two populations are significantly different at the 5% significance level."
   ]
  },
  {
   "cell_type": "markdown",
   "id": "0acb9105-885a-4915-b349-767c86986fe3",
   "metadata": {},
   "source": [
    "### Ans5)"
   ]
  },
  {
   "cell_type": "markdown",
   "id": "823b2ef7-7757-4235-a21c-87e7edf21ed0",
   "metadata": {},
   "source": [
    "Let's set up the null and alternative hypotheses for this test:\n",
    "\n",
    "Null hypothesis: The population variance is equal to 0.005.\n",
    "Alternative hypothesis: The population variance is greater than 0.005.\n",
    "\n",
    "We will use an F-test to compare the sample variance to the claimed population variance. Since we are testing against the claim that the variance is equal to 0.005, this is a one-tailed test with a significance level of 0.01.\n",
    "\n",
    "The test statistic for the F-test is calculated as:\n",
    "\n",
    "F = sample variance / population variance\n",
    "\n",
    "Under the null hypothesis, this statistic follows an F-distribution with degrees of freedom of n-1, where n is the sample size.\n",
    "\n",
    "Let's calculate the F-value:\n",
    "\n",
    "F = 0.006 / 0.005\n",
    "\n",
    "F = 1.2\n",
    "\n",
    "The degrees of freedom for this test are 24, since we have 25 observations in our sample.\n",
    "\n",
    "Using a statistical software or F-tables, we can find the critical F-value for a one-tailed test at the 1% significance level with 24 degrees of freedom. This value is 2.627.\n",
    "\n",
    "Since our calculated F-value of 1.2 is less than the critical value of 2.627, we fail to reject the null hypothesis. This means that we do not have sufficient evidence to claim that the population variance is greater than 0.005. Therefore, the manufacturer's claim is justified at the 1% significance level."
   ]
  },
  {
   "cell_type": "markdown",
   "id": "8be4dd54-78db-4601-9a27-89010dc705d5",
   "metadata": {},
   "source": [
    "### Ans6)"
   ]
  },
  {
   "cell_type": "code",
   "execution_count": 9,
   "id": "743b100b-d51a-4786-8f63-4e9f6c2cefc3",
   "metadata": {},
   "outputs": [],
   "source": [
    "from math import gamma\n",
    "\n",
    "def f_distribution_mean_and_variance(df1, df2):\n",
    "    mean = df2 / (df2 - 2)\n",
    "    variance = (2 * (df2 ** 2) * (df1 + df2 - 2)) / (df1 * (df2 - 2) ** 2 * (df2 - 4))\n",
    "    return mean, variance"
   ]
  },
  {
   "cell_type": "markdown",
   "id": "99a8fae0-7686-4eea-a728-aa8212be8e11",
   "metadata": {},
   "source": [
    "The mean of an F-distribution with degrees of freedom df1 and df2 is df2 / (df2 - 2), and the variance is (2 * df2^2 * (df1 + df2 - 2)) / (df1 * (df2 - 2)^2 * (df2 - 4)), where ^ denotes exponentiation. The function returns the mean and variance as a tuple."
   ]
  },
  {
   "cell_type": "markdown",
   "id": "61d21426-cd67-4796-9222-d9dd7bd44c7a",
   "metadata": {},
   "source": [
    "### Ans7)"
   ]
  },
  {
   "cell_type": "code",
   "execution_count": 12,
   "id": "de18dde8-a553-416f-a48c-c7245457a080",
   "metadata": {},
   "outputs": [],
   "source": [
    "import scipy.stats as stats\n",
    "\n",
    "def f_test_two_samples(s1_squared, s2_squared, n1, n2, alpha):\n",
    "    # calculate the F-statistic\n",
    "    f_statistic = s1_squared / s2_squared\n",
    "    \n",
    "    # calculate the degrees of freedom\n",
    "    df1 = n1 - 1\n",
    "    df2 = n2 - 1\n",
    "    \n",
    "    # calculate the p-value\n",
    "    p_value = stats.f.sf(f_statistic, df1, df2) + stats.f.cdf(1/f_statistic, df2, df1)\n",
    "    \n",
    "    # compare p-value to alpha\n",
    "    if p_value < alpha:\n",
    "        print(\"Reject null hypothesis: The variances are significantly different.\")\n",
    "    else:\n",
    "        print(\"Fail to reject null hypothesis: There is not enough evidence to say that the variances are significantly different.\")\n",
    "    \n",
    "    return f_statistic, p_value\n"
   ]
  },
  {
   "cell_type": "code",
   "execution_count": 13,
   "id": "d51fb647-3df2-486a-abe7-55d2891c9dfe",
   "metadata": {},
   "outputs": [
    {
     "name": "stdout",
     "output_type": "stream",
     "text": [
      "Fail to reject null hypothesis: There is not enough evidence to say that the variances are significantly different.\n"
     ]
    },
    {
     "data": {
      "text/plain": [
       "(1.25, 0.6832194382585945)"
      ]
     },
     "execution_count": 13,
     "metadata": {},
     "output_type": "execute_result"
    }
   ],
   "source": [
    "s1_squared = 25\n",
    "s2_squared = 20\n",
    "n1 = 10\n",
    "n2 = 15\n",
    "alpha = 0.1\n",
    "\n",
    "f_test_two_samples(s1_squared, s2_squared, n1, n2, alpha)\n"
   ]
  },
  {
   "cell_type": "markdown",
   "id": "222d2fdb-580e-48ee-b344-263d2ee93703",
   "metadata": {},
   "source": [
    "### Ans8)"
   ]
  },
  {
   "cell_type": "markdown",
   "id": "d83d5dee-5b5f-4e7e-9c44-d173683c9321",
   "metadata": {},
   "source": [
    "\n",
    "To conduct an F-test to determine if the variances of the waiting times at two restaurants are significantly different, we can use the following null and alternative hypotheses:\n",
    "\n",
    "Null hypothesis: The variances of the waiting times at the two restaurants are equal.\n",
    "Alternative hypothesis: The variances of the waiting times at the two restaurants are not equal.\n",
    "We can use an F-test with the following formula:\n",
    "\n",
    "F = s1^2 / s2^2\n",
    "\n",
    "where s1^2 and s2^2 are the sample variances of the waiting times at Restaurant A and Restaurant B, respectively.\n",
    "\n",
    "Let's first calculate the sample variances:\n",
    "\n",
    "s1^2 = (24-24.29)^2 + (25-24.29)^2 + (28-24.29)^2 + (23-24.29)^2 + (22-24.29)^2 + (20-24.29)^2 + (27-24.29)^2 / (7-1) = 8.81\n",
    "\n",
    "s2^2 = (31-32.83)^2 + (33-32.83)^2 + (35-32.83)^2 + (30-32.83)^2 + (32-32.83)^2 + (36-32.83)^2 / (6-1) = 6.81\n",
    "\n",
    "Now we can calculate the F-value:\n",
    "\n",
    "F = s1^2 / s2^2 = 8.81 / 6.81 = 1.294\n",
    "\n",
    "To determine if this F-value is significant at the 5% level, we need to compare it to the critical F-value from an F-distribution with 6 and 5 degrees of freedom (7-1 and 6-1):\n",
    "\n",
    "F_critical = 4.757\n",
    "\n",
    "Since our calculated F-value (1.294) is less than the critical F-value (4.757), we fail to reject the null hypothesis. Therefore, we can conclude that there is not enough evidence to suggest that the variances of the waiting times at the two restaurants are significantly different at the 5% level."
   ]
  },
  {
   "cell_type": "markdown",
   "id": "275f4e18-7a1f-4fd1-984e-0e7ae8639601",
   "metadata": {},
   "source": [
    "### Ans9)"
   ]
  },
  {
   "cell_type": "markdown",
   "id": "d3cac351-a6b2-499a-b078-85d62791eef7",
   "metadata": {},
   "source": [
    "To conduct an F-test for comparing the variances of two groups, we need to formulate the null and alternative hypotheses:\n",
    "\n",
    "Null hypothesis: The variances of the two groups are equal.\n",
    "\n",
    "Alternative hypothesis: The variances of the two groups are significantly different.\n",
    "\n",
    "We can use the F-test formula and the f_oneway function from the scipy.stats module to perform the test:\n",
    "\n"
   ]
  },
  {
   "cell_type": "code",
   "execution_count": 15,
   "id": "1cc73e7c-7d72-4d21-a8a9-fb219f2d7389",
   "metadata": {},
   "outputs": [
    {
     "name": "stdout",
     "output_type": "stream",
     "text": [
      "The variances are not significantly different.\n"
     ]
    }
   ],
   "source": [
    "from scipy.stats import f_oneway\n",
    "\n",
    "group_a = [80, 85, 90, 92, 87, 83]\n",
    "group_b = [75, 78, 82, 79, 81, 84]\n",
    "\n",
    "f_value, p_value = f_oneway(group_a, group_b)\n",
    "\n",
    "alpha = 0.01  # Significance level\n",
    "if p_value < alpha:\n",
    "    print(\"The variances are significantly different.\")\n",
    "else:\n",
    "    print(\"The variances are not significantly different.\")\n"
   ]
  },
  {
   "cell_type": "code",
   "execution_count": null,
   "id": "20a657c7-ff05-4768-83db-4087d304f63b",
   "metadata": {},
   "outputs": [],
   "source": []
  }
 ],
 "metadata": {
  "kernelspec": {
   "display_name": "Python 3 (ipykernel)",
   "language": "python",
   "name": "python3"
  },
  "language_info": {
   "codemirror_mode": {
    "name": "ipython",
    "version": 3
   },
   "file_extension": ".py",
   "mimetype": "text/x-python",
   "name": "python",
   "nbconvert_exporter": "python",
   "pygments_lexer": "ipython3",
   "version": "3.10.8"
  }
 },
 "nbformat": 4,
 "nbformat_minor": 5
}
