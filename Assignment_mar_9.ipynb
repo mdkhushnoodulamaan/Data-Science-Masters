{
 "cells": [
  {
   "cell_type": "markdown",
   "id": "94618653-f690-4a15-a5bb-190261ebc999",
   "metadata": {},
   "source": [
    "# Assignment"
   ]
  },
  {
   "cell_type": "markdown",
   "id": "d7c491d3-623c-4105-b6d7-0fba90244573",
   "metadata": {},
   "source": [
    "### Ans1)"
   ]
  },
  {
   "cell_type": "markdown",
   "id": "b81d61d7-e513-48cf-9709-73c9be8abc46",
   "metadata": {},
   "source": [
    "Probability Mass Function (PMF) and Probability Density Function (PDF) are mathematical functions used in probability theory to describe the probability distribution of a random variable.\n",
    "\n",
    "PMF is used for discrete random variables, where the random variable can only take on a finite or countably infinite number of values. It gives the probability that the random variable takes on a specific value.\n",
    "\n",
    "For example, let's consider the random variable X representing the outcome of a fair six-sided die roll. The PMF of X is:\n",
    "\n",
    "P(X = 1) = 1/6\n",
    "\n",
    "P(X = 2) = 1/6\n",
    "\n",
    "P(X = 3) = 1/6\n",
    "\n",
    "P(X = 4) = 1/6\n",
    "\n",
    "P(X = 5) = 1/6\n",
    "\n",
    "P(X = 6) = 1/6\n",
    "\n",
    "This PMF tells us that the probability of getting any specific value on the die is 1/6.\n",
    "\n",
    "PDF, on the other hand, is used for continuous random variables, where the random variable can take on any value within a certain range. It gives the probability density of the random variable at a given point.\n",
    "\n",
    "For example, let's consider the random variable Y representing the height of students in a class. The PDF of Y might look like a bell curve, with the highest density of students around the average height.\n",
    "\n",
    "The PDF of Y can be represented mathematically as:\n",
    "\n",
    "f(y) = (1/σ√(2π)) * e^(-(y-μ)²/2σ²)\n",
    "\n",
    "where μ is the mean height, σ is the standard deviation, and e is the base of the natural logarithm.\n",
    "\n",
    "The PDF gives us the probability density of a student being a certain height. The total probability of a student being within a certain range of heights can be calculated by integrating the PDF over that range."
   ]
  },
  {
   "cell_type": "markdown",
   "id": "96239e8a-998e-4ee2-86b9-925a9f410387",
   "metadata": {},
   "source": [
    "### Ans2)"
   ]
  },
  {
   "cell_type": "markdown",
   "id": "03363185-b226-40f3-ae9d-7d72753e84b6",
   "metadata": {},
   "source": [
    "The Cumulative Density Function (CDF) is a mathematical function that gives the probability that a random variable X will take a value less than or equal to a specified value x. It is a common tool used in probability theory and statistics to describe the distribution of a random variable.\n",
    "\n",
    "For a given probability distribution, the CDF is defined as:\n",
    "\n",
    "F(x) = P(X ≤ x)\n",
    "\n",
    "Where X is the random variable and F(x) is the probability that X is less than or equal to x.\n",
    "\n",
    "For example, consider a random variable X that represents the outcome of rolling a fair six-sided die. The CDF of X is:\n",
    "\n",
    "F(x) =\n",
    "0 for x < 1\n",
    "\n",
    "1/6 for 1 ≤ x < 2\n",
    "\n",
    "2/6 for 2 ≤ x < 3\n",
    "\n",
    "3/6 for 3 ≤ x < 4\n",
    "\n",
    "4/6 for 4 ≤ x < 5\n",
    "\n",
    "5/6 for 5 ≤ x < 6\n",
    "\n",
    "1 for x ≥ 6\n",
    "\n",
    "This means that the probability of rolling a number less than or equal to 3 is F(3) = 1/2, and the probability of rolling a number less than or equal to 5 is F(5) = 5/6."
   ]
  },
  {
   "cell_type": "markdown",
   "id": "070c0393-bd59-4664-81f1-7d69a6c2d90f",
   "metadata": {},
   "source": [
    "### Ans3)"
   ]
  },
  {
   "cell_type": "markdown",
   "id": "1b24b51e-bf6d-4e8e-8e5e-eff24dbcc46e",
   "metadata": {},
   "source": [
    "Some examples of situations where the normal distribution might be used as a model are:\n",
    "\n",
    "1) Heights or weights of a population.\n",
    "2) Test scores or grades in a class.\n",
    "3) Blood pressure readings of patients.\n",
    "4) Financial data such as stock prices or interest rates.\n",
    "5) Errors in measurements or experimental data.\n",
    "\n",
    "The normal distribution is characterized by two parameters: the mean and the standard deviation. The mean (μ) represents the center of the distribution, while the standard deviation (σ) represents the spread or variability of the distribution. The shape of the normal distribution is bell-shaped and symmetric around the mean, with the highest point of the curve located at the mean."
   ]
  },
  {
   "cell_type": "markdown",
   "id": "911bee5b-d538-4395-86e4-058c3d855488",
   "metadata": {},
   "source": [
    "### Ans4)"
   ]
  },
  {
   "cell_type": "markdown",
   "id": "6b68bbf8-1300-4efe-ad7b-ce8ddaa30170",
   "metadata": {},
   "source": [
    "The Normal Distribution is a fundamental concept in probability theory and statistics that describes a bell-shaped, symmetrical probability density function. It is a widely used statistical model due to its many useful properties, including its mathematical tractability and its ability to describe many real-world phenomena.\n",
    "\n",
    "Many real-world phenomena follow a normal distribution, including:\n",
    "\n",
    "1) Heights and weights of people: In a population, the heights and weights of individuals tend to follow a normal distribution, with most people clustered around the mean height or weight and fewer people at the extreme ends of the distribution.\n",
    "\n",
    "2) Test scores: In a large population of test-takers, the distribution of test scores tends to be normal, with most scores clustered around the mean and fewer scores at the extreme ends of the distribution.\n",
    "\n",
    "3) Errors in measurements: In many scientific experiments, the errors in measurements tend to follow a normal distribution, with most errors clustered around zero and fewer errors at the extreme ends of the distribution.\n",
    "\n",
    "4) Reaction times: In cognitive psychology, reaction times to stimuli tend to follow a normal distribution, with most reaction times clustered around the mean and fewer reaction times at the extreme ends of the distribution.\n",
    "\n",
    "5) Stock prices: In finance, the daily percentage returns of stock prices often follow a normal distribution, with most returns clustered around the mean and fewer returns at the extreme ends of the distribution."
   ]
  },
  {
   "cell_type": "markdown",
   "id": "d7d8ad41-e1bd-4645-b3cd-9e764ff9b5bd",
   "metadata": {},
   "source": [
    "### Ans5)"
   ]
  },
  {
   "cell_type": "markdown",
   "id": "1f59800e-25ee-43f5-af3d-873a2ea7f563",
   "metadata": {},
   "source": [
    "The Bernoulli Distribution is a discrete probability distribution that describes the outcome of a single binary (yes/no) event with a probability of success, denoted by p. The distribution takes the value 1 with probability p (indicating success) and the value 0 with probability 1-p (indicating failure).\n",
    "\n",
    "For example:-\n",
    "\n",
    "Bernoulli Distribution is flipping a coin, where the outcome is either heads or tails. If we define success as getting heads, then the probability of success (p) is 0.5, and the Bernoulli Distribution gives the probability of getting heads (1) or tails (0) in a single flip of the coin.\n",
    "\n",
    "The Bernoulli Distribution differs from the Binomial Distribution in that the Binomial Distribution describes the number of successes in a fixed number of independent Bernoulli trials, where each trial has the same probability of success. In other words, the Binomial Distribution is the sum of n independent Bernoulli trials, where n is a fixed positive integer."
   ]
  },
  {
   "cell_type": "markdown",
   "id": "29510621-1844-439f-9a96-18e8001874fd",
   "metadata": {},
   "source": [
    "### Ans6)"
   ]
  },
  {
   "cell_type": "markdown",
   "id": "0916cb89-ddb8-4e2e-acc3-4e792c263528",
   "metadata": {},
   "source": [
    "To solve this problem, we will use the formula for the standard normal distribution, which is:\n",
    "\n",
    "z = (x - μ) / σ\n",
    "\n",
    "where z is the z-score, x is the observation we are interested in, μ is the population mean, and σ is the population standard deviation.\n",
    "\n",
    "First, we need to find the z-score for x = 60. Using the formula above, we get:\n",
    "\n",
    "z = (60 - 50) / 10 = 1\n",
    "\n",
    "Next, we need to find the probability that a randomly selected observation will be greater than 60. This can be done by finding the area under the standard normal distribution curve to the right of the z-score of 1\n",
    "\n",
    "Using a z-table, we can look up the area to the right of z = 1. This area is given by:\n",
    "\n",
    "P(Z > 1) = 1 - P(Z < 1) = 1 - 0.8413 = 0.1587\n",
    "\n",
    "Therefore, the probability that a randomly selected observation will be greater than 60 is approximately 0.1587 or 15.87%."
   ]
  },
  {
   "cell_type": "markdown",
   "id": "b5353081-3177-4885-9a0a-fb1dbd921b10",
   "metadata": {},
   "source": [
    "### Ans7)"
   ]
  },
  {
   "cell_type": "markdown",
   "id": "5c424a73-0f28-4fb0-9f06-ef3d1d9f4bec",
   "metadata": {},
   "source": [
    "The uniform distribution is a probability distribution in which all values within a given range have an equal probability of occurring. In other words, it is a distribution that is \"uniform\" or \"evenly distributed\" across its range.\n",
    "\n",
    "For example:- \n",
    "\n",
    "Uniform distribution is the roll of a fair six-sided die. Each number on the die (1, 2, 3, 4, 5, 6) has an equal probability of occurring, which is 1/6 or approximately 0.1667. This means that if we were to roll the die many times, we would expect to see each number appear roughly the same number of times."
   ]
  },
  {
   "cell_type": "markdown",
   "id": "833d26d7-7699-4a4d-af9e-90a8ba869ab5",
   "metadata": {},
   "source": [
    "### Ans8)"
   ]
  },
  {
   "cell_type": "markdown",
   "id": "fc61c647-3f0a-4ff4-bddf-5f1bbd518f70",
   "metadata": {},
   "source": [
    "The z-score (also known as the standard score) is a measure of how many standard deviations an observation or data point is away from the mean of a population or sample. It is calculated by subtracting the mean from the observation and then dividing by the standard deviation:\n",
    "\n",
    "z = (observation - mean) / standard deviation\n",
    "\n",
    "The z-score is important because it allows us to standardize and compare data that come from different populations or have different units of measurement. By converting raw data into z-scores, we can determine how far away a particular observation is from the mean of its population in standard deviation units. This makes it easier to compare observations and identify outliers."
   ]
  },
  {
   "cell_type": "markdown",
   "id": "bcd652a3-cfc6-4a6e-9671-e39d461f7e7c",
   "metadata": {},
   "source": [
    "### Ans9)"
   ]
  },
  {
   "cell_type": "markdown",
   "id": "d5e79375-bd0b-4846-a57a-39e4035499d2",
   "metadata": {},
   "source": [
    "The Central Limit Theorem (CLT) is a statistical concept that states that as the sample size of independent and identically distributed random variables increases, the distribution of their sample means approaches a normal distribution, regardless of the shape of the underlying population distribution. In other words, the CLT tells us that when we take a large enough sample from any population, the distribution of the sample means will be approximately normal.\n",
    "\n",
    "The significance of the Central Limit Theorem lies in its broad applicability across many areas of statistics and its usefulness in making statistical inferences from sample data. It is a fundamental concept in statistical theory, and it has practical implications for data analysis and modeling.\n"
   ]
  },
  {
   "cell_type": "markdown",
   "id": "918256df-6609-4296-beaf-0be5ec083f47",
   "metadata": {},
   "source": [
    "### Ans10)"
   ]
  },
  {
   "cell_type": "markdown",
   "id": "6c33195e-ce45-4c7a-b718-82fbc588834d",
   "metadata": {},
   "source": [
    "The Central Limit Theorem (CLT) relies on certain assumptions in order to hold true. These assumptions include:\n",
    "\n",
    "1) Random sampling: The sample data should be collected using random sampling methods to ensure that the observations are independent and identically distributed.\n",
    "\n",
    "2) Sample size: The sample size should be sufficiently large. While there is no set rule for what constitutes a \"large\" sample size, a rule of thumb is that the sample size should be greater than or equal to 30.\n",
    "\n",
    "3) Independence: The observations in the sample should be independent of each other. In other words, the value of one observation should not influence the value of any other observation.\n",
    "\n",
    "4) Finite variance: The population from which the sample is drawn should have a finite variance. If the variance is infinite, then the CLT may not hold."
   ]
  },
  {
   "cell_type": "code",
   "execution_count": null,
   "id": "8bb8c0d0-ca7f-4e6a-b6ad-216d7b1e7306",
   "metadata": {},
   "outputs": [],
   "source": []
  }
 ],
 "metadata": {
  "kernelspec": {
   "display_name": "Python 3 (ipykernel)",
   "language": "python",
   "name": "python3"
  },
  "language_info": {
   "codemirror_mode": {
    "name": "ipython",
    "version": 3
   },
   "file_extension": ".py",
   "mimetype": "text/x-python",
   "name": "python",
   "nbconvert_exporter": "python",
   "pygments_lexer": "ipython3",
   "version": "3.10.8"
  }
 },
 "nbformat": 4,
 "nbformat_minor": 5
}
