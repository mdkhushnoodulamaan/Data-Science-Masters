{
 "cells": [
  {
   "cell_type": "markdown",
   "id": "a18c6d9f-1080-4d0b-9b9a-f21cc9614b23",
   "metadata": {},
   "source": [
    "# Assignment"
   ]
  },
  {
   "cell_type": "markdown",
   "id": "c26bdabe-0932-43c7-8315-67dd352c5ad2",
   "metadata": {},
   "source": [
    "### Ans1)"
   ]
  },
  {
   "cell_type": "markdown",
   "id": "9f793376-9f54-4569-8512-15ea0d9b0e33",
   "metadata": {},
   "source": [
    "Root Mean Squared Error (RMSE): RMSE is the square root of the MSE and represents the average magnitude of prediction errors. It's widely used for regression tasks and is sensitive to the scale of the target variable. RMSE can be a good choice if you want a metric that provides an interpretable measure of how well your predictions align with actual house prices.\n",
    "\n",
    "RMSE provides a measure of the average magnitude of prediction errors in the same unit as the target variable (house prices). This makes it easy to interpret and relate to the problem domain. Since house prices can have a significant financial impact, you would likely want to pay close attention to how far off your predictions are from the actual prices. RMSE, by penalizing larger errors more heavily due to squaring, emphasizes the impact of these errors, which aligns with the real-world consequences of inaccurate price predictions in the housing market."
   ]
  },
  {
   "cell_type": "markdown",
   "id": "0d84b20f-f1fd-4393-9532-aa4ea9cb89b0",
   "metadata": {},
   "source": [
    "### Ans2)"
   ]
  },
  {
   "cell_type": "markdown",
   "id": "1b069abb-3ddd-411a-94ac-8ac41fe235ee",
   "metadata": {},
   "source": [
    "MSE measures the average squared difference between your predicted values and the actual house prices. This metric places a higher weight on larger prediction errors, which is important in scenarios like predicting house prices, where even small prediction errors can have significant financial implications. By squaring the errors, MSE penalizes larger deviations more heavily, effectively prioritizing accuracy and minimizing the impact of outliers that might lead to substantial differences between predicted and actual prices.\n",
    "\n",
    "On the other hand, R-squared measures the proportion of the variance in the target variable (house prices) that is explained by your model. While R-squared provides insights into how well your model fits the data, it doesn't directly emphasize prediction accuracy in the same way MSE does. R-squared could lead you to select a model with higher variance that may not perform as well on new, unseen data, potentially sacrificing accuracy in the pursuit of fitting the training data better.\n",
    "\n",
    "Given your goal of predicting house prices as accurately as possible, MSE aligns more closely with this objective by giving you a clear and direct measure of prediction error, making it the preferable choice over R-squared in this context."
   ]
  },
  {
   "cell_type": "markdown",
   "id": "23ef07c3-7937-4d39-b5a7-4b8cc392dbd7",
   "metadata": {},
   "source": [
    "### Ans3)"
   ]
  },
  {
   "cell_type": "markdown",
   "id": "c237bfe1-6773-48d1-84d9-d7d3fddd9367",
   "metadata": {},
   "source": [
    "In the given scenario, the most appropriate regression metric to use would be the Mean Absolute Error (MAE). MAE is less sensitive to outliers because it measures the average absolute difference between the predicted and actual values, rather than the average squared difference. This makes it more robust to outliers, as the absolute value of the difference between an outlier and the actual value is the same as the absolute value of the difference between a non-outlier and the actual value.\n",
    "\n"
   ]
  },
  {
   "cell_type": "markdown",
   "id": "f0b3fd3a-1dd2-457f-85ad-0aee1f648536",
   "metadata": {},
   "source": [
    "### Ans4)"
   ]
  },
  {
   "cell_type": "markdown",
   "id": "72ef7288-6046-4044-a441-038e2aa00346",
   "metadata": {},
   "source": [
    "If we have calculated both MSE and RMSE and found that both values are very close, it is generally safe to use either metric to evaluate the performance of your SVM regression model. However, if we want to choose only one metric, it is generally recommended to use RMSE, as it is more interpretable than MSE. RMSE is expressed in the same units as the target variable, which makes it easier to interpret the magnitude of the error in the context of the problem domain. Therefore, in this case, RMSE would be the better metric to choose to evaluate the performance of your SVM regression model."
   ]
  },
  {
   "cell_type": "markdown",
   "id": "d961edbb-2613-4ccd-b169-c04ddddca2a8",
   "metadata": {},
   "source": [
    "### Ans5)"
   ]
  },
  {
   "cell_type": "markdown",
   "id": "06baebf5-6a56-4cd1-b48c-aa011ed2f9f6",
   "metadata": {},
   "source": [
    "If your goal is to measure how well the SVM regression models with different kernels explain the variance in the target variable, the most appropriate evaluation metric to use is R-squared (Coefficient of Determination). R-squared quantifies the proportion of the variance in the target variable that is explained by the model's predictions."
   ]
  },
  {
   "cell_type": "code",
   "execution_count": null,
   "id": "3d6d038f-58bc-441b-8ed4-98a47516c95d",
   "metadata": {},
   "outputs": [],
   "source": []
  }
 ],
 "metadata": {
  "kernelspec": {
   "display_name": "Python 3 (ipykernel)",
   "language": "python",
   "name": "python3"
  },
  "language_info": {
   "codemirror_mode": {
    "name": "ipython",
    "version": 3
   },
   "file_extension": ".py",
   "mimetype": "text/x-python",
   "name": "python",
   "nbconvert_exporter": "python",
   "pygments_lexer": "ipython3",
   "version": "3.10.8"
  }
 },
 "nbformat": 4,
 "nbformat_minor": 5
}
