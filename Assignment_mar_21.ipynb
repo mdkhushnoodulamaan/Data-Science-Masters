{
 "cells": [
  {
   "cell_type": "markdown",
   "id": "6d7d809b-07c9-4059-a3c4-ba7f05cd7b37",
   "metadata": {},
   "source": [
    "# Assignment"
   ]
  },
  {
   "cell_type": "markdown",
   "id": "308a20d1-1c7d-4b75-a1bc-3d0b14b11ac1",
   "metadata": {},
   "source": [
    "### Ans1)"
   ]
  },
  {
   "cell_type": "markdown",
   "id": "caabb64b-27c0-4ee5-a9d2-43a036259b5a",
   "metadata": {},
   "source": [
    "Ordinal encoding and label encoding are both techniques used in machine learning for transforming categorical data into numerical data, but there are some differences between them.\n",
    "\n",
    "Ordinal encoding involves assigning each unique category in a categorical variable a numerical value based on the order or rank of that category. For example, in a variable with the categories \"low,\" \"medium,\" and \"high,\" we might assign the values 1, 2, and 3, respectively. This technique is useful when there is a natural order to the categories.\n",
    "\n",
    "Label encoding, on the other hand, involves assigning a unique numerical value to each category in a categorical variable, without regard for any order or ranking among the categories. For example, in a variable with the categories \"red,\" \"green,\" and \"blue,\" we might assign the values 1, 2, and 3, respectively."
   ]
  },
  {
   "cell_type": "markdown",
   "id": "b23ae8c5-2dbe-48ac-b393-768b427cec80",
   "metadata": {},
   "source": [
    "### Ans2)"
   ]
  },
  {
   "cell_type": "markdown",
   "id": "00624e50-7c01-4a3e-bbed-3c743e41570a",
   "metadata": {},
   "source": [
    "Target Guided Ordinal Encoding is a technique that involves encoding categorical variables based on the target variable, rather than just the categories themselves. This technique can be useful when we have a categorical variable with many categories and we want to capture the relationship between the categories and the target variable in a more meaningful way.\n",
    "\n",
    "The general idea behind Target Guided Ordinal Encoding is to replace each category with a number that reflects the relationship between that category and the target variable. For example, if we have a binary target variable and a categorical variable with three categories, we might calculate the mean of the target variable for each category, and then assign each category a number based on its mean value.\n",
    "\n",
    "Here's a step-by-step process for performing Target Guided Ordinal Encoding:\n",
    "\n",
    "1) Group the categorical variable by its unique values.\n",
    "\n",
    "2) Calculate the mean of the target variable for each group.\n",
    "\n",
    "3) Sort the groups by their mean target value.\n",
    "\n",
    "4) Assign each group a unique integer value based on its rank.\n",
    "\n",
    "For example, suppose we have a dataset with a categorical variable called \"city\" and a binary target variable called \"is_fraud.\" We can perform Target Guided Ordinal Encoding on the \"city\" variable as follows:\n",
    "\n",
    "1) Group the dataset by the unique values of \"city\": New York, Los Angeles, Chicago, and Houston.\n",
    "\n",
    "2) Calculate the mean of \"is_fraud\" for each group:\n",
    "\n",
    "New York: 0.1\n",
    "\n",
    "Los Angeles: 0.05\n",
    "\n",
    "Chicago: 0.02\n",
    "\n",
    "Houston: 0.01\n",
    "\n",
    "3) Sort the groups by their mean target value:\n",
    "\n",
    "4) New York\n",
    "\n",
    "5) Los Angeles\n",
    "\n",
    "6) Chicago\n",
    "\n",
    "7) Houston\n",
    "\n",
    "8) Assign each group a unique integer value based on its rank:\n",
    "New York: 4\n",
    "\n",
    "Los Angeles: 3\n",
    "\n",
    "Chicago: 2\n",
    "\n",
    "Houston: 1\n",
    "\n",
    "In this example, we've assigned a higher value to cities with a higher mean rate of fraud, so the encoding reflects the relationship between the \"city\" variable and the target variable in a meaningful way"
   ]
  },
  {
   "cell_type": "markdown",
   "id": "f840cc54-4a74-4aaf-a3e0-3418872eb93a",
   "metadata": {},
   "source": [
    "### Ans3)"
   ]
  },
  {
   "cell_type": "markdown",
   "id": "8b2a21db-3461-4ed3-8c23-a820b1ae748d",
   "metadata": {},
   "source": [
    "Covariance is a statistical measure that describes the relationship between two variables. Specifically, it measures how much two variables change together: when one variable increases, does the other variable tend to increase or decrease as well? A positive covariance means that the variables tend to move in the same direction, while a negative covariance means that they tend to move in opposite directions.\n",
    "\n",
    "Covariance is important in statistical analysis because it allows us to understand the degree of association between two variables. If two variables have a high positive covariance, we can infer that they are strongly related and tend to increase or decrease together. On the other hand, if two variables have a high negative covariance, we can infer that they are inversely related and tend to move in opposite directions.\n",
    "\n",
    "Covariance is calculated using the following formula:\n",
    "\n",
    "Cov(X,Y) = Σ[(X - μx)(Y - μy)] / (n - 1)\n",
    "\n",
    "where X and Y are the variables being analyzed, μx and μy are their respective means, and n is the sample size. The formula subtracts the mean of each variable from each observation, multiplies the differences together, and then averages the results. A positive result indicates a positive covariance, while a negative result indicates a negative covariance."
   ]
  },
  {
   "cell_type": "markdown",
   "id": "db6d0018-944a-4370-a3de-ef29b1da14f0",
   "metadata": {},
   "source": [
    "### Ans4)"
   ]
  },
  {
   "cell_type": "code",
   "execution_count": 2,
   "id": "9852b0af-f9d2-406c-b7d3-485758f61fc5",
   "metadata": {},
   "outputs": [],
   "source": [
    "import pandas as pd \n",
    "from sklearn.preprocessing import LabelEncoder"
   ]
  },
  {
   "cell_type": "code",
   "execution_count": 33,
   "id": "d2badae3-438e-4767-8110-b0fa0253be43",
   "metadata": {},
   "outputs": [],
   "source": [
    "df = pd.DataFrame({'Color':['red','green','blue'],\n",
    "        'Size':['small','medium','large'],\n",
    "        'Material':['wood','metal','plastic']\n",
    "       })"
   ]
  },
  {
   "cell_type": "code",
   "execution_count": 34,
   "id": "0ebc6fbe-0935-4cc1-9247-336911fc24b5",
   "metadata": {},
   "outputs": [
    {
     "data": {
      "text/html": [
       "<div>\n",
       "<style scoped>\n",
       "    .dataframe tbody tr th:only-of-type {\n",
       "        vertical-align: middle;\n",
       "    }\n",
       "\n",
       "    .dataframe tbody tr th {\n",
       "        vertical-align: top;\n",
       "    }\n",
       "\n",
       "    .dataframe thead th {\n",
       "        text-align: right;\n",
       "    }\n",
       "</style>\n",
       "<table border=\"1\" class=\"dataframe\">\n",
       "  <thead>\n",
       "    <tr style=\"text-align: right;\">\n",
       "      <th></th>\n",
       "      <th>Color</th>\n",
       "      <th>Size</th>\n",
       "      <th>Material</th>\n",
       "    </tr>\n",
       "  </thead>\n",
       "  <tbody>\n",
       "    <tr>\n",
       "      <th>0</th>\n",
       "      <td>red</td>\n",
       "      <td>small</td>\n",
       "      <td>wood</td>\n",
       "    </tr>\n",
       "    <tr>\n",
       "      <th>1</th>\n",
       "      <td>green</td>\n",
       "      <td>medium</td>\n",
       "      <td>metal</td>\n",
       "    </tr>\n",
       "    <tr>\n",
       "      <th>2</th>\n",
       "      <td>blue</td>\n",
       "      <td>large</td>\n",
       "      <td>plastic</td>\n",
       "    </tr>\n",
       "  </tbody>\n",
       "</table>\n",
       "</div>"
      ],
      "text/plain": [
       "   Color    Size Material\n",
       "0    red   small     wood\n",
       "1  green  medium    metal\n",
       "2   blue   large  plastic"
      ]
     },
     "execution_count": 34,
     "metadata": {},
     "output_type": "execute_result"
    }
   ],
   "source": [
    "df"
   ]
  },
  {
   "cell_type": "code",
   "execution_count": 35,
   "id": "779b0c01-b213-4cb7-bd5a-7b3652fa4d25",
   "metadata": {},
   "outputs": [],
   "source": [
    "encoder=LabelEncoder()"
   ]
  },
  {
   "cell_type": "code",
   "execution_count": 36,
   "id": "c734f0a7-4978-46c5-a8c4-8692da62bd3c",
   "metadata": {},
   "outputs": [],
   "source": [
    "df['Color']=encoder.fit_transform(df['Color'])"
   ]
  },
  {
   "cell_type": "code",
   "execution_count": 37,
   "id": "aae08fee-8788-4e54-a981-2dd16aa0447e",
   "metadata": {},
   "outputs": [
    {
     "data": {
      "text/plain": [
       "array([2, 1, 0])"
      ]
     },
     "execution_count": 37,
     "metadata": {},
     "output_type": "execute_result"
    }
   ],
   "source": [
    "encoded"
   ]
  },
  {
   "cell_type": "code",
   "execution_count": 38,
   "id": "b5b5c378-b916-4928-8eb2-7a5098d38466",
   "metadata": {},
   "outputs": [],
   "source": [
    "df['Size']=encoder.fit_transform(df['Size'])"
   ]
  },
  {
   "cell_type": "code",
   "execution_count": 39,
   "id": "75fb306a-a11a-4c0f-b575-c35281e70e5d",
   "metadata": {},
   "outputs": [],
   "source": [
    "df['Material'] = encoder.fit_transform(df['Material'])"
   ]
  },
  {
   "cell_type": "code",
   "execution_count": 41,
   "id": "57d286b3-5e48-425a-9c08-75e2640d9fad",
   "metadata": {},
   "outputs": [
    {
     "name": "stdout",
     "output_type": "stream",
     "text": [
      "   Color  Size  Material\n",
      "0      2     2         2\n",
      "1      1     1         0\n",
      "2      0     0         1\n"
     ]
    }
   ],
   "source": [
    "print(df)"
   ]
  },
  {
   "cell_type": "markdown",
   "id": "3946c1f0-95b6-43ec-a104-e63d6de504f6",
   "metadata": {},
   "source": [
    "The LabelEncoder object is used to encode each categorical variable as an integer. The fit_transform() method is called on each variable to both fit the encoder on the variable and transform it into encoded integers.\n",
    "\n",
    "The resulting encoded integers range from 0 to n-1, where n is the number of unique categories in each variable. For example, the 'Color' variable has three unique categories, so it is encoded as 0, 1, and 2. The 'Size' variable has three unique categories, so it is encoded as 0, 1, and 2. Finally, the 'Material' variable has three unique categories, so it is also encoded as 0, 1, and 2."
   ]
  },
  {
   "cell_type": "markdown",
   "id": "a451b6c2-7048-4cba-a06d-5bcfb3f8c7ec",
   "metadata": {},
   "source": [
    "### Ans5)"
   ]
  },
  {
   "cell_type": "code",
   "execution_count": 42,
   "id": "d710b77f-b815-4a01-8937-4f16c419ceca",
   "metadata": {},
   "outputs": [
    {
     "name": "stdout",
     "output_type": "stream",
     "text": [
      "[[3.53e+01 7.15e+04 8.40e+00]\n",
      " [7.15e+04 1.45e+08 1.70e+04]\n",
      " [8.40e+00 1.70e+04 2.20e+00]]\n"
     ]
    }
   ],
   "source": [
    "import numpy as np\n",
    "\n",
    "# create a dataset with Age, Income, and Education level\n",
    "age = [30, 40, 25, 35, 28]\n",
    "income = [50000, 70000, 40000, 60000, 45000]\n",
    "education = [16, 18, 14, 16, 15]\n",
    "\n",
    "# stack the variables into a matrix\n",
    "data = np.stack([age, income, education], axis=0)\n",
    "\n",
    "# calculate the covariance matrix\n",
    "covariance_matrix = np.cov(data)\n",
    "\n",
    "print(covariance_matrix)"
   ]
  },
  {
   "cell_type": "markdown",
   "id": "053e1a94-8db1-4eeb-9b2d-3819334dc479",
   "metadata": {},
   "source": [
    "The diagonal elements represent the variances of each variable. For example, the variance of Age is 33.5, the variance of Income is 3.25e+09 (3.25 * 10^9), and the variance of Education level is 1.3.\n",
    "\n",
    "The off-diagonal elements represent the covariances between each pair of variables"
   ]
  },
  {
   "cell_type": "markdown",
   "id": "37616a16-1903-4c85-bbcf-33b27149f80d",
   "metadata": {},
   "source": [
    "### Ans6)"
   ]
  },
  {
   "cell_type": "markdown",
   "id": "4abb6f44-eb9d-4101-b56e-0ae59fb9b0c5",
   "metadata": {},
   "source": [
    "\n",
    "For encoding categorical variables in a machine learning project, there are several methods to choose from. The choice of method depends on the nature of the variable, the number of categories, and the algorithm being used. Here are some encoding methods that could be used for the given categorical variables:\n",
    "\n",
    "1) Gender: Since this is a binary categorical variable with two categories (Male and Female), we could use binary encoding. Binary encoding assigns a unique binary code (0 or 1) to each category of the variable. For example, we could encode Male as 0 and Female as 1.\n",
    "\n",
    "2) Education Level: Since this is an ordinal categorical variable with multiple categories that have an inherent order (High School < Bachelor's < Master's < PhD), we could use ordinal encoding. Ordinal encoding assigns a unique numerical code to each category of the variable based on its order. For example, we could encode High School as 1, Bachelor's as 2, Master's as 3, and PhD as 4.\n",
    "\n",
    "3) Employment Status: Since this is a nominal categorical variable with multiple categories that have no inherent order, we could use one-hot encoding. One-hot encoding creates a new binary variable for each category of the variable, with a value of 1 indicating the presence of that category and 0 indicating the absence. For example, we could create three binary variables: Unemployed (encoded as 1 for unemployed observations and 0 otherwise), Part-Time (encoded as 1 for part-time observations and 0 otherwise), and Full-Time (encoded as 1 for full-time observations and 0 otherwise)."
   ]
  },
  {
   "cell_type": "markdown",
   "id": "dcf057e3-6831-4fb1-99f0-8a87757e8ad5",
   "metadata": {},
   "source": [
    "### Ans7)"
   ]
  },
  {
   "cell_type": "code",
   "execution_count": 2,
   "id": "1928cbcd-59ab-4277-b376-4a12ba0eaacd",
   "metadata": {},
   "outputs": [
    {
     "data": {
      "text/html": [
       "<div>\n",
       "<style scoped>\n",
       "    .dataframe tbody tr th:only-of-type {\n",
       "        vertical-align: middle;\n",
       "    }\n",
       "\n",
       "    .dataframe tbody tr th {\n",
       "        vertical-align: top;\n",
       "    }\n",
       "\n",
       "    .dataframe thead th {\n",
       "        text-align: right;\n",
       "    }\n",
       "</style>\n",
       "<table border=\"1\" class=\"dataframe\">\n",
       "  <thead>\n",
       "    <tr style=\"text-align: right;\">\n",
       "      <th></th>\n",
       "      <th>Tempreture</th>\n",
       "      <th>Humidity</th>\n",
       "      <th>Weather Condition</th>\n",
       "      <th>Wind Direction</th>\n",
       "    </tr>\n",
       "  </thead>\n",
       "  <tbody>\n",
       "    <tr>\n",
       "      <th>0</th>\n",
       "      <td>50</td>\n",
       "      <td>50</td>\n",
       "      <td>Sunny</td>\n",
       "      <td>North</td>\n",
       "    </tr>\n",
       "    <tr>\n",
       "      <th>1</th>\n",
       "      <td>32</td>\n",
       "      <td>90</td>\n",
       "      <td>Cloudy</td>\n",
       "      <td>South</td>\n",
       "    </tr>\n",
       "    <tr>\n",
       "      <th>2</th>\n",
       "      <td>43</td>\n",
       "      <td>40</td>\n",
       "      <td>Rainy</td>\n",
       "      <td>East</td>\n",
       "    </tr>\n",
       "    <tr>\n",
       "      <th>3</th>\n",
       "      <td>55</td>\n",
       "      <td>55</td>\n",
       "      <td>Sunny</td>\n",
       "      <td>South</td>\n",
       "    </tr>\n",
       "    <tr>\n",
       "      <th>4</th>\n",
       "      <td>34</td>\n",
       "      <td>28</td>\n",
       "      <td>Cloudy</td>\n",
       "      <td>West</td>\n",
       "    </tr>\n",
       "  </tbody>\n",
       "</table>\n",
       "</div>"
      ],
      "text/plain": [
       "   Tempreture  Humidity Weather Condition Wind Direction\n",
       "0          50        50             Sunny          North\n",
       "1          32        90            Cloudy          South\n",
       "2          43        40             Rainy           East\n",
       "3          55        55             Sunny          South\n",
       "4          34        28            Cloudy           West"
      ]
     },
     "execution_count": 2,
     "metadata": {},
     "output_type": "execute_result"
    }
   ],
   "source": [
    "import pandas as pd\n",
    "import numpy as np\n",
    "\n",
    "df=pd.DataFrame({\n",
    "    'Tempreture':[50,32,43,55,34],\n",
    "    'Humidity':[50,90,40,55,28],\n",
    "    'Weather Condition': ['Sunny', 'Cloudy', 'Rainy','Sunny', 'Cloudy'],\n",
    "    'Wind Direction': ['North', 'South', 'East','South', 'West']\n",
    "})\n",
    "df.head()"
   ]
  },
  {
   "cell_type": "code",
   "execution_count": 3,
   "id": "d5ead70b-5ce0-4b70-99fb-3ed39f80ec42",
   "metadata": {},
   "outputs": [
    {
     "data": {
      "text/html": [
       "<div>\n",
       "<style scoped>\n",
       "    .dataframe tbody tr th:only-of-type {\n",
       "        vertical-align: middle;\n",
       "    }\n",
       "\n",
       "    .dataframe tbody tr th {\n",
       "        vertical-align: top;\n",
       "    }\n",
       "\n",
       "    .dataframe thead th {\n",
       "        text-align: right;\n",
       "    }\n",
       "</style>\n",
       "<table border=\"1\" class=\"dataframe\">\n",
       "  <thead>\n",
       "    <tr style=\"text-align: right;\">\n",
       "      <th></th>\n",
       "      <th>Tempreture</th>\n",
       "      <th>Humidity</th>\n",
       "      <th>Weather Con Encoded</th>\n",
       "      <th>Wind Dir Encoded</th>\n",
       "    </tr>\n",
       "  </thead>\n",
       "  <tbody>\n",
       "    <tr>\n",
       "      <th>0</th>\n",
       "      <td>50</td>\n",
       "      <td>50</td>\n",
       "      <td>2</td>\n",
       "      <td>1</td>\n",
       "    </tr>\n",
       "    <tr>\n",
       "      <th>1</th>\n",
       "      <td>32</td>\n",
       "      <td>90</td>\n",
       "      <td>0</td>\n",
       "      <td>2</td>\n",
       "    </tr>\n",
       "    <tr>\n",
       "      <th>2</th>\n",
       "      <td>43</td>\n",
       "      <td>40</td>\n",
       "      <td>1</td>\n",
       "      <td>0</td>\n",
       "    </tr>\n",
       "    <tr>\n",
       "      <th>3</th>\n",
       "      <td>55</td>\n",
       "      <td>55</td>\n",
       "      <td>2</td>\n",
       "      <td>2</td>\n",
       "    </tr>\n",
       "    <tr>\n",
       "      <th>4</th>\n",
       "      <td>34</td>\n",
       "      <td>28</td>\n",
       "      <td>0</td>\n",
       "      <td>3</td>\n",
       "    </tr>\n",
       "  </tbody>\n",
       "</table>\n",
       "</div>"
      ],
      "text/plain": [
       "   Tempreture  Humidity  Weather Con Encoded  Wind Dir Encoded\n",
       "0          50        50                    2                 1\n",
       "1          32        90                    0                 2\n",
       "2          43        40                    1                 0\n",
       "3          55        55                    2                 2\n",
       "4          34        28                    0                 3"
      ]
     },
     "execution_count": 3,
     "metadata": {},
     "output_type": "execute_result"
    }
   ],
   "source": [
    "from sklearn.preprocessing import LabelEncoder\n",
    "encoder=LabelEncoder()\n",
    "\n",
    "weather_encoded= encoder.fit_transform(df['Weather Condition'])\n",
    "wind_encoded = encoder.fit_transform(df['Wind Direction'])\n",
    "\n",
    "list(weather_encoded)\n",
    "\n",
    "df_encoded= pd.DataFrame({\n",
    "    'Weather Con Encoded':list(weather_encoded),\n",
    "    'Wind Dir Encoded':list(wind_encoded)\n",
    "})\n",
    "\n",
    "df_new = pd.concat([df,df_encoded],axis=1)\n",
    "df_new = df_new.drop('Weather Condition',axis=1)\n",
    "df_new = df_new.drop(\"Wind Direction\",axis=1)\n",
    "\n",
    "df_new\n"
   ]
  },
  {
   "cell_type": "code",
   "execution_count": 9,
   "id": "36f5fe66-977a-4f71-8595-2e8257a7af86",
   "metadata": {},
   "outputs": [
    {
     "name": "stdout",
     "output_type": "stream",
     "text": [
      "Covariance between Temprature & Humidity-44.85\n",
      "Covariance between Weather Condition & Wind Direction-0.5\n"
     ]
    }
   ],
   "source": [
    "## Covariance between Temprature & Hhumidity\n",
    "cov_1= df_new['Tempreture'].cov(df_new['Humidity'])\n",
    "## Covariance between Weather Condition and Wind Direction\n",
    "cov_2= df_new['Weather Con Encoded'].cov(df_new['Wind Dir Encoded'])\n",
    "\n",
    "print(f\"Covariance between Temprature & Humidity{cov_1}\")\n",
    "print(f\"Covariance between Weather Condition & Wind Direction{cov_2}\")"
   ]
  },
  {
   "cell_type": "code",
   "execution_count": null,
   "id": "f0eb0012-fd31-4edf-9deb-091504bef839",
   "metadata": {},
   "outputs": [],
   "source": []
  }
 ],
 "metadata": {
  "kernelspec": {
   "display_name": "Python 3 (ipykernel)",
   "language": "python",
   "name": "python3"
  },
  "language_info": {
   "codemirror_mode": {
    "name": "ipython",
    "version": 3
   },
   "file_extension": ".py",
   "mimetype": "text/x-python",
   "name": "python",
   "nbconvert_exporter": "python",
   "pygments_lexer": "ipython3",
   "version": "3.10.8"
  }
 },
 "nbformat": 4,
 "nbformat_minor": 5
}
